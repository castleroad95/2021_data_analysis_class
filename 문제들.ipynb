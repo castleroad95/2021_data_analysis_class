{
 "cells": [
  {
   "cell_type": "code",
   "execution_count": 3,
   "metadata": {},
   "outputs": [
    {
     "name": "stdout",
     "output_type": "stream",
     "text": [
      "234168\n"
     ]
    }
   ],
   "source": [
    "tot=0                       # 합을 입력할 변수 tot초기값을 0으로 지정\n",
    "for i in range(1,1001):     # for문을 사용하여 1부터 1000까지 돌림\n",
    "    if i%3==0 or i%5==0:   # i가 1 부터 1000까지 숫자 중 3또는 5로 나누었을때 나머지가 0이되는 경우에 tot에 i를 더함\n",
    "        tot+=i              \n",
    "\n",
    "print(tot)"
   ]
  },
  {
   "cell_type": "code",
   "execution_count": 4,
   "metadata": {},
   "outputs": [
    {
     "name": "stdout",
     "output_type": "stream",
     "text": [
      "234168\n"
     ]
    }
   ],
   "source": [
    "tot=0\n",
    "i=1\n",
    "while i<1001:              # while문을 사용하여 i가 1001 미만일때까지 반복\n",
    "    if i%3==0 or i%5==0:   # i가 1 부터 1000까지 숫자 중 3또는 5로 나누었을때 나머지가 0이되는 경우에 tot에 i를 더함\n",
    "        tot+=i\n",
    "    i+=1                    # 반복할때 마다 i값을 1씩 증가\n",
    "\n",
    "print(tot)"
   ]
  },
  {
   "cell_type": "code",
   "execution_count": 9,
   "metadata": {},
   "outputs": [
    {
     "name": "stdout",
     "output_type": "stream",
     "text": [
      "원영 원영 은비 은비 은비 은비 채연 채연\n",
      "은비(이)가 총 4로 반장이 되었습니다.\n"
     ]
    }
   ],
   "source": [
    "l=list(input().split())\n",
    "l_set=set(l)\n",
    "cnt=0\n",
    "for i in l_set:\n",
    "    if l.count(i)>cnt:\n",
    "        cnt=l.count(i)\n",
    "        tmp=i\n",
    "\n",
    "print('{0}(이)가 총 {1}로 반장이 되었습니다.'.format(tmp,cnt))"
   ]
  },
  {
   "cell_type": "code",
   "execution_count": 14,
   "metadata": {},
   "outputs": [
    {
     "name": "stdout",
     "output_type": "stream",
     "text": [
      "querty\n",
      "euerty\n"
     ]
    }
   ],
   "source": [
    "n=input()\n",
    "n=n.replace('q','e')\n",
    "print(n)"
   ]
  },
  {
   "cell_type": "code",
   "execution_count": 29,
   "metadata": {},
   "outputs": [
    {
     "name": "stdout",
     "output_type": "stream",
     "text": [
      "2\n",
      "NO\n"
     ]
    }
   ],
   "source": [
    "n=int(input())\n",
    "f='YES'\n",
    "for i in range(2,n):\n",
    "    if n%i==0:\n",
    "        f='NO'\n",
    "        break\n",
    "if n==1:\n",
    "    f='NO'\n",
    "\n",
    "print(f)"
   ]
  },
  {
   "cell_type": "markdown",
   "metadata": {},
   "source": [
    "n=int(input())\n",
    "cnt=0\n",
    "for i in range(1,n+1):\n",
    "    if n%i==0:\n",
    "        cnt+=1\n",
    "if cnt==2:\n",
    "    print('YES')\n",
    "else:\n",
    "    print('NO')"
   ]
  },
  {
   "cell_type": "code",
   "execution_count": 32,
   "metadata": {},
   "outputs": [
    {
     "name": "stdout",
     "output_type": "stream",
     "text": [
      "10\n",
      "[2, 3, 5, 7]\n"
     ]
    }
   ],
   "source": [
    "n=int(input())\n",
    "l=[0]*(n+1)\n",
    "ans=[]\n",
    "for i in range(2,n+1):\n",
    "    if l[i]==0:\n",
    "        ans.append(i)  \n",
    "    for j in range(i,n+1,i):\n",
    "        l[j]=1\n",
    "print(ans)"
   ]
  },
  {
   "cell_type": "code",
   "execution_count": 34,
   "metadata": {},
   "outputs": [
    {
     "name": "stdout",
     "output_type": "stream",
     "text": [
      "3849\n",
      "24\n"
     ]
    }
   ],
   "source": [
    "num=input()\n",
    "tot=0\n",
    "for i in num:\n",
    "    tot+=int(i)\n",
    "print(tot)"
   ]
  },
  {
   "cell_type": "code",
   "execution_count": 38,
   "metadata": {},
   "outputs": [
    {
     "name": "stdout",
     "output_type": "stream",
     "text": [
      "1234\n",
      "10\n"
     ]
    }
   ],
   "source": [
    "print(sum(map(int,input())))"
   ]
  },
  {
   "cell_type": "code",
   "execution_count": 54,
   "metadata": {},
   "outputs": [
    {
     "name": "stdout",
     "output_type": "stream",
     "text": [
      "102\n"
     ]
    }
   ],
   "source": [
    "l=[]\n",
    "tot=0\n",
    "for i in range(1,21):\n",
    "    l.append(str(i))\n",
    "a=''.join(l)\n",
    "\n",
    "for j in a:\n",
    "    tot+=int(j)\n",
    "print(tot)"
   ]
  },
  {
   "cell_type": "code",
   "execution_count": 59,
   "metadata": {},
   "outputs": [
    {
     "name": "stdout",
     "output_type": "stream",
     "text": [
      "102\n"
     ]
    }
   ],
   "source": [
    "l=''\n",
    "for i in range(1,21):\n",
    "    l+=str(i)\n",
    "\n",
    "print(sum(map(int,l)))"
   ]
  },
  {
   "cell_type": "code",
   "execution_count": 62,
   "metadata": {},
   "outputs": [
    {
     "name": "stdout",
     "output_type": "stream",
     "text": [
      "20\n",
      "102\n"
     ]
    }
   ],
   "source": [
    "l=''\n",
    "for i in range(1,int(input())+1):\n",
    "    l+=str(i)\n",
    "\n",
    "print(sum(map(int,l)))"
   ]
  },
  {
   "cell_type": "code",
   "execution_count": 1,
   "metadata": {},
   "outputs": [
    {
     "name": "stdout",
     "output_type": "stream",
     "text": [
      "17\n"
     ]
    }
   ],
   "source": [
    "def call(v1=20,v2=5,v3=2):\n",
    "    print((v1*v2)-v3)\n",
    "    \n",
    "call(v2=5,v3=3,v1=4)"
   ]
  },
  {
   "cell_type": "code",
   "execution_count": 4,
   "metadata": {},
   "outputs": [
    {
     "name": "stdout",
     "output_type": "stream",
     "text": [
      "x\n",
      "y\n"
     ]
    }
   ],
   "source": [
    "x={'x':1,'y':2}\n",
    "for i in x:\n",
    "    print(i)"
   ]
  },
  {
   "cell_type": "code",
   "execution_count": 5,
   "metadata": {},
   "outputs": [
    {
     "name": "stdout",
     "output_type": "stream",
     "text": [
      "n=11\n",
      "true\n"
     ]
    }
   ],
   "source": [
    "n=int(input('n='))      # n값을 입력\n",
    "f='true'                # 변수f값을 false로 초기화\n",
    "for i in range(2,n):   # 2부터 n-1값까지 for문을 돌림\n",
    "    if n%i==0:         # n을 i(2부터 n-1값)으로 나눈 나머지가 0이면\n",
    "        f='false'      # f를 flase로 바꿈\n",
    "        break         # 하나라도 값이 나눠짐으로 소수가 아니기 때문에 바로 break함\n",
    "if n==1:              # 예외로 n이 1일경우\n",
    "    f='false'          # f를 바로 false로 바꿈\n",
    "\n",
    "print(f)               # f값 출력"
   ]
  },
  {
   "cell_type": "code",
   "execution_count": 8,
   "metadata": {},
   "outputs": [
    {
     "name": "stdout",
     "output_type": "stream",
     "text": [
      "n=1\n",
      "false\n"
     ]
    }
   ],
   "source": [
    "n=int(input('n='))      # n값을 입력\n",
    "cnt=0                   # cnt를 0으로 초기화\n",
    "for i in range(1,n+1):  # 1부터 n값까지 for문을 돌림\n",
    "    if n%i==0:         # n을 i(1부터 n값)으로 나눈 나머지가 0이면\n",
    "        cnt+=1         # cnt를 1씩 더함       \n",
    "if cnt==2:             # cnt가 2이면(즉 자기 자신과 1일경우) 소수임으로\n",
    "    print('true')      # true출력\n",
    "else:                  # 그 이외의 값은\n",
    "    print('false')     # false 출력"
   ]
  },
  {
   "cell_type": "code",
   "execution_count": 13,
   "metadata": {},
   "outputs": [
    {
     "name": "stdout",
     "output_type": "stream",
     "text": [
      "n=15\n",
      "false\n"
     ]
    }
   ],
   "source": [
    "n=int(input('n='))           # n값을 입력\n",
    "\n",
    "l=[0]*(n+1)                 # l 리스트를 0으로 index 0부터 n까지 생성\n",
    "ans=[]                      # ans 리스트 생성\n",
    "for i in range(2,n+1):     # i값을 2부터 n까지 for문 돌림\n",
    "    if l[i]==0:            # 만약 l[i]값이 0이면\n",
    "        ans.append(i)         # l[i]값을 ans에 삽입\n",
    "    for j in range(i,n+1,i):   # i부터 n까지 i 씩 커지면서(즉 n까지의 i의 배수들)\n",
    "        l[j]=1                 #l[j]값을 1로 변환\n",
    "\n",
    "if n in ans:                  # 만약 n값이 ans(소수)에 있다면\n",
    "    print('true')            # ture 출력\n",
    "else:                        # n 값이 반대로 ans에 없다면\n",
    "    print('false')           #false출력"
   ]
  },
  {
   "cell_type": "code",
   "execution_count": 1,
   "metadata": {},
   "outputs": [
    {
     "name": "stdout",
     "output_type": "stream",
     "text": [
      "Enter a number: 43\n",
      "43 is Odd\n"
     ]
    }
   ],
   "source": [
    "n=int(input('Enter a number: '))   #숫자 입력받기\n",
    "\n",
    "if n%2==0:         #숫자 나눈값의 나머지가 0이면\n",
    "    print('{} is Even'.format(n))   # 짝수 출력\n",
    "else:             # 그 이외에는\n",
    "    print('{} is Odd'.format(n))    # 홀수 출력"
   ]
  },
  {
   "cell_type": "code",
   "execution_count": 3,
   "metadata": {},
   "outputs": [
    {
     "name": "stdout",
     "output_type": "stream",
     "text": [
      "Enter a number: 18\n",
      "18 is Even\n"
     ]
    }
   ],
   "source": [
    "n=input('Enter a number: ')   #숫자 입력받기\n",
    "last_num=[0,2,4,6,8]         #끝자리 리스트 만들기\n",
    "\n",
    "if int(n[-1]) in last_num:         #숫자 맨 마지막 자리가 last_num에 있는 숫자라면\n",
    "    print('{} is Even'.format(n))   # 짝수 출력\n",
    "else:             # 그 이외에는\n",
    "    print('{} is Odd'.format(n))    # 홀수 출력"
   ]
  },
  {
   "cell_type": "code",
   "execution_count": 13,
   "metadata": {},
   "outputs": [],
   "source": [
    "def myfunc(*args):\n",
    "    for a in args:\n",
    "        print(a,end='')\n",
    "    if args:\n",
    "        print()\n",
    "\n",
    "def myfunc2(**kwargs):\n",
    "    for k,v in kwargs.items():\n",
    "        print(k,v,sep='->',end=' ')\n",
    "    if kwargs:\n",
    "        print()\n",
    "\n",
    "def myfunc3(*args, **kwargs):\n",
    "    if args:\n",
    "        for a in args:\n",
    "            print(a,end=' ')\n",
    "        print()\n",
    "    if kwargs:\n",
    "        for k, v in kwargs.items():\n",
    "            print(k,v,sep='->',end=' ')\n",
    "        print()\n"
   ]
  },
  {
   "cell_type": "code",
   "execution_count": 8,
   "metadata": {},
   "outputs": [],
   "source": [
    "myfunc3()"
   ]
  },
  {
   "cell_type": "code",
   "execution_count": 10,
   "metadata": {},
   "outputs": [
    {
     "name": "stdout",
     "output_type": "stream",
     "text": [
      "1 2 3 \n"
     ]
    }
   ],
   "source": [
    "myfunc3(1,2,3)"
   ]
  },
  {
   "cell_type": "code",
   "execution_count": 15,
   "metadata": {},
   "outputs": [
    {
     "name": "stdout",
     "output_type": "stream",
     "text": [
      "a->10 b->20 c->30 \n"
     ]
    }
   ],
   "source": [
    "myfunc3(a=10,b=20,c=30)"
   ]
  },
  {
   "cell_type": "code",
   "execution_count": 16,
   "metadata": {},
   "outputs": [
    {
     "name": "stdout",
     "output_type": "stream",
     "text": [
      "1 2 3 \n",
      "a->10 b->20 c->30 \n"
     ]
    }
   ],
   "source": [
    "myfunc3(1,2,3, a=10,b=20,c=30)"
   ]
  },
  {
   "cell_type": "code",
   "execution_count": 19,
   "metadata": {},
   "outputs": [
    {
     "name": "stdout",
     "output_type": "stream",
     "text": [
      "27\n",
      "6115\n",
      "4850\n",
      "4822\n",
      "4836\n",
      "3835\n",
      "3818\n",
      "3831\n",
      "2912\n",
      "2924\n",
      "2515\n",
      "2340\n",
      "1557\n",
      "1510\n",
      "1555\n",
      "1604\n",
      "1556\n",
      "1545\n",
      "4010\n",
      "4033\n",
      "4805\n",
      "4928\n",
      "4807\n",
      "5810\n",
      "5805\n",
      "3936\n",
      "3950\n",
      "4811\n",
      "66.56266666666667\n"
     ]
    }
   ],
   "source": [
    "n=int(input())\n",
    "tot=0\n",
    "for _ in range(n):\n",
    "    a=int(input())\n",
    "    if tot%100+ a%100 >= 60:\n",
    "        tot+=(a//100)*100+100+(tot%100-60)\n",
    "    else:\n",
    "        tot+=a\n",
    "print(tot/6000*4)\n",
    "        "
   ]
  },
  {
   "cell_type": "code",
   "execution_count": 21,
   "metadata": {},
   "outputs": [
    {
     "data": {
      "text/plain": [
       "64.36352"
      ]
     },
     "execution_count": 21,
     "metadata": {},
     "output_type": "execute_result"
    }
   ],
   "source": [
    "66.56*0.967"
   ]
  },
  {
   "cell_type": "code",
   "execution_count": null,
   "metadata": {},
   "outputs": [],
   "source": []
  }
 ],
 "metadata": {
  "kernelspec": {
   "display_name": "Python 3",
   "language": "python",
   "name": "python3"
  },
  "language_info": {
   "codemirror_mode": {
    "name": "ipython",
    "version": 3
   },
   "file_extension": ".py",
   "mimetype": "text/x-python",
   "name": "python",
   "nbconvert_exporter": "python",
   "pygments_lexer": "ipython3",
   "version": "3.7.7"
  }
 },
 "nbformat": 4,
 "nbformat_minor": 4
}
