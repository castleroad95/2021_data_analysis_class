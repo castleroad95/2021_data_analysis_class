{
 "cells": [
  {
   "cell_type": "code",
   "execution_count": 8,
   "id": "fixed-export",
   "metadata": {},
   "outputs": [],
   "source": [
    "weight <- c(74,70,66,61,59)"
   ]
  },
  {
   "cell_type": "code",
   "execution_count": 9,
   "id": "nutritional-distribution",
   "metadata": {},
   "outputs": [
    {
     "data": {
      "text/html": [
       "66"
      ],
      "text/latex": [
       "66"
      ],
      "text/markdown": [
       "66"
      ],
      "text/plain": [
       "[1] 66"
      ]
     },
     "metadata": {},
     "output_type": "display_data"
    }
   ],
   "source": [
    "# mean: 평균\n",
    "mean(weight)"
   ]
  },
  {
   "cell_type": "code",
   "execution_count": 10,
   "id": "surprised-backing",
   "metadata": {},
   "outputs": [
    {
     "data": {
      "text/html": [
       "66"
      ],
      "text/latex": [
       "66"
      ],
      "text/markdown": [
       "66"
      ],
      "text/plain": [
       "[1] 66"
      ]
     },
     "metadata": {},
     "output_type": "display_data"
    }
   ],
   "source": [
    "# median: 중앙값-가운데 값\n",
    "median(weight)"
   ]
  },
  {
   "cell_type": "code",
   "execution_count": 11,
   "id": "artificial-satin",
   "metadata": {},
   "outputs": [
    {
     "data": {
      "text/html": [
       "38.5"
      ],
      "text/latex": [
       "38.5"
      ],
      "text/markdown": [
       "38.5"
      ],
      "text/plain": [
       "[1] 38.5"
      ]
     },
     "metadata": {},
     "output_type": "display_data"
    }
   ],
   "source": [
    "# var: 분산-편차의 제곱의 평균(음수를 없앰으로 얼마나 평균과의 거리를 볼 수 있음) -> 편차의 평균 아니다\n",
    "var(weight)"
   ]
  },
  {
   "cell_type": "code",
   "execution_count": 12,
   "id": "polished-runner",
   "metadata": {},
   "outputs": [
    {
     "data": {
      "text/html": [
       "6.20483682299543"
      ],
      "text/latex": [
       "6.20483682299543"
      ],
      "text/markdown": [
       "6.20483682299543"
      ],
      "text/plain": [
       "[1] 6.204837"
      ]
     },
     "metadata": {},
     "output_type": "display_data"
    }
   ],
   "source": [
    "# sd: 표준편차: 분산에 루트 씌운값 (평균과 차이나는 편차 정도균과 차이나는 편차 정도)\n",
    "sd(weight)"
   ]
  },
  {
   "cell_type": "code",
   "execution_count": 16,
   "id": "extraordinary-tonight",
   "metadata": {},
   "outputs": [],
   "source": [
    "# 정규분포: 평균갑을 중심으로 하여 좌우 대칭의 종 모양의 분포\n",
    "\n",
    "weight <- rnorm(n = 100000, mean = 66, sd = 5) # 평균 66kg, 표준편차 5의 데이터 생성"
   ]
  },
  {
   "cell_type": "code",
   "execution_count": 17,
   "id": "polish-designation",
   "metadata": {},
   "outputs": [
    {
     "data": {
      "image/png": "[encoded data removed]",
      "text/plain": [
       "Plot with title \"Histogram of weight\""
      ]
     },
     "metadata": {},
     "output_type": "display_data"
    }
   ],
   "source": [
    "hist(weight, breaks = 100, freq = FALSE) # 히스토그램 그리기"
   ]
  },
  {
   "cell_type": "code",
   "execution_count": 26,
   "id": "rising-grove",
   "metadata": {},
   "outputs": [
    {
     "ename": "ERROR",
     "evalue": "Error in plot.xy(xy.coords(x, y), type = type, ...): plot.new has not been called yet\n",
     "output_type": "error",
     "traceback": [
      "Error in plot.xy(xy.coords(x, y), type = type, ...): plot.new has not been called yet\nTraceback:\n",
      "1. lines(density(weight))",
      "2. lines.default(density(weight))",
      "3. plot.xy(xy.coords(x, y), type = type, ...)"
     ]
    }
   ],
   "source": [
    "# 귀무 가설: 원하는 가설을 증명하기 위해 기각해야하는 가설\n",
    "# 대립 가설: 귀무개설과 반대 가설로 검증하고 싶은 가설\n",
    "# 유의수준: 가설 검정을 할 때 표본 자료에서 얻은 검정 통계량이 기각역에 들어올 확률\n",
    "# 유의 확률(p-value): 귀무가설을 지지하는 정도 -> 낮아질수록 귀무가설을 기각한다 -> 통계적으로 유의미"
   ]
  },
  {
   "cell_type": "code",
   "execution_count": 27,
   "id": "creative-malpractice",
   "metadata": {},
   "outputs": [
    {
     "data": {
      "text/plain": [
       "\n",
       "\tOne Sample t-test\n",
       "\n",
       "data:  test2\n",
       "t = 3.5149, df = 9, p-value = 0.006568\n",
       "alternative hypothesis: true mean is not equal to 65\n",
       "95 percent confidence interval:\n",
       " 69.38389 85.21611\n",
       "sample estimates:\n",
       "mean of x \n",
       "     77.3 \n"
      ]
     },
     "metadata": {},
     "output_type": "display_data"
    }
   ],
   "source": [
    "# t-검정\n",
    "\n",
    "test2 <- c(89, 70, 83, 60, 75, 60, 92, 84, 80, 80)     # 표본 집단\n",
    "t.test(test2, mu = 65)                                 # t-test\n",
    "\n",
    "\n",
    "#표본 집단의 평균은 77.3kg이고, 검정을 실시한 결과 유의 확률은 0.65%(0.0065)가 나왔습니다. t검정 결과, 유의 수준 5%보다 작은 검정 통계량이므로 귀무 가설을 기각할 수 있습니다. 즉, ‘몸무게 평균은 65kg이다’는 가설을 기각하게 됩니다. 65kg이 아닌 다른 값이 평균 몸무게라는 의미입니다."
   ]
  },
  {
   "cell_type": "code",
   "execution_count": 1,
   "id": "ignored-revolution",
   "metadata": {},
   "outputs": [
    {
     "name": "stderr",
     "output_type": "stream",
     "text": [
      "\n",
      "Attaching package: 'dplyr'\n",
      "\n",
      "The following objects are masked from 'package:stats':\n",
      "\n",
      "    filter, lag\n",
      "\n",
      "The following objects are masked from 'package:base':\n",
      "\n",
      "    intersect, setdiff, setequal, union\n",
      "\n",
      "Registered S3 methods overwritten by 'ggplot2':\n",
      "  method         from \n",
      "  [.quosures     rlang\n",
      "  c.quosures     rlang\n",
      "  print.quosures rlang\n"
     ]
    }
   ],
   "source": [
    "library(readxl)\n",
    "library(dplyr)\n",
    "library(ggplot2)\n",
    "\n",
    "customer_r <- read_excel(\"customer_r.xlsx\")\n",
    "reservation_r <- read_excel(\"reservation_r.xlsx\")\n",
    "order_info_r <- read_excel(\"order_info_r.xlsx\")\n",
    "item_r <- read_excel(\"item_r.xlsx\")\n",
    "\n",
    "\n",
    "colnames(customer_r) <- tolower(colnames(customer_r))\n",
    "colnames(reservation_r) <- tolower(colnames(reservation_r))\n",
    "colnames(order_info_r) <- tolower(colnames(order_info_r))\n",
    "colnames(item_r) <- tolower(colnames(item_r))"
   ]
  },
  {
   "cell_type": "code",
   "execution_count": 2,
   "id": "adjustable-tours",
   "metadata": {},
   "outputs": [
    {
     "data": {
      "text/html": [
       "<table>\n",
       "<thead><tr><th scope=col>customer_id</th><th scope=col>customer_name</th><th scope=col>phone_number</th><th scope=col>email</th><th scope=col>first_reg_date</th><th scope=col>sex_code</th><th scope=col>birth</th><th scope=col>job</th><th scope=col>zip_code</th></tr></thead>\n",
       "<tbody>\n",
       "\t<tr><td>W1346506          </td><td>고객71            </td><td>010-1111-1181     </td><td>scust71@sfnb.co.kr</td><td>19/09/01          </td><td>F                 </td><td>19820922          </td><td>자영업            </td><td>122100            </td></tr>\n",
       "\t<tr><td>W1347648          </td><td>고객72            </td><td>010-1111-1182     </td><td>scust72@sfnb.co.kr</td><td>19/09/04          </td><td>M                 </td><td>19940812          </td><td>학생              </td><td>140100            </td></tr>\n",
       "\t<tr><td>W1347756          </td><td>고객73            </td><td>010-1111-1183     </td><td>scust73@sfnb.co.kr</td><td>19/09/05          </td><td>M                 </td><td>19931217          </td><td>NA                </td><td>152100            </td></tr>\n",
       "\t<tr><td>W1347984          </td><td>고객74            </td><td>010-1111-1184     </td><td>scust74@sfnb.co.kr</td><td>19/09/06          </td><td>M                 </td><td>19810822          </td><td>자영업            </td><td>130100            </td></tr>\n",
       "\t<tr><td>W1348303          </td><td>고객75            </td><td>010-1111-1185     </td><td>scust75@sfnb.co.kr</td><td>19/09/07          </td><td>M                 </td><td>19900611          </td><td>NA                </td><td>121100            </td></tr>\n",
       "\t<tr><td>W1348424          </td><td>고객76            </td><td>010-1111-1186     </td><td>scust76@sfnb.co.kr</td><td>19/09/08          </td><td>M                 </td><td>19730422          </td><td>NA                </td><td>139100            </td></tr>\n",
       "</tbody>\n",
       "</table>\n"
      ],
      "text/latex": [
       "\\begin{tabular}{r|lllllllll}\n",
       " customer\\_id & customer\\_name & phone\\_number & email & first\\_reg\\_date & sex\\_code & birth & job & zip\\_code\\\\\n",
       "\\hline\n",
       "\t W1346506           & 고객71             & 010-1111-1181      & scust71@sfnb.co.kr & 19/09/01           & F                  & 19820922           & 자영업             & 122100            \\\\\n",
       "\t W1347648           & 고객72             & 010-1111-1182      & scust72@sfnb.co.kr & 19/09/04           & M                  & 19940812           & 학생               & 140100            \\\\\n",
       "\t W1347756           & 고객73             & 010-1111-1183      & scust73@sfnb.co.kr & 19/09/05           & M                  & 19931217           & NA                 & 152100            \\\\\n",
       "\t W1347984           & 고객74             & 010-1111-1184      & scust74@sfnb.co.kr & 19/09/06           & M                  & 19810822           & 자영업             & 130100            \\\\\n",
       "\t W1348303           & 고객75             & 010-1111-1185      & scust75@sfnb.co.kr & 19/09/07           & M                  & 19900611           & NA                 & 121100            \\\\\n",
       "\t W1348424           & 고객76             & 010-1111-1186      & scust76@sfnb.co.kr & 19/09/08           & M                  & 19730422           & NA                 & 139100            \\\\\n",
       "\\end{tabular}\n"
      ],
      "text/markdown": [
       "\n",
       "| customer_id | customer_name | phone_number | email | first_reg_date | sex_code | birth | job | zip_code |\n",
       "|---|---|---|---|---|---|---|---|---|\n",
       "| W1346506           | 고객71             | 010-1111-1181      | scust71@sfnb.co.kr | 19/09/01           | F                  | 19820922           | 자영업             | 122100             |\n",
       "| W1347648           | 고객72             | 010-1111-1182      | scust72@sfnb.co.kr | 19/09/04           | M                  | 19940812           | 학생               | 140100             |\n",
       "| W1347756           | 고객73             | 010-1111-1183      | scust73@sfnb.co.kr | 19/09/05           | M                  | 19931217           | NA                 | 152100             |\n",
       "| W1347984           | 고객74             | 010-1111-1184      | scust74@sfnb.co.kr | 19/09/06           | M                  | 19810822           | 자영업             | 130100             |\n",
       "| W1348303           | 고객75             | 010-1111-1185      | scust75@sfnb.co.kr | 19/09/07           | M                  | 19900611           | NA                 | 121100             |\n",
       "| W1348424           | 고객76             | 010-1111-1186      | scust76@sfnb.co.kr | 19/09/08           | M                  | 19730422           | NA                 | 139100             |\n",
       "\n"
      ],
      "text/plain": [
       "  customer_id customer_name phone_number  email              first_reg_date\n",
       "1 W1346506    고객71        010-1111-1181 scust71@sfnb.co.kr 19/09/01      \n",
       "2 W1347648    고객72        010-1111-1182 scust72@sfnb.co.kr 19/09/04      \n",
       "3 W1347756    고객73        010-1111-1183 scust73@sfnb.co.kr 19/09/05      \n",
       "4 W1347984    고객74        010-1111-1184 scust74@sfnb.co.kr 19/09/06      \n",
       "5 W1348303    고객75        010-1111-1185 scust75@sfnb.co.kr 19/09/07      \n",
       "6 W1348424    고객76        010-1111-1186 scust76@sfnb.co.kr 19/09/08      \n",
       "  sex_code birth    job    zip_code\n",
       "1 F        19820922 자영업 122100  \n",
       "2 M        19940812 학생   140100  \n",
       "3 M        19931217 NA     152100  \n",
       "4 M        19810822 자영업 130100  \n",
       "5 M        19900611 NA     121100  \n",
       "6 M        19730422 NA     139100  "
      ]
     },
     "metadata": {},
     "output_type": "display_data"
    }
   ],
   "source": [
    "head(customer_r)"
   ]
  },
  {
   "cell_type": "code",
   "execution_count": 3,
   "id": "printable-norwegian",
   "metadata": {},
   "outputs": [
    {
     "data": {
      "text/plain": [
       "\n",
       "  강남   강동   강북   강서   관악   광진   구로   금천   노원   도봉 동대문 \n",
       "    49     18     12     22     15      8     14     10     10      6     20 \n",
       "  동작   마포 서대문   서초   성동   성북   송파   양천 영등포   용산   은평 \n",
       "    21     22     20     22     13      4     17     10     17     19     10 \n",
       "  종로   중구   중랑 \n",
       "    13     18      6 "
      ]
     },
     "metadata": {},
     "output_type": "display_data"
    }
   ],
   "source": [
    "table(reservation_r$branch)"
   ]
  },
  {
   "cell_type": "code",
   "execution_count": 4,
   "id": "editorial-nebraska",
   "metadata": {},
   "outputs": [],
   "source": [
    "# 주문 취소되지 않은 경우만 선택\n",
    "no_cancel_data <- reservation_r %>% filter(cancel == \"N\")"
   ]
  },
  {
   "cell_type": "code",
   "execution_count": 5,
   "id": "regional-findings",
   "metadata": {},
   "outputs": [
    {
     "data": {
      "text/plain": [
       "\n",
       "  강남   강동   강북   강서   관악   광진   구로   금천   노원   도봉 동대문 \n",
       "    41     17     12     19     15      8     11      7      8      5     14 \n",
       "  동작   마포 서대문   서초   성동   성북   송파   양천 영등포   용산   은평 \n",
       "    18     20     18     17     12      4     15      8     16     18      8 \n",
       "  종로   중구   중랑 \n",
       "     7     15      4 "
      ]
     },
     "metadata": {},
     "output_type": "display_data"
    }
   ],
   "source": [
    "# 주문 취소되지 않은 예약 건의 부서별 빈도표\n",
    "table(no_cancel_data$branch)"
   ]
  },
  {
   "cell_type": "code",
   "execution_count": 6,
   "id": "afraid-consideration",
   "metadata": {},
   "outputs": [
    {
     "data": {
      "text/html": [
       "<table>\n",
       "<thead><tr><th scope=col>reserv_no</th><th scope=col>reserv_date</th><th scope=col>reserv_time</th><th scope=col>customer_id</th><th scope=col>branch</th><th scope=col>visitor_cnt</th><th scope=col>cancel</th><th scope=col>order_no</th><th scope=col>item_id</th><th scope=col>quantity</th><th scope=col>sales</th><th scope=col>product_name</th><th scope=col>product_desc</th><th scope=col>category_id</th><th scope=col>price</th></tr></thead>\n",
       "<tbody>\n",
       "\t<tr><td>2019082701        </td><td>20190827          </td><td>1800              </td><td>W1340914          </td><td>마포              </td><td>2                 </td><td>N                 </td><td>190827547272110010</td><td>M0001             </td><td>2                 </td><td> 48000            </td><td>SPECIAL_SET       </td><td>온라인_전용상품   </td><td>COMBO             </td><td>24000             </td></tr>\n",
       "\t<tr><td>2019082602        </td><td>20190826          </td><td>1200              </td><td>W341658           </td><td>동작              </td><td>5                 </td><td>N                 </td><td>190826137302710010</td><td>M0010             </td><td>5                 </td><td> 30000            </td><td>JUICE             </td><td>주스              </td><td>BEVERAGE          </td><td> 6000             </td></tr>\n",
       "\t<tr><td>2019082601        </td><td>20190826          </td><td>1800              </td><td>W1328993          </td><td>강북              </td><td>4                 </td><td>N                 </td><td>190826137192910010</td><td>M0005             </td><td>4                 </td><td>140000            </td><td>STEAK             </td><td>스테이크          </td><td>FOOD              </td><td>35000             </td></tr>\n",
       "\t<tr><td>2019082501        </td><td>20190825          </td><td>1800              </td><td>W1340463          </td><td>용산              </td><td>2                 </td><td>N                 </td><td>190825107839310010</td><td>M0008             </td><td>2                 </td><td> 20000            </td><td>SANDWICH          </td><td>샌드위치          </td><td>FOOD              </td><td>10000             </td></tr>\n",
       "\t<tr><td>2019082401        </td><td>20190824          </td><td>1200              </td><td>W1344912          </td><td>강동              </td><td>3                 </td><td>N                 </td><td>190824137844710010</td><td>M0006             </td><td>3                 </td><td> 75000            </td><td>SALAD_BAR         </td><td>샐러드바          </td><td>COMBO             </td><td>25000             </td></tr>\n",
       "\t<tr><td>2019082301        </td><td>20190823          </td><td>1800              </td><td>W1344753          </td><td>영등포            </td><td>2                 </td><td>N                 </td><td>190823107844510010</td><td>M0004             </td><td>1                 </td><td> 25000            </td><td>SEA_FOOD          </td><td>씨푸드            </td><td>FOOD              </td><td>25000             </td></tr>\n",
       "</tbody>\n",
       "</table>\n"
      ],
      "text/latex": [
       "\\begin{tabular}{r|lllllllllllllll}\n",
       " reserv\\_no & reserv\\_date & reserv\\_time & customer\\_id & branch & visitor\\_cnt & cancel & order\\_no & item\\_id & quantity & sales & product\\_name & product\\_desc & category\\_id & price\\\\\n",
       "\\hline\n",
       "\t 2019082701         & 20190827           & 1800               & W1340914           & 마포               & 2                  & N                  & 190827547272110010 & M0001              & 2                  &  48000             & SPECIAL\\_SET      & 온라인\\_전용상품  & COMBO              & 24000             \\\\\n",
       "\t 2019082602         & 20190826           & 1200               & W341658            & 동작               & 5                  & N                  & 190826137302710010 & M0010              & 5                  &  30000             & JUICE              & 주스               & BEVERAGE           &  6000             \\\\\n",
       "\t 2019082601         & 20190826           & 1800               & W1328993           & 강북               & 4                  & N                  & 190826137192910010 & M0005              & 4                  & 140000             & STEAK              & 스테이크           & FOOD               & 35000             \\\\\n",
       "\t 2019082501         & 20190825           & 1800               & W1340463           & 용산               & 2                  & N                  & 190825107839310010 & M0008              & 2                  &  20000             & SANDWICH           & 샌드위치           & FOOD               & 10000             \\\\\n",
       "\t 2019082401         & 20190824           & 1200               & W1344912           & 강동               & 3                  & N                  & 190824137844710010 & M0006              & 3                  &  75000             & SALAD\\_BAR        & 샐러드바           & COMBO              & 25000             \\\\\n",
       "\t 2019082301         & 20190823           & 1800               & W1344753           & 영등포             & 2                  & N                  & 190823107844510010 & M0004              & 1                  &  25000             & SEA\\_FOOD         & 씨푸드             & FOOD               & 25000             \\\\\n",
       "\\end{tabular}\n"
      ],
      "text/markdown": [
       "\n",
       "| reserv_no | reserv_date | reserv_time | customer_id | branch | visitor_cnt | cancel | order_no | item_id | quantity | sales | product_name | product_desc | category_id | price |\n",
       "|---|---|---|---|---|---|---|---|---|---|---|---|---|---|---|\n",
       "| 2019082701         | 20190827           | 1800               | W1340914           | 마포               | 2                  | N                  | 190827547272110010 | M0001              | 2                  |  48000             | SPECIAL_SET        | 온라인_전용상품    | COMBO              | 24000              |\n",
       "| 2019082602         | 20190826           | 1200               | W341658            | 동작               | 5                  | N                  | 190826137302710010 | M0010              | 5                  |  30000             | JUICE              | 주스               | BEVERAGE           |  6000              |\n",
       "| 2019082601         | 20190826           | 1800               | W1328993           | 강북               | 4                  | N                  | 190826137192910010 | M0005              | 4                  | 140000             | STEAK              | 스테이크           | FOOD               | 35000              |\n",
       "| 2019082501         | 20190825           | 1800               | W1340463           | 용산               | 2                  | N                  | 190825107839310010 | M0008              | 2                  |  20000             | SANDWICH           | 샌드위치           | FOOD               | 10000              |\n",
       "| 2019082401         | 20190824           | 1200               | W1344912           | 강동               | 3                  | N                  | 190824137844710010 | M0006              | 3                  |  75000             | SALAD_BAR          | 샐러드바           | COMBO              | 25000              |\n",
       "| 2019082301         | 20190823           | 1800               | W1344753           | 영등포             | 2                  | N                  | 190823107844510010 | M0004              | 1                  |  25000             | SEA_FOOD           | 씨푸드             | FOOD               | 25000              |\n",
       "\n"
      ],
      "text/plain": [
       "  reserv_no  reserv_date reserv_time customer_id branch visitor_cnt cancel\n",
       "1 2019082701 20190827    1800        W1340914    마포   2           N     \n",
       "2 2019082602 20190826    1200        W341658     동작   5           N     \n",
       "3 2019082601 20190826    1800        W1328993    강북   4           N     \n",
       "4 2019082501 20190825    1800        W1340463    용산   2           N     \n",
       "5 2019082401 20190824    1200        W1344912    강동   3           N     \n",
       "6 2019082301 20190823    1800        W1344753    영등포 2           N     \n",
       "  order_no           item_id quantity sales  product_name product_desc   \n",
       "1 190827547272110010 M0001   2         48000 SPECIAL_SET  온라인_전용상품\n",
       "2 190826137302710010 M0010   5         30000 JUICE        주스           \n",
       "3 190826137192910010 M0005   4        140000 STEAK        스테이크       \n",
       "4 190825107839310010 M0008   2         20000 SANDWICH     샌드위치       \n",
       "5 190824137844710010 M0006   3         75000 SALAD_BAR    샐러드바       \n",
       "6 190823107844510010 M0004   1         25000 SEA_FOOD     씨푸드         \n",
       "  category_id price\n",
       "1 COMBO       24000\n",
       "2 BEVERAGE     6000\n",
       "3 FOOD        35000\n",
       "4 FOOD        10000\n",
       "5 COMBO       25000\n",
       "6 FOOD        25000"
      ]
     },
     "metadata": {},
     "output_type": "display_data"
    }
   ],
   "source": [
    "# 데이터 분석을 위해 원천 데이터 가공(전처리)\n",
    "# reserv_no를 키로 예약, 주문 테이블 연결\n",
    "df_f_join_1 <- inner_join(reservation_r, order_info_r, by = \"reserv_no\")\n",
    "\n",
    "# item_id를 키로 df_f_join_1, 메뉴 정보 테이블 연결\n",
    "df_f_join_2 <- inner_join(df_f_join_1, item_r, by = \"item_id\")\n",
    "\n",
    "head(df_f_join_2) # 테이블 세 개가 이너 조인된 것을 확인\n"
   ]
  },
  {
   "cell_type": "code",
   "execution_count": 7,
   "id": "bibliographic-differential",
   "metadata": {},
   "outputs": [],
   "source": [
    "# 강남, 마포, 서초 지점만 선택\n",
    "    df_branch_sales <- df_f_join_2 %>%\n",
    "    filter(branch == \"강남\" | branch == \"마포\" | branch == \"서초\") %>%\n",
    "    group_by(branch, product_name) %>%           # 부서 이름과 메뉴 이름으로 그룹화\n",
    "    summarise(sales_amt = sum(sales) / 1000)     # 매출 합산\n",
    " "
   ]
  },
  {
   "cell_type": "code",
   "execution_count": 8,
   "id": "august-pantyhose",
   "metadata": {},
   "outputs": [
    {
     "data": {
      "image/png": "[encoded data removed]",
      "text/plain": [
       "plot without title"
      ]
     },
     "metadata": {},
     "output_type": "display_data"
    }
   ],
   "source": [
    "# 누적 막대 그래프 그리기\n",
    "ggplot(df_branch_sales, aes(x = \"\", y = sales_amt, fill = product_name)) +\n",
    "    facet_grid(facets = . ~ branch) + # 면 분할 함수 branch 기준으로 분할\n",
    "    geom_bar(stat = \"identity\")"
   ]
  },
  {
   "cell_type": "code",
   "execution_count": 9,
   "id": "related-swedish",
   "metadata": {},
   "outputs": [
    {
     "data": {
      "image/png": "[encoded data removed]",
      "text/plain": [
       "plot without title"
      ]
     },
     "metadata": {},
     "output_type": "display_data"
    }
   ],
   "source": [
    "# 파이 차트로 그리기\n",
    "ggplot(df_branch_sales, aes(x = \"\", y = sales_amt, fill = product_name)) +\n",
    "    facet_grid(facets = . ~ branch) +\n",
    "    geom_bar(stat = \"identity\") +\n",
    "    coord_polar(\"y\", start = 0)     # 파이 차트 그리기\n",
    " "
   ]
  },
  {
   "cell_type": "code",
   "execution_count": 10,
   "id": "sound-observation",
   "metadata": {},
   "outputs": [
    {
     "data": {
      "text/plain": [
       "      \n",
       "       JUICE PASTA PIZZA SALAD SALAD_BAR SANDWICH SEA_FOOD SPECIAL_SET STEAK\n",
       "  강남     2     4     5     2         3        2        4          13    12\n",
       "  마포     1     2     4     0         3        3        1           4     3\n",
       "  서초     1     5     2     1         2        1        0           2     5\n",
       "      \n",
       "       WINE\n",
       "  강남    5\n",
       "  마포    0\n",
       "  서초    0"
      ]
     },
     "metadata": {},
     "output_type": "display_data"
    }
   ],
   "source": [
    "# reserv_no를 키로 예약, 주문 테이블 연결\n",
    "df_f_join_1 <- inner_join(reservation_r, order_info_r, by = \"reserv_no\")\n",
    "\n",
    "# item_id를 키로 df_f_join_1, 메뉴 정보 테이블 연결\n",
    "df_f_join_2 <- inner_join(df_f_join_1, item_r, by = \"item_id\")\n",
    "\n",
    "# 주요 지점만 선택\n",
    "df_branch_items <- df_f_join_2 %>% filter(branch == \"강남\" | branch == \"마포\" | branch == \"서초\")\n",
    "\n",
    "# 교차 빈도표 생성\n",
    "table(df_branch_items$branch, df_branch_items$product_name)"
   ]
  },
  {
   "cell_type": "code",
   "execution_count": 11,
   "id": "personalized-timeline",
   "metadata": {},
   "outputs": [
    {
     "data": {
      "text/html": [
       "<table>\n",
       "<thead><tr><th scope=col>Var1</th><th scope=col>Var2</th><th scope=col>Freq</th><th scope=col>df_branch_items_table$Var1</th><th scope=col>percent_items</th></tr></thead>\n",
       "<tbody>\n",
       "\t<tr><td>강남     </td><td>JUICE    </td><td>2        </td><td>강남     </td><td> 3.846154</td></tr>\n",
       "\t<tr><td>마포     </td><td>JUICE    </td><td>1        </td><td>마포     </td><td> 4.761905</td></tr>\n",
       "\t<tr><td>서초     </td><td>JUICE    </td><td>1        </td><td>서초     </td><td> 5.263158</td></tr>\n",
       "\t<tr><td>강남     </td><td>PASTA    </td><td>4        </td><td>강남     </td><td> 7.692308</td></tr>\n",
       "\t<tr><td>마포     </td><td>PASTA    </td><td>2        </td><td>마포     </td><td> 9.523810</td></tr>\n",
       "\t<tr><td>서초     </td><td>PASTA    </td><td>5        </td><td>서초     </td><td>26.315789</td></tr>\n",
       "</tbody>\n",
       "</table>\n"
      ],
      "text/latex": [
       "\\begin{tabular}{r|lllll}\n",
       " Var1 & Var2 & Freq & df\\_branch\\_items\\_table\\$Var1 & percent\\_items\\\\\n",
       "\\hline\n",
       "\t 강남      & JUICE     & 2         & 강남      &  3.846154\\\\\n",
       "\t 마포      & JUICE     & 1         & 마포      &  4.761905\\\\\n",
       "\t 서초      & JUICE     & 1         & 서초      &  5.263158\\\\\n",
       "\t 강남      & PASTA     & 4         & 강남      &  7.692308\\\\\n",
       "\t 마포      & PASTA     & 2         & 마포      &  9.523810\\\\\n",
       "\t 서초      & PASTA     & 5         & 서초      & 26.315789\\\\\n",
       "\\end{tabular}\n"
      ],
      "text/markdown": [
       "\n",
       "| Var1 | Var2 | Freq | df_branch_items_table$Var1 | percent_items |\n",
       "|---|---|---|---|---|\n",
       "| 강남      | JUICE     | 2         | 강남      |  3.846154 |\n",
       "| 마포      | JUICE     | 1         | 마포      |  4.761905 |\n",
       "| 서초      | JUICE     | 1         | 서초      |  5.263158 |\n",
       "| 강남      | PASTA     | 4         | 강남      |  7.692308 |\n",
       "| 마포      | PASTA     | 2         | 마포      |  9.523810 |\n",
       "| 서초      | PASTA     | 5         | 서초      | 26.315789 |\n",
       "\n"
      ],
      "text/plain": [
       "  Var1 Var2  Freq df_branch_items_table$Var1 percent_items\n",
       "1 강남 JUICE 2    강남                        3.846154    \n",
       "2 마포 JUICE 1    마포                        4.761905    \n",
       "3 서초 JUICE 1    서초                        5.263158    \n",
       "4 강남 PASTA 4    강남                        7.692308    \n",
       "5 마포 PASTA 2    마포                        9.523810    \n",
       "6 서초 PASTA 5    서초                       26.315789    "
      ]
     },
     "metadata": {},
     "output_type": "display_data"
    }
   ],
   "source": [
    "# 데이터 프레임 형태로 구조형 변환\n",
    "df_branch_items_table <- as.data.frame(table(df_branch_items$branch, df_branch_items$product_name))\n",
    "\n",
    "# 데이터 분석을 위해 데이터 가공\n",
    "df_branch_items_percent <- df_branch_items_table %>%\n",
    "    group_by(df_branch_items_table$Var1) %>%\n",
    "    mutate(percent_items = Freq/sum(Freq) * 100) # 주문 비율을 계산해서 열 생성\n",
    "\n",
    "head(df_branch_items_percent)                    # percent_items 열이 생성된 것을 확인\n"
   ]
  },
  {
   "cell_type": "code",
   "execution_count": 12,
   "id": "unlimited-thomas",
   "metadata": {},
   "outputs": [
    {
     "data": {
      "image/png": "[encoded data removed]",
      "text/plain": [
       "plot without title"
      ]
     },
     "metadata": {},
     "output_type": "display_data"
    }
   ],
   "source": [
    "# 누적 막대 그래프를 그려 gg 변수에 담음\n",
    "gg <- ggplot(df_branch_items_percent, aes(x = Var1, y = percent_items, group = Var1, fill = Var2)) +\n",
    "    geom_bar(stat = \"identity\")\n",
    "\n",
    "# 제목과 범례 이름 지정\n",
    "gg <- gg +\n",
    "    labs(title = \"지점별 주문 건수 그래프\", x = \"지점\", y = \"메뉴 아이템 판매비율\", fill = \"메뉴 아이템\")\n",
    "gg"
   ]
  },
  {
   "cell_type": "code",
   "execution_count": 13,
   "id": "periodic-armenia",
   "metadata": {},
   "outputs": [
    {
     "data": {
      "text/html": [
       "<table>\n",
       "<thead><tr><th scope=col>reserv_no</th><th scope=col>reserv_date</th><th scope=col>reserv_time</th><th scope=col>customer_id</th><th scope=col>branch</th><th scope=col>visitor_cnt</th><th scope=col>cancel</th><th scope=col>order_no</th><th scope=col>item_id</th><th scope=col>quantity</th><th scope=col>sales</th></tr></thead>\n",
       "<tbody>\n",
       "\t<tr><td>2019082701        </td><td>20190827          </td><td>1800              </td><td>W1340914          </td><td>마포              </td><td>2                 </td><td>N                 </td><td>190827547272110010</td><td>M0001             </td><td>2                 </td><td> 48000            </td></tr>\n",
       "\t<tr><td>2019082602        </td><td>20190826          </td><td>1200              </td><td>W341658           </td><td>동작              </td><td>5                 </td><td>N                 </td><td>190826137302710010</td><td>M0010             </td><td>5                 </td><td> 30000            </td></tr>\n",
       "\t<tr><td>2019082601        </td><td>20190826          </td><td>1800              </td><td>W1328993          </td><td>강북              </td><td>4                 </td><td>N                 </td><td>190826137192910010</td><td>M0005             </td><td>4                 </td><td>140000            </td></tr>\n",
       "\t<tr><td>2019082501        </td><td>20190825          </td><td>1800              </td><td>W1340463          </td><td>용산              </td><td>2                 </td><td>N                 </td><td>190825107839310010</td><td>M0008             </td><td>2                 </td><td> 20000            </td></tr>\n",
       "\t<tr><td>2019082401        </td><td>20190824          </td><td>1200              </td><td>W1344912          </td><td>강동              </td><td>3                 </td><td>N                 </td><td>190824137844710010</td><td>M0006             </td><td>3                 </td><td> 75000            </td></tr>\n",
       "\t<tr><td>2019082301        </td><td>20190823          </td><td>1800              </td><td>W1344753          </td><td>영등포            </td><td>2                 </td><td>N                 </td><td>190823107844510010</td><td>M0004             </td><td>1                 </td><td> 25000            </td></tr>\n",
       "</tbody>\n",
       "</table>\n"
      ],
      "text/latex": [
       "\\begin{tabular}{r|lllllllllll}\n",
       " reserv\\_no & reserv\\_date & reserv\\_time & customer\\_id & branch & visitor\\_cnt & cancel & order\\_no & item\\_id & quantity & sales\\\\\n",
       "\\hline\n",
       "\t 2019082701         & 20190827           & 1800               & W1340914           & 마포               & 2                  & N                  & 190827547272110010 & M0001              & 2                  &  48000            \\\\\n",
       "\t 2019082602         & 20190826           & 1200               & W341658            & 동작               & 5                  & N                  & 190826137302710010 & M0010              & 5                  &  30000            \\\\\n",
       "\t 2019082601         & 20190826           & 1800               & W1328993           & 강북               & 4                  & N                  & 190826137192910010 & M0005              & 4                  & 140000            \\\\\n",
       "\t 2019082501         & 20190825           & 1800               & W1340463           & 용산               & 2                  & N                  & 190825107839310010 & M0008              & 2                  &  20000            \\\\\n",
       "\t 2019082401         & 20190824           & 1200               & W1344912           & 강동               & 3                  & N                  & 190824137844710010 & M0006              & 3                  &  75000            \\\\\n",
       "\t 2019082301         & 20190823           & 1800               & W1344753           & 영등포             & 2                  & N                  & 190823107844510010 & M0004              & 1                  &  25000            \\\\\n",
       "\\end{tabular}\n"
      ],
      "text/markdown": [
       "\n",
       "| reserv_no | reserv_date | reserv_time | customer_id | branch | visitor_cnt | cancel | order_no | item_id | quantity | sales |\n",
       "|---|---|---|---|---|---|---|---|---|---|---|\n",
       "| 2019082701         | 20190827           | 1800               | W1340914           | 마포               | 2                  | N                  | 190827547272110010 | M0001              | 2                  |  48000             |\n",
       "| 2019082602         | 20190826           | 1200               | W341658            | 동작               | 5                  | N                  | 190826137302710010 | M0010              | 5                  |  30000             |\n",
       "| 2019082601         | 20190826           | 1800               | W1328993           | 강북               | 4                  | N                  | 190826137192910010 | M0005              | 4                  | 140000             |\n",
       "| 2019082501         | 20190825           | 1800               | W1340463           | 용산               | 2                  | N                  | 190825107839310010 | M0008              | 2                  |  20000             |\n",
       "| 2019082401         | 20190824           | 1200               | W1344912           | 강동               | 3                  | N                  | 190824137844710010 | M0006              | 3                  |  75000             |\n",
       "| 2019082301         | 20190823           | 1800               | W1344753           | 영등포             | 2                  | N                  | 190823107844510010 | M0004              | 1                  |  25000             |\n",
       "\n"
      ],
      "text/plain": [
       "  reserv_no  reserv_date reserv_time customer_id branch visitor_cnt cancel\n",
       "1 2019082701 20190827    1800        W1340914    마포   2           N     \n",
       "2 2019082602 20190826    1200        W341658     동작   5           N     \n",
       "3 2019082601 20190826    1800        W1328993    강북   4           N     \n",
       "4 2019082501 20190825    1800        W1340463    용산   2           N     \n",
       "5 2019082401 20190824    1200        W1344912    강동   3           N     \n",
       "6 2019082301 20190823    1800        W1344753    영등포 2           N     \n",
       "  order_no           item_id quantity sales \n",
       "1 190827547272110010 M0001   2         48000\n",
       "2 190826137302710010 M0010   5         30000\n",
       "3 190826137192910010 M0005   4        140000\n",
       "4 190825107839310010 M0008   2         20000\n",
       "5 190824137844710010 M0006   3         75000\n",
       "6 190823107844510010 M0004   1         25000"
      ]
     },
     "metadata": {},
     "output_type": "display_data"
    }
   ],
   "source": [
    "# 테이블조인\n",
    "# reserv_no를 키로 예약, 주문 테이블 연결\n",
    "df_rfm_join_1 <- inner_join(reservation_r, order_info_r, by = \"reserv_no\")\n",
    "\n",
    "head(df_rfm_join_1)     # 조인된 테이블 확인\n"
   ]
  },
  {
   "cell_type": "code",
   "execution_count": 14,
   "id": "recognized-graduate",
   "metadata": {},
   "outputs": [
    {
     "data": {
      "text/html": [
       "<table>\n",
       "<thead><tr><th scope=col>customer_id</th><th scope=col>visit_sum</th><th scope=col>sales_sum</th></tr></thead>\n",
       "<tbody>\n",
       "\t<tr><td>W1327595</td><td>2       </td><td>188     </td></tr>\n",
       "\t<tr><td>W1327803</td><td>2       </td><td>210     </td></tr>\n",
       "\t<tr><td>W1328432</td><td>3       </td><td>246     </td></tr>\n",
       "\t<tr><td>W1328505</td><td>5       </td><td>287     </td></tr>\n",
       "\t<tr><td>W1328786</td><td>1       </td><td> 10     </td></tr>\n",
       "\t<tr><td>W1328985</td><td>2       </td><td>178     </td></tr>\n",
       "\t<tr><td>W1328993</td><td>1       </td><td>140     </td></tr>\n",
       "\t<tr><td>W1329560</td><td>1       </td><td> 24     </td></tr>\n",
       "\t<tr><td>W1329954</td><td>1       </td><td> 48     </td></tr>\n",
       "\t<tr><td>W1329962</td><td>2       </td><td> 48     </td></tr>\n",
       "\t<tr><td>W1330024</td><td>1       </td><td> 30     </td></tr>\n",
       "\t<tr><td>W1330211</td><td>1       </td><td> 54     </td></tr>\n",
       "\t<tr><td>W1330464</td><td>1       </td><td>105     </td></tr>\n",
       "\t<tr><td>W1331022</td><td>2       </td><td>158     </td></tr>\n",
       "\t<tr><td>W1331023</td><td>1       </td><td> 70     </td></tr>\n",
       "\t<tr><td>W1331028</td><td>2       </td><td> 67     </td></tr>\n",
       "\t<tr><td>W1331108</td><td>1       </td><td> 10     </td></tr>\n",
       "\t<tr><td>W1331124</td><td>4       </td><td>290     </td></tr>\n",
       "\t<tr><td>W1331302</td><td>2       </td><td>176     </td></tr>\n",
       "\t<tr><td>W1331712</td><td>1       </td><td>  6     </td></tr>\n",
       "\t<tr><td>W1332641</td><td>2       </td><td>132     </td></tr>\n",
       "\t<tr><td>W1333008</td><td>2       </td><td> 25     </td></tr>\n",
       "\t<tr><td>W1333222</td><td>5       </td><td>346     </td></tr>\n",
       "\t<tr><td>W1333818</td><td>3       </td><td>135     </td></tr>\n",
       "\t<tr><td>W1334298</td><td>1       </td><td>100     </td></tr>\n",
       "\t<tr><td>W1334299</td><td>1       </td><td>105     </td></tr>\n",
       "\t<tr><td>W1334366</td><td>5       </td><td>262     </td></tr>\n",
       "\t<tr><td>W1334489</td><td>1       </td><td> 36     </td></tr>\n",
       "\t<tr><td>W1334565</td><td>1       </td><td>126     </td></tr>\n",
       "\t<tr><td>W1335068</td><td>1       </td><td> 51     </td></tr>\n",
       "\t<tr><td>...</td><td>...</td><td>...</td></tr>\n",
       "\t<tr><td>W348551</td><td>2      </td><td> 78    </td></tr>\n",
       "\t<tr><td>W349096</td><td>1      </td><td> 50    </td></tr>\n",
       "\t<tr><td>W350149</td><td>3      </td><td>134    </td></tr>\n",
       "\t<tr><td>W350187</td><td>1      </td><td> 43    </td></tr>\n",
       "\t<tr><td>W350248</td><td>1      </td><td> 70    </td></tr>\n",
       "\t<tr><td>W350464</td><td>5      </td><td>378    </td></tr>\n",
       "\t<tr><td>W350657</td><td>1      </td><td>280    </td></tr>\n",
       "\t<tr><td>W351511</td><td>3      </td><td> 80    </td></tr>\n",
       "\t<tr><td>W351513</td><td>1      </td><td>118    </td></tr>\n",
       "\t<tr><td>W353411</td><td>1      </td><td>140    </td></tr>\n",
       "\t<tr><td>W354392</td><td>3      </td><td>142    </td></tr>\n",
       "\t<tr><td>W354554</td><td>2      </td><td> 66    </td></tr>\n",
       "\t<tr><td>W356665</td><td>2      </td><td>120    </td></tr>\n",
       "\t<tr><td>W357565</td><td>2      </td><td>612    </td></tr>\n",
       "\t<tr><td>W359004</td><td>3      </td><td>102    </td></tr>\n",
       "\t<tr><td>W359586</td><td>1      </td><td> 10    </td></tr>\n",
       "\t<tr><td>W363413</td><td>1      </td><td> 75    </td></tr>\n",
       "\t<tr><td>W363739</td><td>1      </td><td>836    </td></tr>\n",
       "\t<tr><td>W366551</td><td>1      </td><td> 82    </td></tr>\n",
       "\t<tr><td>W366641</td><td>2      </td><td>280    </td></tr>\n",
       "\t<tr><td>W367946</td><td>1      </td><td> 51    </td></tr>\n",
       "\t<tr><td>W368037</td><td>3      </td><td>210    </td></tr>\n",
       "\t<tr><td>W370526</td><td>2      </td><td> 94    </td></tr>\n",
       "\t<tr><td>W370765</td><td>1      </td><td>175    </td></tr>\n",
       "\t<tr><td>W371982</td><td>2      </td><td>312    </td></tr>\n",
       "\t<tr><td>W373103</td><td>1      </td><td> 70    </td></tr>\n",
       "\t<tr><td>W373150</td><td>1      </td><td> 20    </td></tr>\n",
       "\t<tr><td>W374992</td><td>1      </td><td> 36    </td></tr>\n",
       "\t<tr><td>W375192</td><td>4      </td><td>500    </td></tr>\n",
       "\t<tr><td>W376429</td><td>1      </td><td> 48    </td></tr>\n",
       "</tbody>\n",
       "</table>\n"
      ],
      "text/latex": [
       "\\begin{tabular}{r|lll}\n",
       " customer\\_id & visit\\_sum & sales\\_sum\\\\\n",
       "\\hline\n",
       "\t W1327595 & 2        & 188     \\\\\n",
       "\t W1327803 & 2        & 210     \\\\\n",
       "\t W1328432 & 3        & 246     \\\\\n",
       "\t W1328505 & 5        & 287     \\\\\n",
       "\t W1328786 & 1        &  10     \\\\\n",
       "\t W1328985 & 2        & 178     \\\\\n",
       "\t W1328993 & 1        & 140     \\\\\n",
       "\t W1329560 & 1        &  24     \\\\\n",
       "\t W1329954 & 1        &  48     \\\\\n",
       "\t W1329962 & 2        &  48     \\\\\n",
       "\t W1330024 & 1        &  30     \\\\\n",
       "\t W1330211 & 1        &  54     \\\\\n",
       "\t W1330464 & 1        & 105     \\\\\n",
       "\t W1331022 & 2        & 158     \\\\\n",
       "\t W1331023 & 1        &  70     \\\\\n",
       "\t W1331028 & 2        &  67     \\\\\n",
       "\t W1331108 & 1        &  10     \\\\\n",
       "\t W1331124 & 4        & 290     \\\\\n",
       "\t W1331302 & 2        & 176     \\\\\n",
       "\t W1331712 & 1        &   6     \\\\\n",
       "\t W1332641 & 2        & 132     \\\\\n",
       "\t W1333008 & 2        &  25     \\\\\n",
       "\t W1333222 & 5        & 346     \\\\\n",
       "\t W1333818 & 3        & 135     \\\\\n",
       "\t W1334298 & 1        & 100     \\\\\n",
       "\t W1334299 & 1        & 105     \\\\\n",
       "\t W1334366 & 5        & 262     \\\\\n",
       "\t W1334489 & 1        &  36     \\\\\n",
       "\t W1334565 & 1        & 126     \\\\\n",
       "\t W1335068 & 1        &  51     \\\\\n",
       "\t ... & ... & ...\\\\\n",
       "\t W348551 & 2       &  78    \\\\\n",
       "\t W349096 & 1       &  50    \\\\\n",
       "\t W350149 & 3       & 134    \\\\\n",
       "\t W350187 & 1       &  43    \\\\\n",
       "\t W350248 & 1       &  70    \\\\\n",
       "\t W350464 & 5       & 378    \\\\\n",
       "\t W350657 & 1       & 280    \\\\\n",
       "\t W351511 & 3       &  80    \\\\\n",
       "\t W351513 & 1       & 118    \\\\\n",
       "\t W353411 & 1       & 140    \\\\\n",
       "\t W354392 & 3       & 142    \\\\\n",
       "\t W354554 & 2       &  66    \\\\\n",
       "\t W356665 & 2       & 120    \\\\\n",
       "\t W357565 & 2       & 612    \\\\\n",
       "\t W359004 & 3       & 102    \\\\\n",
       "\t W359586 & 1       &  10    \\\\\n",
       "\t W363413 & 1       &  75    \\\\\n",
       "\t W363739 & 1       & 836    \\\\\n",
       "\t W366551 & 1       &  82    \\\\\n",
       "\t W366641 & 2       & 280    \\\\\n",
       "\t W367946 & 1       &  51    \\\\\n",
       "\t W368037 & 3       & 210    \\\\\n",
       "\t W370526 & 2       &  94    \\\\\n",
       "\t W370765 & 1       & 175    \\\\\n",
       "\t W371982 & 2       & 312    \\\\\n",
       "\t W373103 & 1       &  70    \\\\\n",
       "\t W373150 & 1       &  20    \\\\\n",
       "\t W374992 & 1       &  36    \\\\\n",
       "\t W375192 & 4       & 500    \\\\\n",
       "\t W376429 & 1       &  48    \\\\\n",
       "\\end{tabular}\n"
      ],
      "text/markdown": [
       "\n",
       "| customer_id | visit_sum | sales_sum |\n",
       "|---|---|---|\n",
       "| W1327595 | 2        | 188      |\n",
       "| W1327803 | 2        | 210      |\n",
       "| W1328432 | 3        | 246      |\n",
       "| W1328505 | 5        | 287      |\n",
       "| W1328786 | 1        |  10      |\n",
       "| W1328985 | 2        | 178      |\n",
       "| W1328993 | 1        | 140      |\n",
       "| W1329560 | 1        |  24      |\n",
       "| W1329954 | 1        |  48      |\n",
       "| W1329962 | 2        |  48      |\n",
       "| W1330024 | 1        |  30      |\n",
       "| W1330211 | 1        |  54      |\n",
       "| W1330464 | 1        | 105      |\n",
       "| W1331022 | 2        | 158      |\n",
       "| W1331023 | 1        |  70      |\n",
       "| W1331028 | 2        |  67      |\n",
       "| W1331108 | 1        |  10      |\n",
       "| W1331124 | 4        | 290      |\n",
       "| W1331302 | 2        | 176      |\n",
       "| W1331712 | 1        |   6      |\n",
       "| W1332641 | 2        | 132      |\n",
       "| W1333008 | 2        |  25      |\n",
       "| W1333222 | 5        | 346      |\n",
       "| W1333818 | 3        | 135      |\n",
       "| W1334298 | 1        | 100      |\n",
       "| W1334299 | 1        | 105      |\n",
       "| W1334366 | 5        | 262      |\n",
       "| W1334489 | 1        |  36      |\n",
       "| W1334565 | 1        | 126      |\n",
       "| W1335068 | 1        |  51      |\n",
       "| ... | ... | ... |\n",
       "| W348551 | 2       |  78     |\n",
       "| W349096 | 1       |  50     |\n",
       "| W350149 | 3       | 134     |\n",
       "| W350187 | 1       |  43     |\n",
       "| W350248 | 1       |  70     |\n",
       "| W350464 | 5       | 378     |\n",
       "| W350657 | 1       | 280     |\n",
       "| W351511 | 3       |  80     |\n",
       "| W351513 | 1       | 118     |\n",
       "| W353411 | 1       | 140     |\n",
       "| W354392 | 3       | 142     |\n",
       "| W354554 | 2       |  66     |\n",
       "| W356665 | 2       | 120     |\n",
       "| W357565 | 2       | 612     |\n",
       "| W359004 | 3       | 102     |\n",
       "| W359586 | 1       |  10     |\n",
       "| W363413 | 1       |  75     |\n",
       "| W363739 | 1       | 836     |\n",
       "| W366551 | 1       |  82     |\n",
       "| W366641 | 2       | 280     |\n",
       "| W367946 | 1       |  51     |\n",
       "| W368037 | 3       | 210     |\n",
       "| W370526 | 2       |  94     |\n",
       "| W370765 | 1       | 175     |\n",
       "| W371982 | 2       | 312     |\n",
       "| W373103 | 1       |  70     |\n",
       "| W373150 | 1       |  20     |\n",
       "| W374992 | 1       |  36     |\n",
       "| W375192 | 4       | 500     |\n",
       "| W376429 | 1       |  48     |\n",
       "\n"
      ],
      "text/plain": [
       "    customer_id visit_sum sales_sum\n",
       "1   W1327595    2         188      \n",
       "2   W1327803    2         210      \n",
       "3   W1328432    3         246      \n",
       "4   W1328505    5         287      \n",
       "5   W1328786    1          10      \n",
       "6   W1328985    2         178      \n",
       "7   W1328993    1         140      \n",
       "8   W1329560    1          24      \n",
       "9   W1329954    1          48      \n",
       "10  W1329962    2          48      \n",
       "11  W1330024    1          30      \n",
       "12  W1330211    1          54      \n",
       "13  W1330464    1         105      \n",
       "14  W1331022    2         158      \n",
       "15  W1331023    1          70      \n",
       "16  W1331028    2          67      \n",
       "17  W1331108    1          10      \n",
       "18  W1331124    4         290      \n",
       "19  W1331302    2         176      \n",
       "20  W1331712    1           6      \n",
       "21  W1332641    2         132      \n",
       "22  W1333008    2          25      \n",
       "23  W1333222    5         346      \n",
       "24  W1333818    3         135      \n",
       "25  W1334298    1         100      \n",
       "26  W1334299    1         105      \n",
       "27  W1334366    5         262      \n",
       "28  W1334489    1          36      \n",
       "29  W1334565    1         126      \n",
       "30  W1335068    1          51      \n",
       "... ...         ...       ...      \n",
       "141 W348551     2          78      \n",
       "142 W349096     1          50      \n",
       "143 W350149     3         134      \n",
       "144 W350187     1          43      \n",
       "145 W350248     1          70      \n",
       "146 W350464     5         378      \n",
       "147 W350657     1         280      \n",
       "148 W351511     3          80      \n",
       "149 W351513     1         118      \n",
       "150 W353411     1         140      \n",
       "151 W354392     3         142      \n",
       "152 W354554     2          66      \n",
       "153 W356665     2         120      \n",
       "154 W357565     2         612      \n",
       "155 W359004     3         102      \n",
       "156 W359586     1          10      \n",
       "157 W363413     1          75      \n",
       "158 W363739     1         836      \n",
       "159 W366551     1          82      \n",
       "160 W366641     2         280      \n",
       "161 W367946     1          51      \n",
       "162 W368037     3         210      \n",
       "163 W370526     2          94      \n",
       "164 W370765     1         175      \n",
       "165 W371982     2         312      \n",
       "166 W373103     1          70      \n",
       "167 W373150     1          20      \n",
       "168 W374992     1          36      \n",
       "169 W375192     4         500      \n",
       "170 W376429     1          48      "
      ]
     },
     "metadata": {},
     "output_type": "display_data"
    }
   ],
   "source": [
    "# 고객 번호별 방문 횟수(F)와 매출(M) 정리\n",
    "df_rfm_data <- df_rfm_join_1 %>%\n",
    "    group_by(customer_id) %>%\n",
    "    summarise(visit_sum = n_distinct(reserv_no), sales_sum = sum(sales) / 1000) %>%\n",
    "    arrange(customer_id)\n",
    "\n",
    "df_rfm_data     # 데이터 확인"
   ]
  },
  {
   "cell_type": "code",
   "execution_count": 15,
   "id": "subjective-deposit",
   "metadata": {},
   "outputs": [
    {
     "data": {
      "text/plain": [
       " customer_id          visit_sum       sales_sum      \n",
       " Length:170         Min.   :1.000   Min.   :   6.00  \n",
       " Class :character   1st Qu.:1.000   1st Qu.:  40.75  \n",
       " Mode  :character   Median :1.000   Median : 100.00  \n",
       "                    Mean   :1.982   Mean   : 146.81  \n",
       "                    3rd Qu.:3.000   3rd Qu.: 192.00  \n",
       "                    Max.   :8.000   Max.   :1006.00  "
      ]
     },
     "metadata": {},
     "output_type": "display_data"
    }
   ],
   "source": [
    "summary(df_rfm_data)"
   ]
  },
  {
   "cell_type": "code",
   "execution_count": 16,
   "id": "dated-bryan",
   "metadata": {},
   "outputs": [
    {
     "data": {
      "image/png": "[encoded data removed]",
      "text/plain": [
       "plot without title"
      ]
     },
     "metadata": {},
     "output_type": "display_data"
    }
   ],
   "source": [
    "# 상자 그림 그리기\n",
    "ggplot(df_rfm_data, aes(x = \"\", y = visit_sum)) +\n",
    "    geom_boxplot(width = 0.8, outlier.size = 2, outlier.colour = \"red\") +\n",
    "    labs(title = \"방문 횟수 상자그림\", x = \"빈도\", y = \"방문횟수\")"
   ]
  },
  {
   "cell_type": "code",
   "execution_count": 17,
   "id": "official-replacement",
   "metadata": {},
   "outputs": [
    {
     "data": {
      "image/png": "[encoded data removed]",
      "text/plain": [
       "plot without title"
      ]
     },
     "metadata": {},
     "output_type": "display_data"
    }
   ],
   "source": [
    "ggplot(df_rfm_data, aes(x = \"\", y = sales_sum)) +\n",
    "    geom_boxplot(width = 0.8, outlier.size = 2, outlier.colour = \"red\") +\n",
    "    labs(title = \"매출 상자그림\", x = \"매출\", y = \"금액\")\n",
    " "
   ]
  },
  {
   "cell_type": "code",
   "execution_count": 18,
   "id": "violent-pickup",
   "metadata": {},
   "outputs": [
    {
     "data": {
      "text/html": [
       "<dl class=dl-horizontal>\n",
       "\t<dt>60%</dt>\n",
       "\t\t<dd>2</dd>\n",
       "\t<dt>90%</dt>\n",
       "\t\t<dd>4</dd>\n",
       "</dl>\n"
      ],
      "text/latex": [
       "\\begin{description*}\n",
       "\\item[60\\textbackslash{}\\%] 2\n",
       "\\item[90\\textbackslash{}\\%] 4\n",
       "\\end{description*}\n"
      ],
      "text/markdown": [
       "60%\n",
       ":   290%\n",
       ":   4\n",
       "\n"
      ],
      "text/plain": [
       "60% 90% \n",
       "  2   4 "
      ]
     },
     "metadata": {},
     "output_type": "display_data"
    }
   ],
   "source": [
    "# 방문 횟수 60%와 90%에 해당하는 분위수 찾기\n",
    "quantile(df_rfm_data$visit_sum, probs = c(0.6, 0.9))"
   ]
  },
  {
   "cell_type": "code",
   "execution_count": 19,
   "id": "funded-museum",
   "metadata": {},
   "outputs": [
    {
     "data": {
      "text/html": [
       "<table>\n",
       "<thead><tr><th scope=col>l_visit_sum</th><th scope=col>l_sales_sum</th></tr></thead>\n",
       "<tbody>\n",
       "\t<tr><td>0.5163205</td><td>0.7496093</td></tr>\n",
       "</tbody>\n",
       "</table>\n"
      ],
      "text/latex": [
       "\\begin{tabular}{r|ll}\n",
       " l\\_visit\\_sum & l\\_sales\\_sum\\\\\n",
       "\\hline\n",
       "\t 0.5163205 & 0.7496093\\\\\n",
       "\\end{tabular}\n"
      ],
      "text/markdown": [
       "\n",
       "| l_visit_sum | l_sales_sum |\n",
       "|---|---|\n",
       "| 0.5163205 | 0.7496093 |\n",
       "\n"
      ],
      "text/plain": [
       "  l_visit_sum l_sales_sum\n",
       "1 0.5163205   0.7496093  "
      ]
     },
     "metadata": {},
     "output_type": "display_data"
    }
   ],
   "source": [
    "# 총 방문 횟수와 총 매출 합\n",
    "total_sum_data <- df_rfm_data %>%\n",
    "    summarise(t_visit_sum = sum(visit_sum), t_sales_sum = sum(sales_sum))\n",
    "\n",
    "# 우수 고객 이상의 방문 횟수와 매출 합\n",
    "loyalty_sum_data <- df_rfm_data %>%\n",
    "    summarise(l_visit_sum = sum(ifelse(visit_sum > 2, visit_sum, 0)), l_sales_sum = sum(ifelse(sales_sum > 135, sales_sum, 0)))\n",
    "\n",
    "# 차지하는 비율 확인\n",
    "loyalty_sum_data / total_sum_data"
   ]
  },
  {
   "cell_type": "code",
   "execution_count": 20,
   "id": "concerned-singapore",
   "metadata": {},
   "outputs": [
    {
     "data": {
      "text/html": [
       "<table>\n",
       "<thead><tr><th scope=col>branch</th><th scope=col>reserv_no</th><th scope=col>order_cnt</th></tr></thead>\n",
       "<tbody>\n",
       "\t<tr><td>강남      </td><td>2019123107</td><td>2         </td></tr>\n",
       "\t<tr><td>강남      </td><td>2019122901</td><td>2         </td></tr>\n",
       "\t<tr><td>강남      </td><td>2019122801</td><td>2         </td></tr>\n",
       "\t<tr><td>강동      </td><td>2019122810</td><td>2         </td></tr>\n",
       "\t<tr><td>광진      </td><td>2019122804</td><td>2         </td></tr>\n",
       "\t<tr><td>노원      </td><td>2019112101</td><td>2         </td></tr>\n",
       "\t<tr><td>동대문    </td><td>2019091201</td><td>2         </td></tr>\n",
       "\t<tr><td>동대문    </td><td>2019122703</td><td>2         </td></tr>\n",
       "\t<tr><td>동작      </td><td>2019112102</td><td>2         </td></tr>\n",
       "\t<tr><td>양천      </td><td>2019123006</td><td>2         </td></tr>\n",
       "\t<tr><td>영등포    </td><td>2019122702</td><td>2         </td></tr>\n",
       "\t<tr><td>종로      </td><td>2019120202</td><td>2         </td></tr>\n",
       "</tbody>\n",
       "</table>\n"
      ],
      "text/latex": [
       "\\begin{tabular}{r|lll}\n",
       " branch & reserv\\_no & order\\_cnt\\\\\n",
       "\\hline\n",
       "\t 강남       & 2019123107 & 2         \\\\\n",
       "\t 강남       & 2019122901 & 2         \\\\\n",
       "\t 강남       & 2019122801 & 2         \\\\\n",
       "\t 강동       & 2019122810 & 2         \\\\\n",
       "\t 광진       & 2019122804 & 2         \\\\\n",
       "\t 노원       & 2019112101 & 2         \\\\\n",
       "\t 동대문     & 2019091201 & 2         \\\\\n",
       "\t 동대문     & 2019122703 & 2         \\\\\n",
       "\t 동작       & 2019112102 & 2         \\\\\n",
       "\t 양천       & 2019123006 & 2         \\\\\n",
       "\t 영등포     & 2019122702 & 2         \\\\\n",
       "\t 종로       & 2019120202 & 2         \\\\\n",
       "\\end{tabular}\n"
      ],
      "text/markdown": [
       "\n",
       "| branch | reserv_no | order_cnt |\n",
       "|---|---|---|\n",
       "| 강남       | 2019123107 | 2          |\n",
       "| 강남       | 2019122901 | 2          |\n",
       "| 강남       | 2019122801 | 2          |\n",
       "| 강동       | 2019122810 | 2          |\n",
       "| 광진       | 2019122804 | 2          |\n",
       "| 노원       | 2019112101 | 2          |\n",
       "| 동대문     | 2019091201 | 2          |\n",
       "| 동대문     | 2019122703 | 2          |\n",
       "| 동작       | 2019112102 | 2          |\n",
       "| 양천       | 2019123006 | 2          |\n",
       "| 영등포     | 2019122702 | 2          |\n",
       "| 종로       | 2019120202 | 2          |\n",
       "\n"
      ],
      "text/plain": [
       "   branch reserv_no  order_cnt\n",
       "1  강남   2019123107 2        \n",
       "2  강남   2019122901 2        \n",
       "3  강남   2019122801 2        \n",
       "4  강동   2019122810 2        \n",
       "5  광진   2019122804 2        \n",
       "6  노원   2019112101 2        \n",
       "7  동대문 2019091201 2        \n",
       "8  동대문 2019122703 2        \n",
       "9  동작   2019112102 2        \n",
       "10 양천   2019123006 2        \n",
       "11 영등포 2019122702 2        \n",
       "12 종로   2019120202 2        "
      ]
     },
     "metadata": {},
     "output_type": "display_data"
    }
   ],
   "source": [
    "# reserv_no를 키로 예약, 주문 테이블 연결\n",
    "df_f_join_1 <- inner_join(reservation_r, order_info_r, by = \"reserv_no\")\n",
    "\n",
    "# item_id를 키로 df_f_join_1, 메뉴 정보 테이블 연결\n",
    "df_f_join_2 <- inner_join(df_f_join_1, item_r, by = \"item_id\")\n",
    "\n",
    "target_item <- c(\"M0005\", \"M0009\")               # 스테이크와 와인\n",
    "\n",
    "# 스테이크와 메뉴 아이템 동시 주문 여부 확인\n",
    "df_stime_order <- df_f_join_2 %>%\n",
    "    filter((item_id %in% target_item)) %>%       # 스테이크나 와인을 주문한 경우 선택\n",
    "    group_by(reserv_no) %>%                      # 예약 번호로 그룹화\n",
    "    mutate(order_cnt = n()) %>%                  # 그룹화된 행 세기\n",
    "    distinct(branch, reserv_no, order_cnt) %>%   # 중복 예약 번호는 하나만 출력\n",
    "    filter(order_cnt == 2) %>%                   # 2인 경우 선택(스테이크와 와인을 동시 주문한 경우)\n",
    "    arrange(branch)\n",
    "\n",
    "# 동시 주문인 경우의 예약 번호 데이터셋(12건)\n",
    "df_stime_order"
   ]
  },
  {
   "cell_type": "code",
   "execution_count": 21,
   "id": "raised-wilson",
   "metadata": {},
   "outputs": [
    {
     "data": {
      "text/html": [
       "<table>\n",
       "<thead><tr><th scope=col>reserv_no</th><th scope=col>product_name</th><th scope=col>sales_amt</th></tr></thead>\n",
       "<tbody>\n",
       "\t<tr><td>2019091201</td><td>STEAK     </td><td> 70       </td></tr>\n",
       "\t<tr><td>2019112101</td><td>STEAK     </td><td>280       </td></tr>\n",
       "\t<tr><td>2019112102</td><td>STEAK     </td><td>280       </td></tr>\n",
       "\t<tr><td>2019120202</td><td>STEAK     </td><td>420       </td></tr>\n",
       "\t<tr><td>2019122702</td><td>STEAK     </td><td> 70       </td></tr>\n",
       "\t<tr><td>2019122703</td><td>STEAK     </td><td> 70       </td></tr>\n",
       "\t<tr><td>2019122801</td><td>STEAK     </td><td>175       </td></tr>\n",
       "\t<tr><td>2019122804</td><td>STEAK     </td><td> 70       </td></tr>\n",
       "\t<tr><td>2019122810</td><td>STEAK     </td><td> 70       </td></tr>\n",
       "\t<tr><td>2019122901</td><td>STEAK     </td><td>140       </td></tr>\n",
       "\t<tr><td>2019123006</td><td>STEAK     </td><td> 35       </td></tr>\n",
       "\t<tr><td>2019123107</td><td>STEAK     </td><td>140       </td></tr>\n",
       "\t<tr><td>2019091201</td><td>WINE      </td><td> 16       </td></tr>\n",
       "\t<tr><td>2019112101</td><td>WINE      </td><td>128       </td></tr>\n",
       "\t<tr><td>2019112102</td><td>WINE      </td><td> 64       </td></tr>\n",
       "\t<tr><td>2019120202</td><td>WINE      </td><td>176       </td></tr>\n",
       "\t<tr><td>2019122702</td><td>WINE      </td><td> 16       </td></tr>\n",
       "\t<tr><td>2019122703</td><td>WINE      </td><td> 16       </td></tr>\n",
       "\t<tr><td>2019122801</td><td>WINE      </td><td> 40       </td></tr>\n",
       "\t<tr><td>2019122804</td><td>WINE      </td><td> 16       </td></tr>\n",
       "\t<tr><td>2019122810</td><td>WINE      </td><td> 16       </td></tr>\n",
       "\t<tr><td>2019122901</td><td>WINE      </td><td> 32       </td></tr>\n",
       "\t<tr><td>2019123006</td><td>WINE      </td><td>  8       </td></tr>\n",
       "\t<tr><td>2019123107</td><td>WINE      </td><td> 32       </td></tr>\n",
       "</tbody>\n",
       "</table>\n"
      ],
      "text/latex": [
       "\\begin{tabular}{r|lll}\n",
       " reserv\\_no & product\\_name & sales\\_amt\\\\\n",
       "\\hline\n",
       "\t 2019091201 & STEAK      &  70       \\\\\n",
       "\t 2019112101 & STEAK      & 280       \\\\\n",
       "\t 2019112102 & STEAK      & 280       \\\\\n",
       "\t 2019120202 & STEAK      & 420       \\\\\n",
       "\t 2019122702 & STEAK      &  70       \\\\\n",
       "\t 2019122703 & STEAK      &  70       \\\\\n",
       "\t 2019122801 & STEAK      & 175       \\\\\n",
       "\t 2019122804 & STEAK      &  70       \\\\\n",
       "\t 2019122810 & STEAK      &  70       \\\\\n",
       "\t 2019122901 & STEAK      & 140       \\\\\n",
       "\t 2019123006 & STEAK      &  35       \\\\\n",
       "\t 2019123107 & STEAK      & 140       \\\\\n",
       "\t 2019091201 & WINE       &  16       \\\\\n",
       "\t 2019112101 & WINE       & 128       \\\\\n",
       "\t 2019112102 & WINE       &  64       \\\\\n",
       "\t 2019120202 & WINE       & 176       \\\\\n",
       "\t 2019122702 & WINE       &  16       \\\\\n",
       "\t 2019122703 & WINE       &  16       \\\\\n",
       "\t 2019122801 & WINE       &  40       \\\\\n",
       "\t 2019122804 & WINE       &  16       \\\\\n",
       "\t 2019122810 & WINE       &  16       \\\\\n",
       "\t 2019122901 & WINE       &  32       \\\\\n",
       "\t 2019123006 & WINE       &   8       \\\\\n",
       "\t 2019123107 & WINE       &  32       \\\\\n",
       "\\end{tabular}\n"
      ],
      "text/markdown": [
       "\n",
       "| reserv_no | product_name | sales_amt |\n",
       "|---|---|---|\n",
       "| 2019091201 | STEAK      |  70        |\n",
       "| 2019112101 | STEAK      | 280        |\n",
       "| 2019112102 | STEAK      | 280        |\n",
       "| 2019120202 | STEAK      | 420        |\n",
       "| 2019122702 | STEAK      |  70        |\n",
       "| 2019122703 | STEAK      |  70        |\n",
       "| 2019122801 | STEAK      | 175        |\n",
       "| 2019122804 | STEAK      |  70        |\n",
       "| 2019122810 | STEAK      |  70        |\n",
       "| 2019122901 | STEAK      | 140        |\n",
       "| 2019123006 | STEAK      |  35        |\n",
       "| 2019123107 | STEAK      | 140        |\n",
       "| 2019091201 | WINE       |  16        |\n",
       "| 2019112101 | WINE       | 128        |\n",
       "| 2019112102 | WINE       |  64        |\n",
       "| 2019120202 | WINE       | 176        |\n",
       "| 2019122702 | WINE       |  16        |\n",
       "| 2019122703 | WINE       |  16        |\n",
       "| 2019122801 | WINE       |  40        |\n",
       "| 2019122804 | WINE       |  16        |\n",
       "| 2019122810 | WINE       |  16        |\n",
       "| 2019122901 | WINE       |  32        |\n",
       "| 2019123006 | WINE       |   8        |\n",
       "| 2019123107 | WINE       |  32        |\n",
       "\n"
      ],
      "text/plain": [
       "   reserv_no  product_name sales_amt\n",
       "1  2019091201 STEAK         70      \n",
       "2  2019112101 STEAK        280      \n",
       "3  2019112102 STEAK        280      \n",
       "4  2019120202 STEAK        420      \n",
       "5  2019122702 STEAK         70      \n",
       "6  2019122703 STEAK         70      \n",
       "7  2019122801 STEAK        175      \n",
       "8  2019122804 STEAK         70      \n",
       "9  2019122810 STEAK         70      \n",
       "10 2019122901 STEAK        140      \n",
       "11 2019123006 STEAK         35      \n",
       "12 2019123107 STEAK        140      \n",
       "13 2019091201 WINE          16      \n",
       "14 2019112101 WINE         128      \n",
       "15 2019112102 WINE          64      \n",
       "16 2019120202 WINE         176      \n",
       "17 2019122702 WINE          16      \n",
       "18 2019122703 WINE          16      \n",
       "19 2019122801 WINE          40      \n",
       "20 2019122804 WINE          16      \n",
       "21 2019122810 WINE          16      \n",
       "22 2019122901 WINE          32      \n",
       "23 2019123006 WINE           8      \n",
       "24 2019123107 WINE          32      "
      ]
     },
     "metadata": {},
     "output_type": "display_data"
    }
   ],
   "source": [
    "# 동시 주문한 예약 번호만 담는 stime_order 변수 생성\n",
    "stime_order_rsv_no <- df_stime_order$reserv_no    #예약 번호만 선택\n",
    "\n",
    "# 동시 주문 예약 번호이면서 스테이크와 와인일 경우만 선택\n",
    "df_stime_sales <- df_f_join_2 %>%\n",
    "    filter((reserv_no %in% stime_order_rsv_no) & (item_id %in% target_item)) %>%\n",
    "    group_by(reserv_no, product_name) %>%          # 예약 번호와 메뉴 아이템으로 그룹화\n",
    "    summarise(sales_amt = sum(sales) / 1000) %>%   # 매출 합계 요약 계산\n",
    "    arrange(product_name, reserv_no)               # 메뉴 아이템, 예약 번호 기준으로 정렬\n",
    "\n",
    "# 동시 주문 12건이므로 매출 합계 24개 생성(스테이크+와인)\n",
    "df_stime_sales\n",
    " "
   ]
  },
  {
   "cell_type": "code",
   "execution_count": 22,
   "id": "composed-bracelet",
   "metadata": {},
   "outputs": [],
   "source": [
    "steak <- df_stime_sales %>% filter(product_name == \"STEAK\")   # 스테이크 정보만 담음\n",
    "wine <- df_stime_sales %>% filter(product_name == \"WINE\")     # 와인 정보만 담음\n",
    " "
   ]
  },
  {
   "cell_type": "code",
   "execution_count": 23,
   "id": "digital-porter",
   "metadata": {},
   "outputs": [
    {
     "data": {
      "image/png": "[encoded data removed]",
      "text/plain": [
       "plot without title"
      ]
     },
     "metadata": {},
     "output_type": "display_data"
    }
   ],
   "source": [
    "plot(steak$sales_amt, wine$sales_amt)     # 스테이크와 와인의 매출 상관도 그리기"
   ]
  },
  {
   "cell_type": "code",
   "execution_count": 24,
   "id": "identical-commitment",
   "metadata": {},
   "outputs": [
    {
     "data": {
      "text/plain": [
       "\n",
       "\tPearson's product-moment correlation\n",
       "\n",
       "data:  steak$sales_amt and wine$sales_amt\n",
       "t = 9.5423, df = 10, p-value = 2.438e-06\n",
       "alternative hypothesis: true correlation is not equal to 0\n",
       "95 percent confidence interval:\n",
       " 0.8244838 0.9859970\n",
       "sample estimates:\n",
       "      cor \n",
       "0.9492339 \n"
      ]
     },
     "metadata": {},
     "output_type": "display_data"
    }
   ],
   "source": [
    "cor.test(steak$sales_amt, wine$sales_amt)     # 상관관계 확인"
   ]
  },
  {
   "cell_type": "code",
   "execution_count": 25,
   "id": "piano-repository",
   "metadata": {},
   "outputs": [
    {
     "data": {
      "text/html": [
       "<table>\n",
       "<thead><tr><th scope=col>customer_id</th><th scope=col>reserv_no</th></tr></thead>\n",
       "<tbody>\n",
       "\t<tr><td>W1327595  </td><td>2019061801</td></tr>\n",
       "\t<tr><td>W1327595  </td><td>2019071801</td></tr>\n",
       "\t<tr><td>W1327803  </td><td>2019060301</td></tr>\n",
       "\t<tr><td>W1327803  </td><td>2019091506</td></tr>\n",
       "\t<tr><td>W1328432  </td><td>2019060601</td></tr>\n",
       "\t<tr><td>W1328432  </td><td>2019060701</td></tr>\n",
       "</tbody>\n",
       "</table>\n"
      ],
      "text/latex": [
       "\\begin{tabular}{r|ll}\n",
       " customer\\_id & reserv\\_no\\\\\n",
       "\\hline\n",
       "\t W1327595   & 2019061801\\\\\n",
       "\t W1327595   & 2019071801\\\\\n",
       "\t W1327803   & 2019060301\\\\\n",
       "\t W1327803   & 2019091506\\\\\n",
       "\t W1328432   & 2019060601\\\\\n",
       "\t W1328432   & 2019060701\\\\\n",
       "\\end{tabular}\n"
      ],
      "text/markdown": [
       "\n",
       "| customer_id | reserv_no |\n",
       "|---|---|\n",
       "| W1327595   | 2019061801 |\n",
       "| W1327595   | 2019071801 |\n",
       "| W1327803   | 2019060301 |\n",
       "| W1327803   | 2019091506 |\n",
       "| W1328432   | 2019060601 |\n",
       "| W1328432   | 2019060701 |\n",
       "\n"
      ],
      "text/plain": [
       "  customer_id reserv_no \n",
       "1 W1327595    2019061801\n",
       "2 W1327595    2019071801\n",
       "3 W1327803    2019060301\n",
       "4 W1327803    2019091506\n",
       "5 W1328432    2019060601\n",
       "6 W1328432    2019060701"
      ]
     },
     "metadata": {},
     "output_type": "display_data"
    }
   ],
   "source": [
    "df_rsv_customer <- reservation_r %>%\n",
    "select(customer_id, reserv_no) %>%    # 고객별 모든 예약 번호 선택\n",
    "    arrange(customer_id, reserv_no)\n",
    "\n",
    "head(df_rsv_customer)                 # 고객별 예약 번호 확인\n",
    " "
   ]
  },
  {
   "cell_type": "code",
   "execution_count": 26,
   "id": "prospective-vitamin",
   "metadata": {},
   "outputs": [
    {
     "data": {
      "text/html": [
       "<table>\n",
       "<thead><tr><th scope=col>order_no</th><th scope=col>item_id</th><th scope=col>reserv_no</th><th scope=col>quantity</th><th scope=col>sales</th><th scope=col>steak_order</th></tr></thead>\n",
       "<tbody>\n",
       "\t<tr><td>190603578341100100</td><td>M0005             </td><td>2019060301        </td><td>4                 </td><td>140000            </td><td>Y                 </td></tr>\n",
       "\t<tr><td>190606607189610010</td><td>M0005             </td><td>2019060601        </td><td>4                 </td><td>140000            </td><td>Y                 </td></tr>\n",
       "\t<tr><td>190616137200510010</td><td>M0005             </td><td>2019061601        </td><td>3                 </td><td>105000            </td><td>Y                 </td></tr>\n",
       "\t<tr><td>190708517202310010</td><td>M0005             </td><td>2019070801        </td><td>2                 </td><td> 70000            </td><td>Y                 </td></tr>\n",
       "\t<tr><td>190710578348100100</td><td>M0005             </td><td>2019071002        </td><td>3                 </td><td>105000            </td><td>Y                 </td></tr>\n",
       "\t<tr><td>190718107186310010</td><td>M0005             </td><td>2019071801        </td><td>4                 </td><td>140000            </td><td>Y                 </td></tr>\n",
       "</tbody>\n",
       "</table>\n"
      ],
      "text/latex": [
       "\\begin{tabular}{r|llllll}\n",
       " order\\_no & item\\_id & reserv\\_no & quantity & sales & steak\\_order\\\\\n",
       "\\hline\n",
       "\t 190603578341100100 & M0005              & 2019060301         & 4                  & 140000             & Y                 \\\\\n",
       "\t 190606607189610010 & M0005              & 2019060601         & 4                  & 140000             & Y                 \\\\\n",
       "\t 190616137200510010 & M0005              & 2019061601         & 3                  & 105000             & Y                 \\\\\n",
       "\t 190708517202310010 & M0005              & 2019070801         & 2                  &  70000             & Y                 \\\\\n",
       "\t 190710578348100100 & M0005              & 2019071002         & 3                  & 105000             & Y                 \\\\\n",
       "\t 190718107186310010 & M0005              & 2019071801         & 4                  & 140000             & Y                 \\\\\n",
       "\\end{tabular}\n"
      ],
      "text/markdown": [
       "\n",
       "| order_no | item_id | reserv_no | quantity | sales | steak_order |\n",
       "|---|---|---|---|---|---|\n",
       "| 190603578341100100 | M0005              | 2019060301         | 4                  | 140000             | Y                  |\n",
       "| 190606607189610010 | M0005              | 2019060601         | 4                  | 140000             | Y                  |\n",
       "| 190616137200510010 | M0005              | 2019061601         | 3                  | 105000             | Y                  |\n",
       "| 190708517202310010 | M0005              | 2019070801         | 2                  |  70000             | Y                  |\n",
       "| 190710578348100100 | M0005              | 2019071002         | 3                  | 105000             | Y                  |\n",
       "| 190718107186310010 | M0005              | 2019071801         | 4                  | 140000             | Y                  |\n",
       "\n"
      ],
      "text/plain": [
       "  order_no           item_id reserv_no  quantity sales  steak_order\n",
       "1 190603578341100100 M0005   2019060301 4        140000 Y          \n",
       "2 190606607189610010 M0005   2019060601 4        140000 Y          \n",
       "3 190616137200510010 M0005   2019061601 3        105000 Y          \n",
       "4 190708517202310010 M0005   2019070801 2         70000 Y          \n",
       "5 190710578348100100 M0005   2019071002 3        105000 Y          \n",
       "6 190718107186310010 M0005   2019071801 4        140000 Y          "
      ]
     },
     "metadata": {},
     "output_type": "display_data"
    }
   ],
   "source": [
    "# (B) 스테이크 주문 예약 번호 데이터셋 생성\n",
    "    df_steak_order_rsv_no <- order_info_r %>%\n",
    "    filter(item_id == \"M0005\") %>%   # 스테이크 주문이면\n",
    "    mutate(steak_order = \"Y\") %>%    # steak_order 열 데이터를 ‘Y’로 만듦\n",
    "    arrange(reserv_no)\n",
    "\n",
    "head(df_steak_order_rsv_no)          # 데이터셋 확인\n",
    " "
   ]
  },
  {
   "cell_type": "code",
   "execution_count": 27,
   "id": "comparative-mobility",
   "metadata": {},
   "outputs": [
    {
     "data": {
      "text/html": [
       "<table>\n",
       "<thead><tr><th scope=col>customer_id</th><th scope=col>steak_order</th></tr></thead>\n",
       "<tbody>\n",
       "\t<tr><td>W1327595</td><td>Y       </td></tr>\n",
       "\t<tr><td>W1327803</td><td>Y       </td></tr>\n",
       "\t<tr><td>W1328432</td><td>Y       </td></tr>\n",
       "\t<tr><td>W1328505</td><td>N       </td></tr>\n",
       "\t<tr><td>W1328786</td><td>N       </td></tr>\n",
       "\t<tr><td>W1328985</td><td>Y       </td></tr>\n",
       "\t<tr><td>W1328993</td><td>Y       </td></tr>\n",
       "\t<tr><td>W1329560</td><td>N       </td></tr>\n",
       "\t<tr><td>W1329954</td><td>N       </td></tr>\n",
       "\t<tr><td>W1329962</td><td>N       </td></tr>\n",
       "\t<tr><td>W1330024</td><td>N       </td></tr>\n",
       "\t<tr><td>W1330210</td><td>N       </td></tr>\n",
       "\t<tr><td>W1330211</td><td>N       </td></tr>\n",
       "\t<tr><td>W1330463</td><td>N       </td></tr>\n",
       "\t<tr><td>W1330464</td><td>Y       </td></tr>\n",
       "\t<tr><td>W1331022</td><td>N       </td></tr>\n",
       "\t<tr><td>W1331023</td><td>Y       </td></tr>\n",
       "\t<tr><td>W1331028</td><td>N       </td></tr>\n",
       "\t<tr><td>W1331108</td><td>N       </td></tr>\n",
       "\t<tr><td>W1331124</td><td>Y       </td></tr>\n",
       "\t<tr><td>W1331302</td><td>Y       </td></tr>\n",
       "\t<tr><td>W1331712</td><td>N       </td></tr>\n",
       "\t<tr><td>W1332641</td><td>N       </td></tr>\n",
       "\t<tr><td>W1333008</td><td>N       </td></tr>\n",
       "\t<tr><td>W1333222</td><td>Y       </td></tr>\n",
       "\t<tr><td>W1333818</td><td>N       </td></tr>\n",
       "\t<tr><td>W1334298</td><td>N       </td></tr>\n",
       "\t<tr><td>W1334299</td><td>Y       </td></tr>\n",
       "\t<tr><td>W1334366</td><td>Y       </td></tr>\n",
       "\t<tr><td>W1334489</td><td>N       </td></tr>\n",
       "\t<tr><td>...</td><td>...</td></tr>\n",
       "\t<tr><td>W350187</td><td>Y      </td></tr>\n",
       "\t<tr><td>W350248</td><td>Y      </td></tr>\n",
       "\t<tr><td>W350464</td><td>Y      </td></tr>\n",
       "\t<tr><td>W350657</td><td>Y      </td></tr>\n",
       "\t<tr><td>W351511</td><td>N      </td></tr>\n",
       "\t<tr><td>W351513</td><td>N      </td></tr>\n",
       "\t<tr><td>W353411</td><td>Y      </td></tr>\n",
       "\t<tr><td>W354392</td><td>Y      </td></tr>\n",
       "\t<tr><td>W354554</td><td>N      </td></tr>\n",
       "\t<tr><td>W355440</td><td>N      </td></tr>\n",
       "\t<tr><td>W356665</td><td>Y      </td></tr>\n",
       "\t<tr><td>W357565</td><td>N      </td></tr>\n",
       "\t<tr><td>W359004</td><td>N      </td></tr>\n",
       "\t<tr><td>W359156</td><td>N      </td></tr>\n",
       "\t<tr><td>W359586</td><td>N      </td></tr>\n",
       "\t<tr><td>W363413</td><td>N      </td></tr>\n",
       "\t<tr><td>W363739</td><td>Y      </td></tr>\n",
       "\t<tr><td>W365779</td><td>N      </td></tr>\n",
       "\t<tr><td>W366551</td><td>N      </td></tr>\n",
       "\t<tr><td>W366641</td><td>Y      </td></tr>\n",
       "\t<tr><td>W367946</td><td>N      </td></tr>\n",
       "\t<tr><td>W368037</td><td>Y      </td></tr>\n",
       "\t<tr><td>W370526</td><td>N      </td></tr>\n",
       "\t<tr><td>W370765</td><td>Y      </td></tr>\n",
       "\t<tr><td>W371982</td><td>N      </td></tr>\n",
       "\t<tr><td>W373103</td><td>Y      </td></tr>\n",
       "\t<tr><td>W373150</td><td>N      </td></tr>\n",
       "\t<tr><td>W374992</td><td>N      </td></tr>\n",
       "\t<tr><td>W375192</td><td>Y      </td></tr>\n",
       "\t<tr><td>W376429</td><td>N      </td></tr>\n",
       "</tbody>\n",
       "</table>\n"
      ],
      "text/latex": [
       "\\begin{tabular}{r|ll}\n",
       " customer\\_id & steak\\_order\\\\\n",
       "\\hline\n",
       "\t W1327595 & Y       \\\\\n",
       "\t W1327803 & Y       \\\\\n",
       "\t W1328432 & Y       \\\\\n",
       "\t W1328505 & N       \\\\\n",
       "\t W1328786 & N       \\\\\n",
       "\t W1328985 & Y       \\\\\n",
       "\t W1328993 & Y       \\\\\n",
       "\t W1329560 & N       \\\\\n",
       "\t W1329954 & N       \\\\\n",
       "\t W1329962 & N       \\\\\n",
       "\t W1330024 & N       \\\\\n",
       "\t W1330210 & N       \\\\\n",
       "\t W1330211 & N       \\\\\n",
       "\t W1330463 & N       \\\\\n",
       "\t W1330464 & Y       \\\\\n",
       "\t W1331022 & N       \\\\\n",
       "\t W1331023 & Y       \\\\\n",
       "\t W1331028 & N       \\\\\n",
       "\t W1331108 & N       \\\\\n",
       "\t W1331124 & Y       \\\\\n",
       "\t W1331302 & Y       \\\\\n",
       "\t W1331712 & N       \\\\\n",
       "\t W1332641 & N       \\\\\n",
       "\t W1333008 & N       \\\\\n",
       "\t W1333222 & Y       \\\\\n",
       "\t W1333818 & N       \\\\\n",
       "\t W1334298 & N       \\\\\n",
       "\t W1334299 & Y       \\\\\n",
       "\t W1334366 & Y       \\\\\n",
       "\t W1334489 & N       \\\\\n",
       "\t ... & ...\\\\\n",
       "\t W350187 & Y      \\\\\n",
       "\t W350248 & Y      \\\\\n",
       "\t W350464 & Y      \\\\\n",
       "\t W350657 & Y      \\\\\n",
       "\t W351511 & N      \\\\\n",
       "\t W351513 & N      \\\\\n",
       "\t W353411 & Y      \\\\\n",
       "\t W354392 & Y      \\\\\n",
       "\t W354554 & N      \\\\\n",
       "\t W355440 & N      \\\\\n",
       "\t W356665 & Y      \\\\\n",
       "\t W357565 & N      \\\\\n",
       "\t W359004 & N      \\\\\n",
       "\t W359156 & N      \\\\\n",
       "\t W359586 & N      \\\\\n",
       "\t W363413 & N      \\\\\n",
       "\t W363739 & Y      \\\\\n",
       "\t W365779 & N      \\\\\n",
       "\t W366551 & N      \\\\\n",
       "\t W366641 & Y      \\\\\n",
       "\t W367946 & N      \\\\\n",
       "\t W368037 & Y      \\\\\n",
       "\t W370526 & N      \\\\\n",
       "\t W370765 & Y      \\\\\n",
       "\t W371982 & N      \\\\\n",
       "\t W373103 & Y      \\\\\n",
       "\t W373150 & N      \\\\\n",
       "\t W374992 & N      \\\\\n",
       "\t W375192 & Y      \\\\\n",
       "\t W376429 & N      \\\\\n",
       "\\end{tabular}\n"
      ],
      "text/markdown": [
       "\n",
       "| customer_id | steak_order |\n",
       "|---|---|\n",
       "| W1327595 | Y        |\n",
       "| W1327803 | Y        |\n",
       "| W1328432 | Y        |\n",
       "| W1328505 | N        |\n",
       "| W1328786 | N        |\n",
       "| W1328985 | Y        |\n",
       "| W1328993 | Y        |\n",
       "| W1329560 | N        |\n",
       "| W1329954 | N        |\n",
       "| W1329962 | N        |\n",
       "| W1330024 | N        |\n",
       "| W1330210 | N        |\n",
       "| W1330211 | N        |\n",
       "| W1330463 | N        |\n",
       "| W1330464 | Y        |\n",
       "| W1331022 | N        |\n",
       "| W1331023 | Y        |\n",
       "| W1331028 | N        |\n",
       "| W1331108 | N        |\n",
       "| W1331124 | Y        |\n",
       "| W1331302 | Y        |\n",
       "| W1331712 | N        |\n",
       "| W1332641 | N        |\n",
       "| W1333008 | N        |\n",
       "| W1333222 | Y        |\n",
       "| W1333818 | N        |\n",
       "| W1334298 | N        |\n",
       "| W1334299 | Y        |\n",
       "| W1334366 | Y        |\n",
       "| W1334489 | N        |\n",
       "| ... | ... |\n",
       "| W350187 | Y       |\n",
       "| W350248 | Y       |\n",
       "| W350464 | Y       |\n",
       "| W350657 | Y       |\n",
       "| W351511 | N       |\n",
       "| W351513 | N       |\n",
       "| W353411 | Y       |\n",
       "| W354392 | Y       |\n",
       "| W354554 | N       |\n",
       "| W355440 | N       |\n",
       "| W356665 | Y       |\n",
       "| W357565 | N       |\n",
       "| W359004 | N       |\n",
       "| W359156 | N       |\n",
       "| W359586 | N       |\n",
       "| W363413 | N       |\n",
       "| W363739 | Y       |\n",
       "| W365779 | N       |\n",
       "| W366551 | N       |\n",
       "| W366641 | Y       |\n",
       "| W367946 | N       |\n",
       "| W368037 | Y       |\n",
       "| W370526 | N       |\n",
       "| W370765 | Y       |\n",
       "| W371982 | N       |\n",
       "| W373103 | Y       |\n",
       "| W373150 | N       |\n",
       "| W374992 | N       |\n",
       "| W375192 | Y       |\n",
       "| W376429 | N       |\n",
       "\n"
      ],
      "text/plain": [
       "    customer_id steak_order\n",
       "1   W1327595    Y          \n",
       "2   W1327803    Y          \n",
       "3   W1328432    Y          \n",
       "4   W1328505    N          \n",
       "5   W1328786    N          \n",
       "6   W1328985    Y          \n",
       "7   W1328993    Y          \n",
       "8   W1329560    N          \n",
       "9   W1329954    N          \n",
       "10  W1329962    N          \n",
       "11  W1330024    N          \n",
       "12  W1330210    N          \n",
       "13  W1330211    N          \n",
       "14  W1330463    N          \n",
       "15  W1330464    Y          \n",
       "16  W1331022    N          \n",
       "17  W1331023    Y          \n",
       "18  W1331028    N          \n",
       "19  W1331108    N          \n",
       "20  W1331124    Y          \n",
       "21  W1331302    Y          \n",
       "22  W1331712    N          \n",
       "23  W1332641    N          \n",
       "24  W1333008    N          \n",
       "25  W1333222    Y          \n",
       "26  W1333818    N          \n",
       "27  W1334298    N          \n",
       "28  W1334299    Y          \n",
       "29  W1334366    Y          \n",
       "30  W1334489    N          \n",
       "... ...         ...        \n",
       "153 W350187     Y          \n",
       "154 W350248     Y          \n",
       "155 W350464     Y          \n",
       "156 W350657     Y          \n",
       "157 W351511     N          \n",
       "158 W351513     N          \n",
       "159 W353411     Y          \n",
       "160 W354392     Y          \n",
       "161 W354554     N          \n",
       "162 W355440     N          \n",
       "163 W356665     Y          \n",
       "164 W357565     N          \n",
       "165 W359004     N          \n",
       "166 W359156     N          \n",
       "167 W359586     N          \n",
       "168 W363413     N          \n",
       "169 W363739     Y          \n",
       "170 W365779     N          \n",
       "171 W366551     N          \n",
       "172 W366641     Y          \n",
       "173 W367946     N          \n",
       "174 W368037     Y          \n",
       "175 W370526     N          \n",
       "176 W370765     Y          \n",
       "177 W371982     N          \n",
       "178 W373103     Y          \n",
       "179 W373150     N          \n",
       "180 W374992     N          \n",
       "181 W375192     Y          \n",
       "182 W376429     N          "
      ]
     },
     "metadata": {},
     "output_type": "display_data"
    }
   ],
   "source": [
    "# 고객의 모든 예약 번호(A)에 대해 스테이크 주문한 예약 번호(B)를 레프트 조인\n",
    "df_steak_order_1 <- left_join(df_rsv_customer, df_steak_order_rsv_no, by = \"reserv_no\") %>%\n",
    "    group_by(customer_id) %>%                                       # 고객 번호로 그룹화하여(182명)\n",
    "    mutate(steak_order = ifelse(is.na(steak_order), \"N\", \"Y\")) %>%  # 주문 여부가 NA이면 N, Y이면 Y로 바꿈\n",
    "    summarise(steak_order = max (steak_order)) %>%                  # 최댓값만 취함\n",
    "    arrange(customer_id)\n",
    "\n",
    "# 최종 정리된 고객별 스테이크 주문 여부\n",
    "df_dpd_var <- df_steak_order_1\n",
    "\n",
    "# 종속 변수, 최종 고객 182명의 스테이크 주문 여부 결과 확인\n",
    "df_dpd_var"
   ]
  },
  {
   "cell_type": "code",
   "execution_count": 28,
   "id": "psychological-thesis",
   "metadata": {},
   "outputs": [
    {
     "name": "stdout",
     "output_type": "stream",
     "text": [
      "Classes 'tbl_df', 'tbl' and 'data.frame':\t322 obs. of  19 variables:\n",
      " $ customer_id   : chr  \"W1346506\" \"W1347648\" \"W1347756\" \"W1347984\" ...\n",
      " $ customer_name : chr  \"고객71\" \"고객72\" \"고객73\" \"고객74\" ...\n",
      " $ phone_number  : chr  \"010-1111-1181\" \"010-1111-1182\" \"010-1111-1183\" \"010-1111-1184\" ...\n",
      " $ email         : chr  \"scust71@sfnb.co.kr\" \"scust72@sfnb.co.kr\" \"scust73@sfnb.co.kr\" \"scust74@sfnb.co.kr\" ...\n",
      " $ first_reg_date: chr  \"19/09/01\" \"19/09/04\" \"19/09/05\" \"19/09/06\" ...\n",
      " $ sex_code      : chr  \"F\" \"M\" \"M\" \"M\" ...\n",
      " $ birth         : chr  \"19820922\" \"19940812\" \"19931217\" \"19810822\" ...\n",
      " $ job           : chr  \"자영업\" \"학생\" NA \"자영업\" ...\n",
      " $ zip_code      : chr  \"122100\" \"140100\" \"152100\" \"130100\" ...\n",
      " $ reserv_no     : chr  \"2019102002\" \"2019092301\" \"2019111301\" \"2019120201\" ...\n",
      " $ reserv_date   : chr  \"20191020\" \"20190923\" \"20191113\" \"20191202\" ...\n",
      " $ reserv_time   : chr  \"1800\" \"1800\" \"1200\" \"1200\" ...\n",
      " $ branch        : chr  \"중구\" \"강남\" \"중구\" \"송파\" ...\n",
      " $ visitor_cnt   : num  2 1 2 3 2 2 2 2 1 2 ...\n",
      " $ cancel        : chr  \"N\" \"N\" \"N\" \"N\" ...\n",
      " $ order_no      : chr  \"191020573101100100\" \"190923567847010020\" \"191113607314510010\" \"191202107316910010\" ...\n",
      " $ item_id       : chr  \"M0002\" \"M0001\" \"M0003\" \"M0010\" ...\n",
      " $ quantity      : num  2 1 2 3 2 2 1 1 1 2 ...\n",
      " $ sales         : num  24000 24000 34000 18000 70000 70000 17000 17000 10000 24000 ...\n"
     ]
    }
   ],
   "source": [
    "# 결측치 제거\n",
    "df_customer <- customer_r %>% filter(!is.na(sex_code))\n",
    "# 성별이 없으면(NA) 고객 번호 제거\n",
    "\n",
    "# 고객 테이블과 예약 테이블 customer_id를 키로 이너 조인\n",
    "df_table_join_1 <- inner_join(df_customer, reservation_r, by = \"customer_id\")\n",
    "\n",
    "# df_table_join_1과 주문 테이블의 reserv_no를 키로 이너 조인\n",
    "df_table_join_2 <- inner_join(df_table_join_1, order_info_r, by = \"reserv_no\")\n",
    "str(df_table_join_2)     # df_table_join_2 테이블 구조 확인\n"
   ]
  },
  {
   "cell_type": "code",
   "execution_count": 29,
   "id": "massive-claim",
   "metadata": {},
   "outputs": [
    {
     "data": {
      "text/html": [
       "<table>\n",
       "<thead><tr><th scope=col>customer_id</th><th scope=col>sex_code</th><th scope=col>visit_sum</th><th scope=col>visitor_sum</th><th scope=col>sales_sum</th></tr></thead>\n",
       "<tbody>\n",
       "\t<tr><td>W1327595</td><td>M       </td><td>2       </td><td> 6      </td><td>188     </td></tr>\n",
       "\t<tr><td>W1327803</td><td>M       </td><td>2       </td><td> 6      </td><td>210     </td></tr>\n",
       "\t<tr><td>W1328432</td><td>M       </td><td>3       </td><td>12      </td><td>246     </td></tr>\n",
       "\t<tr><td>W1328505</td><td>F       </td><td>5       </td><td>15      </td><td>287     </td></tr>\n",
       "\t<tr><td>W1328786</td><td>M       </td><td>1       </td><td> 1      </td><td> 10     </td></tr>\n",
       "\t<tr><td>W1328985</td><td>M       </td><td>2       </td><td> 6      </td><td>178     </td></tr>\n",
       "\t<tr><td>W1328993</td><td>F       </td><td>1       </td><td> 4      </td><td>140     </td></tr>\n",
       "\t<tr><td>W1329560</td><td>M       </td><td>1       </td><td> 2      </td><td> 24     </td></tr>\n",
       "\t<tr><td>W1329954</td><td>M       </td><td>1       </td><td> 2      </td><td> 48     </td></tr>\n",
       "\t<tr><td>W1329962</td><td>M       </td><td>2       </td><td> 4      </td><td> 48     </td></tr>\n",
       "\t<tr><td>W1330024</td><td>M       </td><td>1       </td><td> 3      </td><td> 30     </td></tr>\n",
       "\t<tr><td>W1330211</td><td>M       </td><td>1       </td><td> 4      </td><td> 54     </td></tr>\n",
       "\t<tr><td>W1330464</td><td>F       </td><td>1       </td><td> 3      </td><td>105     </td></tr>\n",
       "\t<tr><td>W1331022</td><td>M       </td><td>2       </td><td> 7      </td><td>158     </td></tr>\n",
       "\t<tr><td>W1331023</td><td>M       </td><td>1       </td><td> 2      </td><td> 70     </td></tr>\n",
       "\t<tr><td>W1331028</td><td>F       </td><td>2       </td><td> 4      </td><td> 67     </td></tr>\n",
       "\t<tr><td>W1331108</td><td>F       </td><td>1       </td><td> 1      </td><td> 10     </td></tr>\n",
       "\t<tr><td>W1331124</td><td>M       </td><td>4       </td><td>10      </td><td>290     </td></tr>\n",
       "\t<tr><td>W1331302</td><td>M       </td><td>2       </td><td> 7      </td><td>176     </td></tr>\n",
       "\t<tr><td>W1331712</td><td>M       </td><td>1       </td><td> 1      </td><td>  6     </td></tr>\n",
       "\t<tr><td>W1332641</td><td>M       </td><td>2       </td><td> 7      </td><td>132     </td></tr>\n",
       "\t<tr><td>W1333008</td><td>M       </td><td>2       </td><td> 3      </td><td> 25     </td></tr>\n",
       "\t<tr><td>W1333222</td><td>M       </td><td>5       </td><td>19      </td><td>346     </td></tr>\n",
       "\t<tr><td>W1333818</td><td>M       </td><td>3       </td><td> 9      </td><td>135     </td></tr>\n",
       "\t<tr><td>W1334298</td><td>F       </td><td>1       </td><td> 4      </td><td>100     </td></tr>\n",
       "\t<tr><td>W1334299</td><td>M       </td><td>1       </td><td> 3      </td><td>105     </td></tr>\n",
       "\t<tr><td>W1334366</td><td>M       </td><td>5       </td><td>10      </td><td>262     </td></tr>\n",
       "\t<tr><td>W1334489</td><td>M       </td><td>1       </td><td> 3      </td><td> 36     </td></tr>\n",
       "\t<tr><td>W1334565</td><td>M       </td><td>1       </td><td> 7      </td><td>126     </td></tr>\n",
       "\t<tr><td>W1335068</td><td>F       </td><td>1       </td><td> 3      </td><td> 51     </td></tr>\n",
       "\t<tr><td>...</td><td>...</td><td>...</td><td>...</td><td>...</td></tr>\n",
       "\t<tr><td>W1376941</td><td>F       </td><td>1       </td><td> 4      </td><td>140     </td></tr>\n",
       "\t<tr><td>W1377607</td><td>M       </td><td>1       </td><td> 3      </td><td> 30     </td></tr>\n",
       "\t<tr><td>W1379344</td><td>F       </td><td>1       </td><td> 4      </td><td>140     </td></tr>\n",
       "\t<tr><td>W329803 </td><td>M       </td><td>2       </td><td> 5      </td><td>129     </td></tr>\n",
       "\t<tr><td>W331726 </td><td>F       </td><td>1       </td><td> 2      </td><td> 70     </td></tr>\n",
       "\t<tr><td>W335138 </td><td>M       </td><td>1       </td><td> 4      </td><td> 24     </td></tr>\n",
       "\t<tr><td>W335276 </td><td>M       </td><td>1       </td><td> 7      </td><td> 75     </td></tr>\n",
       "\t<tr><td>W336341 </td><td>F       </td><td>1       </td><td> 1      </td><td> 10     </td></tr>\n",
       "\t<tr><td>W339492 </td><td>F       </td><td>1       </td><td> 3      </td><td> 36     </td></tr>\n",
       "\t<tr><td>W343269 </td><td>M       </td><td>1       </td><td> 2      </td><td> 16     </td></tr>\n",
       "\t<tr><td>W344324 </td><td>M       </td><td>3       </td><td>17      </td><td>239     </td></tr>\n",
       "\t<tr><td>W345397 </td><td>F       </td><td>3       </td><td> 6      </td><td>110     </td></tr>\n",
       "\t<tr><td>W345737 </td><td>F       </td><td>2       </td><td> 8      </td><td>205     </td></tr>\n",
       "\t<tr><td>W346987 </td><td>F       </td><td>1       </td><td> 9      </td><td>216     </td></tr>\n",
       "\t<tr><td>W348130 </td><td>M       </td><td>1       </td><td> 2      </td><td> 40     </td></tr>\n",
       "\t<tr><td>W348551 </td><td>F       </td><td>2       </td><td>14      </td><td> 78     </td></tr>\n",
       "\t<tr><td>W349096 </td><td>F       </td><td>1       </td><td> 3      </td><td> 50     </td></tr>\n",
       "\t<tr><td>W350187 </td><td>F       </td><td>1       </td><td> 1      </td><td> 43     </td></tr>\n",
       "\t<tr><td>W350657 </td><td>M       </td><td>1       </td><td> 8      </td><td>280     </td></tr>\n",
       "\t<tr><td>W351511 </td><td>F       </td><td>3       </td><td> 8      </td><td> 80     </td></tr>\n",
       "\t<tr><td>W359586 </td><td>F       </td><td>1       </td><td> 1      </td><td> 10     </td></tr>\n",
       "\t<tr><td>W366551 </td><td>F       </td><td>1       </td><td> 6      </td><td> 82     </td></tr>\n",
       "\t<tr><td>W366641 </td><td>F       </td><td>2       </td><td> 8      </td><td>280     </td></tr>\n",
       "\t<tr><td>W367946 </td><td>M       </td><td>1       </td><td> 8      </td><td> 51     </td></tr>\n",
       "\t<tr><td>W368037 </td><td>M       </td><td>3       </td><td>13      </td><td>210     </td></tr>\n",
       "\t<tr><td>W370526 </td><td>F       </td><td>2       </td><td> 5      </td><td> 94     </td></tr>\n",
       "\t<tr><td>W370765 </td><td>F       </td><td>1       </td><td> 5      </td><td>175     </td></tr>\n",
       "\t<tr><td>W373103 </td><td>M       </td><td>1       </td><td> 2      </td><td> 70     </td></tr>\n",
       "\t<tr><td>W373150 </td><td>M       </td><td>1       </td><td> 2      </td><td> 20     </td></tr>\n",
       "\t<tr><td>W376429 </td><td>M       </td><td>1       </td><td> 2      </td><td> 48     </td></tr>\n",
       "</tbody>\n",
       "</table>\n"
      ],
      "text/latex": [
       "\\begin{tabular}{r|lllll}\n",
       " customer\\_id & sex\\_code & visit\\_sum & visitor\\_sum & sales\\_sum\\\\\n",
       "\\hline\n",
       "\t W1327595 & M        & 2        &  6       & 188     \\\\\n",
       "\t W1327803 & M        & 2        &  6       & 210     \\\\\n",
       "\t W1328432 & M        & 3        & 12       & 246     \\\\\n",
       "\t W1328505 & F        & 5        & 15       & 287     \\\\\n",
       "\t W1328786 & M        & 1        &  1       &  10     \\\\\n",
       "\t W1328985 & M        & 2        &  6       & 178     \\\\\n",
       "\t W1328993 & F        & 1        &  4       & 140     \\\\\n",
       "\t W1329560 & M        & 1        &  2       &  24     \\\\\n",
       "\t W1329954 & M        & 1        &  2       &  48     \\\\\n",
       "\t W1329962 & M        & 2        &  4       &  48     \\\\\n",
       "\t W1330024 & M        & 1        &  3       &  30     \\\\\n",
       "\t W1330211 & M        & 1        &  4       &  54     \\\\\n",
       "\t W1330464 & F        & 1        &  3       & 105     \\\\\n",
       "\t W1331022 & M        & 2        &  7       & 158     \\\\\n",
       "\t W1331023 & M        & 1        &  2       &  70     \\\\\n",
       "\t W1331028 & F        & 2        &  4       &  67     \\\\\n",
       "\t W1331108 & F        & 1        &  1       &  10     \\\\\n",
       "\t W1331124 & M        & 4        & 10       & 290     \\\\\n",
       "\t W1331302 & M        & 2        &  7       & 176     \\\\\n",
       "\t W1331712 & M        & 1        &  1       &   6     \\\\\n",
       "\t W1332641 & M        & 2        &  7       & 132     \\\\\n",
       "\t W1333008 & M        & 2        &  3       &  25     \\\\\n",
       "\t W1333222 & M        & 5        & 19       & 346     \\\\\n",
       "\t W1333818 & M        & 3        &  9       & 135     \\\\\n",
       "\t W1334298 & F        & 1        &  4       & 100     \\\\\n",
       "\t W1334299 & M        & 1        &  3       & 105     \\\\\n",
       "\t W1334366 & M        & 5        & 10       & 262     \\\\\n",
       "\t W1334489 & M        & 1        &  3       &  36     \\\\\n",
       "\t W1334565 & M        & 1        &  7       & 126     \\\\\n",
       "\t W1335068 & F        & 1        &  3       &  51     \\\\\n",
       "\t ... & ... & ... & ... & ...\\\\\n",
       "\t W1376941 & F        & 1        &  4       & 140     \\\\\n",
       "\t W1377607 & M        & 1        &  3       &  30     \\\\\n",
       "\t W1379344 & F        & 1        &  4       & 140     \\\\\n",
       "\t W329803  & M        & 2        &  5       & 129     \\\\\n",
       "\t W331726  & F        & 1        &  2       &  70     \\\\\n",
       "\t W335138  & M        & 1        &  4       &  24     \\\\\n",
       "\t W335276  & M        & 1        &  7       &  75     \\\\\n",
       "\t W336341  & F        & 1        &  1       &  10     \\\\\n",
       "\t W339492  & F        & 1        &  3       &  36     \\\\\n",
       "\t W343269  & M        & 1        &  2       &  16     \\\\\n",
       "\t W344324  & M        & 3        & 17       & 239     \\\\\n",
       "\t W345397  & F        & 3        &  6       & 110     \\\\\n",
       "\t W345737  & F        & 2        &  8       & 205     \\\\\n",
       "\t W346987  & F        & 1        &  9       & 216     \\\\\n",
       "\t W348130  & M        & 1        &  2       &  40     \\\\\n",
       "\t W348551  & F        & 2        & 14       &  78     \\\\\n",
       "\t W349096  & F        & 1        &  3       &  50     \\\\\n",
       "\t W350187  & F        & 1        &  1       &  43     \\\\\n",
       "\t W350657  & M        & 1        &  8       & 280     \\\\\n",
       "\t W351511  & F        & 3        &  8       &  80     \\\\\n",
       "\t W359586  & F        & 1        &  1       &  10     \\\\\n",
       "\t W366551  & F        & 1        &  6       &  82     \\\\\n",
       "\t W366641  & F        & 2        &  8       & 280     \\\\\n",
       "\t W367946  & M        & 1        &  8       &  51     \\\\\n",
       "\t W368037  & M        & 3        & 13       & 210     \\\\\n",
       "\t W370526  & F        & 2        &  5       &  94     \\\\\n",
       "\t W370765  & F        & 1        &  5       & 175     \\\\\n",
       "\t W373103  & M        & 1        &  2       &  70     \\\\\n",
       "\t W373150  & M        & 1        &  2       &  20     \\\\\n",
       "\t W376429  & M        & 1        &  2       &  48     \\\\\n",
       "\\end{tabular}\n"
      ],
      "text/markdown": [
       "\n",
       "| customer_id | sex_code | visit_sum | visitor_sum | sales_sum |\n",
       "|---|---|---|---|---|\n",
       "| W1327595 | M        | 2        |  6       | 188      |\n",
       "| W1327803 | M        | 2        |  6       | 210      |\n",
       "| W1328432 | M        | 3        | 12       | 246      |\n",
       "| W1328505 | F        | 5        | 15       | 287      |\n",
       "| W1328786 | M        | 1        |  1       |  10      |\n",
       "| W1328985 | M        | 2        |  6       | 178      |\n",
       "| W1328993 | F        | 1        |  4       | 140      |\n",
       "| W1329560 | M        | 1        |  2       |  24      |\n",
       "| W1329954 | M        | 1        |  2       |  48      |\n",
       "| W1329962 | M        | 2        |  4       |  48      |\n",
       "| W1330024 | M        | 1        |  3       |  30      |\n",
       "| W1330211 | M        | 1        |  4       |  54      |\n",
       "| W1330464 | F        | 1        |  3       | 105      |\n",
       "| W1331022 | M        | 2        |  7       | 158      |\n",
       "| W1331023 | M        | 1        |  2       |  70      |\n",
       "| W1331028 | F        | 2        |  4       |  67      |\n",
       "| W1331108 | F        | 1        |  1       |  10      |\n",
       "| W1331124 | M        | 4        | 10       | 290      |\n",
       "| W1331302 | M        | 2        |  7       | 176      |\n",
       "| W1331712 | M        | 1        |  1       |   6      |\n",
       "| W1332641 | M        | 2        |  7       | 132      |\n",
       "| W1333008 | M        | 2        |  3       |  25      |\n",
       "| W1333222 | M        | 5        | 19       | 346      |\n",
       "| W1333818 | M        | 3        |  9       | 135      |\n",
       "| W1334298 | F        | 1        |  4       | 100      |\n",
       "| W1334299 | M        | 1        |  3       | 105      |\n",
       "| W1334366 | M        | 5        | 10       | 262      |\n",
       "| W1334489 | M        | 1        |  3       |  36      |\n",
       "| W1334565 | M        | 1        |  7       | 126      |\n",
       "| W1335068 | F        | 1        |  3       |  51      |\n",
       "| ... | ... | ... | ... | ... |\n",
       "| W1376941 | F        | 1        |  4       | 140      |\n",
       "| W1377607 | M        | 1        |  3       |  30      |\n",
       "| W1379344 | F        | 1        |  4       | 140      |\n",
       "| W329803  | M        | 2        |  5       | 129      |\n",
       "| W331726  | F        | 1        |  2       |  70      |\n",
       "| W335138  | M        | 1        |  4       |  24      |\n",
       "| W335276  | M        | 1        |  7       |  75      |\n",
       "| W336341  | F        | 1        |  1       |  10      |\n",
       "| W339492  | F        | 1        |  3       |  36      |\n",
       "| W343269  | M        | 1        |  2       |  16      |\n",
       "| W344324  | M        | 3        | 17       | 239      |\n",
       "| W345397  | F        | 3        |  6       | 110      |\n",
       "| W345737  | F        | 2        |  8       | 205      |\n",
       "| W346987  | F        | 1        |  9       | 216      |\n",
       "| W348130  | M        | 1        |  2       |  40      |\n",
       "| W348551  | F        | 2        | 14       |  78      |\n",
       "| W349096  | F        | 1        |  3       |  50      |\n",
       "| W350187  | F        | 1        |  1       |  43      |\n",
       "| W350657  | M        | 1        |  8       | 280      |\n",
       "| W351511  | F        | 3        |  8       |  80      |\n",
       "| W359586  | F        | 1        |  1       |  10      |\n",
       "| W366551  | F        | 1        |  6       |  82      |\n",
       "| W366641  | F        | 2        |  8       | 280      |\n",
       "| W367946  | M        | 1        |  8       |  51      |\n",
       "| W368037  | M        | 3        | 13       | 210      |\n",
       "| W370526  | F        | 2        |  5       |  94      |\n",
       "| W370765  | F        | 1        |  5       | 175      |\n",
       "| W373103  | M        | 1        |  2       |  70      |\n",
       "| W373150  | M        | 1        |  2       |  20      |\n",
       "| W376429  | M        | 1        |  2       |  48      |\n",
       "\n"
      ],
      "text/plain": [
       "    customer_id sex_code visit_sum visitor_sum sales_sum\n",
       "1   W1327595    M        2          6          188      \n",
       "2   W1327803    M        2          6          210      \n",
       "3   W1328432    M        3         12          246      \n",
       "4   W1328505    F        5         15          287      \n",
       "5   W1328786    M        1          1           10      \n",
       "6   W1328985    M        2          6          178      \n",
       "7   W1328993    F        1          4          140      \n",
       "8   W1329560    M        1          2           24      \n",
       "9   W1329954    M        1          2           48      \n",
       "10  W1329962    M        2          4           48      \n",
       "11  W1330024    M        1          3           30      \n",
       "12  W1330211    M        1          4           54      \n",
       "13  W1330464    F        1          3          105      \n",
       "14  W1331022    M        2          7          158      \n",
       "15  W1331023    M        1          2           70      \n",
       "16  W1331028    F        2          4           67      \n",
       "17  W1331108    F        1          1           10      \n",
       "18  W1331124    M        4         10          290      \n",
       "19  W1331302    M        2          7          176      \n",
       "20  W1331712    M        1          1            6      \n",
       "21  W1332641    M        2          7          132      \n",
       "22  W1333008    M        2          3           25      \n",
       "23  W1333222    M        5         19          346      \n",
       "24  W1333818    M        3          9          135      \n",
       "25  W1334298    F        1          4          100      \n",
       "26  W1334299    M        1          3          105      \n",
       "27  W1334366    M        5         10          262      \n",
       "28  W1334489    M        1          3           36      \n",
       "29  W1334565    M        1          7          126      \n",
       "30  W1335068    F        1          3           51      \n",
       "... ...         ...      ...       ...         ...      \n",
       "113 W1376941    F        1          4          140      \n",
       "114 W1377607    M        1          3           30      \n",
       "115 W1379344    F        1          4          140      \n",
       "116 W329803     M        2          5          129      \n",
       "117 W331726     F        1          2           70      \n",
       "118 W335138     M        1          4           24      \n",
       "119 W335276     M        1          7           75      \n",
       "120 W336341     F        1          1           10      \n",
       "121 W339492     F        1          3           36      \n",
       "122 W343269     M        1          2           16      \n",
       "123 W344324     M        3         17          239      \n",
       "124 W345397     F        3          6          110      \n",
       "125 W345737     F        2          8          205      \n",
       "126 W346987     F        1          9          216      \n",
       "127 W348130     M        1          2           40      \n",
       "128 W348551     F        2         14           78      \n",
       "129 W349096     F        1          3           50      \n",
       "130 W350187     F        1          1           43      \n",
       "131 W350657     M        1          8          280      \n",
       "132 W351511     F        3          8           80      \n",
       "133 W359586     F        1          1           10      \n",
       "134 W366551     F        1          6           82      \n",
       "135 W366641     F        2          8          280      \n",
       "136 W367946     M        1          8           51      \n",
       "137 W368037     M        3         13          210      \n",
       "138 W370526     F        2          5           94      \n",
       "139 W370765     F        1          5          175      \n",
       "140 W373103     M        1          2           70      \n",
       "141 W373150     M        1          2           20      \n",
       "142 W376429     M        1          2           48      "
      ]
     },
     "metadata": {},
     "output_type": "display_data"
    }
   ],
   "source": [
    "# 고객 정보, 성별 정보와 방문 횟수, 방문객 수, 매출 합을 요약\n",
    "df_table_join_3 <- df_table_join_2 %>%\n",
    "    group_by(customer_id, sex_code, reserv_no, visitor_cnt) %>% \n",
    "    summarise(sales_sum = sum(sales)) %>%\n",
    "    group_by(customer_id, sex_code) %>%                         \n",
    "    summarise(visit_sum = n_distinct(reserv_no), visitor_sum = sum(visitor_cnt), sales_sum = sum(sales_sum) / 1000) %>%     # ⓒ\n",
    "    arrange(customer_id)\n",
    "\n",
    "df_idp_var <- df_table_join_3   # 독립 변수\n",
    "\n",
    "df_idp_var                      # 독립 변수 확인(142행)"
   ]
  },
  {
   "cell_type": "code",
   "execution_count": 30,
   "id": "passive-response",
   "metadata": {},
   "outputs": [
    {
     "data": {
      "text/html": [
       "<table>\n",
       "<thead><tr><th scope=col>sex_code</th><th scope=col>visit_sum</th><th scope=col>visitor_sum</th><th scope=col>sales_sum</th><th scope=col>steak_order</th></tr></thead>\n",
       "<tbody>\n",
       "\t<tr><td>M  </td><td>2  </td><td> 6 </td><td>188</td><td>Y  </td></tr>\n",
       "\t<tr><td>M  </td><td>2  </td><td> 6 </td><td>210</td><td>Y  </td></tr>\n",
       "\t<tr><td>M  </td><td>3  </td><td>12 </td><td>246</td><td>Y  </td></tr>\n",
       "\t<tr><td>F  </td><td>5  </td><td>15 </td><td>287</td><td>N  </td></tr>\n",
       "\t<tr><td>M  </td><td>1  </td><td> 1 </td><td> 10</td><td>N  </td></tr>\n",
       "\t<tr><td>M  </td><td>2  </td><td> 6 </td><td>178</td><td>Y  </td></tr>\n",
       "\t<tr><td>F  </td><td>1  </td><td> 4 </td><td>140</td><td>Y  </td></tr>\n",
       "\t<tr><td>M  </td><td>1  </td><td> 2 </td><td> 24</td><td>N  </td></tr>\n",
       "\t<tr><td>M  </td><td>1  </td><td> 2 </td><td> 48</td><td>N  </td></tr>\n",
       "\t<tr><td>M  </td><td>2  </td><td> 4 </td><td> 48</td><td>N  </td></tr>\n",
       "\t<tr><td>M  </td><td>1  </td><td> 3 </td><td> 30</td><td>N  </td></tr>\n",
       "\t<tr><td>M  </td><td>1  </td><td> 4 </td><td> 54</td><td>N  </td></tr>\n",
       "\t<tr><td>F  </td><td>1  </td><td> 3 </td><td>105</td><td>Y  </td></tr>\n",
       "\t<tr><td>M  </td><td>2  </td><td> 7 </td><td>158</td><td>N  </td></tr>\n",
       "\t<tr><td>M  </td><td>1  </td><td> 2 </td><td> 70</td><td>Y  </td></tr>\n",
       "\t<tr><td>F  </td><td>2  </td><td> 4 </td><td> 67</td><td>N  </td></tr>\n",
       "\t<tr><td>F  </td><td>1  </td><td> 1 </td><td> 10</td><td>N  </td></tr>\n",
       "\t<tr><td>M  </td><td>4  </td><td>10 </td><td>290</td><td>Y  </td></tr>\n",
       "\t<tr><td>M  </td><td>2  </td><td> 7 </td><td>176</td><td>Y  </td></tr>\n",
       "\t<tr><td>M  </td><td>1  </td><td> 1 </td><td>  6</td><td>N  </td></tr>\n",
       "\t<tr><td>M  </td><td>2  </td><td> 7 </td><td>132</td><td>N  </td></tr>\n",
       "\t<tr><td>M  </td><td>2  </td><td> 3 </td><td> 25</td><td>N  </td></tr>\n",
       "\t<tr><td>M  </td><td>5  </td><td>19 </td><td>346</td><td>Y  </td></tr>\n",
       "\t<tr><td>M  </td><td>3  </td><td> 9 </td><td>135</td><td>N  </td></tr>\n",
       "\t<tr><td>F  </td><td>1  </td><td> 4 </td><td>100</td><td>N  </td></tr>\n",
       "\t<tr><td>M  </td><td>1  </td><td> 3 </td><td>105</td><td>Y  </td></tr>\n",
       "\t<tr><td>M  </td><td>5  </td><td>10 </td><td>262</td><td>Y  </td></tr>\n",
       "\t<tr><td>M  </td><td>1  </td><td> 3 </td><td> 36</td><td>N  </td></tr>\n",
       "\t<tr><td>M  </td><td>1  </td><td> 7 </td><td>126</td><td>N  </td></tr>\n",
       "\t<tr><td>F  </td><td>1  </td><td> 3 </td><td> 51</td><td>N  </td></tr>\n",
       "\t<tr><td>...</td><td>...</td><td>...</td><td>...</td><td>...</td></tr>\n",
       "\t<tr><td>F  </td><td>1  </td><td> 4 </td><td>140</td><td>Y  </td></tr>\n",
       "\t<tr><td>M  </td><td>1  </td><td> 3 </td><td> 30</td><td>N  </td></tr>\n",
       "\t<tr><td>F  </td><td>1  </td><td> 4 </td><td>140</td><td>Y  </td></tr>\n",
       "\t<tr><td>M  </td><td>2  </td><td> 5 </td><td>129</td><td>Y  </td></tr>\n",
       "\t<tr><td>F  </td><td>1  </td><td> 2 </td><td> 70</td><td>Y  </td></tr>\n",
       "\t<tr><td>M  </td><td>1  </td><td> 4 </td><td> 24</td><td>N  </td></tr>\n",
       "\t<tr><td>M  </td><td>1  </td><td> 7 </td><td> 75</td><td>N  </td></tr>\n",
       "\t<tr><td>F  </td><td>1  </td><td> 1 </td><td> 10</td><td>N  </td></tr>\n",
       "\t<tr><td>F  </td><td>1  </td><td> 3 </td><td> 36</td><td>N  </td></tr>\n",
       "\t<tr><td>M  </td><td>1  </td><td> 2 </td><td> 16</td><td>N  </td></tr>\n",
       "\t<tr><td>M  </td><td>3  </td><td>17 </td><td>239</td><td>Y  </td></tr>\n",
       "\t<tr><td>F  </td><td>3  </td><td> 6 </td><td>110</td><td>N  </td></tr>\n",
       "\t<tr><td>F  </td><td>2  </td><td> 8 </td><td>205</td><td>Y  </td></tr>\n",
       "\t<tr><td>F  </td><td>1  </td><td> 9 </td><td>216</td><td>N  </td></tr>\n",
       "\t<tr><td>M  </td><td>1  </td><td> 2 </td><td> 40</td><td>N  </td></tr>\n",
       "\t<tr><td>F  </td><td>2  </td><td>14 </td><td> 78</td><td>N  </td></tr>\n",
       "\t<tr><td>F  </td><td>1  </td><td> 3 </td><td> 50</td><td>N  </td></tr>\n",
       "\t<tr><td>F  </td><td>1  </td><td> 1 </td><td> 43</td><td>Y  </td></tr>\n",
       "\t<tr><td>M  </td><td>1  </td><td> 8 </td><td>280</td><td>Y  </td></tr>\n",
       "\t<tr><td>F  </td><td>3  </td><td> 8 </td><td> 80</td><td>N  </td></tr>\n",
       "\t<tr><td>F  </td><td>1  </td><td> 1 </td><td> 10</td><td>N  </td></tr>\n",
       "\t<tr><td>F  </td><td>1  </td><td> 6 </td><td> 82</td><td>N  </td></tr>\n",
       "\t<tr><td>F  </td><td>2  </td><td> 8 </td><td>280</td><td>Y  </td></tr>\n",
       "\t<tr><td>M  </td><td>1  </td><td> 8 </td><td> 51</td><td>N  </td></tr>\n",
       "\t<tr><td>M  </td><td>3  </td><td>13 </td><td>210</td><td>Y  </td></tr>\n",
       "\t<tr><td>F  </td><td>2  </td><td> 5 </td><td> 94</td><td>N  </td></tr>\n",
       "\t<tr><td>F  </td><td>1  </td><td> 5 </td><td>175</td><td>Y  </td></tr>\n",
       "\t<tr><td>M  </td><td>1  </td><td> 2 </td><td> 70</td><td>Y  </td></tr>\n",
       "\t<tr><td>M  </td><td>1  </td><td> 2 </td><td> 20</td><td>N  </td></tr>\n",
       "\t<tr><td>M  </td><td>1  </td><td> 2 </td><td> 48</td><td>N  </td></tr>\n",
       "</tbody>\n",
       "</table>\n"
      ],
      "text/latex": [
       "\\begin{tabular}{r|lllll}\n",
       " sex\\_code & visit\\_sum & visitor\\_sum & sales\\_sum & steak\\_order\\\\\n",
       "\\hline\n",
       "\t M   & 2   &  6  & 188 & Y  \\\\\n",
       "\t M   & 2   &  6  & 210 & Y  \\\\\n",
       "\t M   & 3   & 12  & 246 & Y  \\\\\n",
       "\t F   & 5   & 15  & 287 & N  \\\\\n",
       "\t M   & 1   &  1  &  10 & N  \\\\\n",
       "\t M   & 2   &  6  & 178 & Y  \\\\\n",
       "\t F   & 1   &  4  & 140 & Y  \\\\\n",
       "\t M   & 1   &  2  &  24 & N  \\\\\n",
       "\t M   & 1   &  2  &  48 & N  \\\\\n",
       "\t M   & 2   &  4  &  48 & N  \\\\\n",
       "\t M   & 1   &  3  &  30 & N  \\\\\n",
       "\t M   & 1   &  4  &  54 & N  \\\\\n",
       "\t F   & 1   &  3  & 105 & Y  \\\\\n",
       "\t M   & 2   &  7  & 158 & N  \\\\\n",
       "\t M   & 1   &  2  &  70 & Y  \\\\\n",
       "\t F   & 2   &  4  &  67 & N  \\\\\n",
       "\t F   & 1   &  1  &  10 & N  \\\\\n",
       "\t M   & 4   & 10  & 290 & Y  \\\\\n",
       "\t M   & 2   &  7  & 176 & Y  \\\\\n",
       "\t M   & 1   &  1  &   6 & N  \\\\\n",
       "\t M   & 2   &  7  & 132 & N  \\\\\n",
       "\t M   & 2   &  3  &  25 & N  \\\\\n",
       "\t M   & 5   & 19  & 346 & Y  \\\\\n",
       "\t M   & 3   &  9  & 135 & N  \\\\\n",
       "\t F   & 1   &  4  & 100 & N  \\\\\n",
       "\t M   & 1   &  3  & 105 & Y  \\\\\n",
       "\t M   & 5   & 10  & 262 & Y  \\\\\n",
       "\t M   & 1   &  3  &  36 & N  \\\\\n",
       "\t M   & 1   &  7  & 126 & N  \\\\\n",
       "\t F   & 1   &  3  &  51 & N  \\\\\n",
       "\t ... & ... & ... & ... & ...\\\\\n",
       "\t F   & 1   &  4  & 140 & Y  \\\\\n",
       "\t M   & 1   &  3  &  30 & N  \\\\\n",
       "\t F   & 1   &  4  & 140 & Y  \\\\\n",
       "\t M   & 2   &  5  & 129 & Y  \\\\\n",
       "\t F   & 1   &  2  &  70 & Y  \\\\\n",
       "\t M   & 1   &  4  &  24 & N  \\\\\n",
       "\t M   & 1   &  7  &  75 & N  \\\\\n",
       "\t F   & 1   &  1  &  10 & N  \\\\\n",
       "\t F   & 1   &  3  &  36 & N  \\\\\n",
       "\t M   & 1   &  2  &  16 & N  \\\\\n",
       "\t M   & 3   & 17  & 239 & Y  \\\\\n",
       "\t F   & 3   &  6  & 110 & N  \\\\\n",
       "\t F   & 2   &  8  & 205 & Y  \\\\\n",
       "\t F   & 1   &  9  & 216 & N  \\\\\n",
       "\t M   & 1   &  2  &  40 & N  \\\\\n",
       "\t F   & 2   & 14  &  78 & N  \\\\\n",
       "\t F   & 1   &  3  &  50 & N  \\\\\n",
       "\t F   & 1   &  1  &  43 & Y  \\\\\n",
       "\t M   & 1   &  8  & 280 & Y  \\\\\n",
       "\t F   & 3   &  8  &  80 & N  \\\\\n",
       "\t F   & 1   &  1  &  10 & N  \\\\\n",
       "\t F   & 1   &  6  &  82 & N  \\\\\n",
       "\t F   & 2   &  8  & 280 & Y  \\\\\n",
       "\t M   & 1   &  8  &  51 & N  \\\\\n",
       "\t M   & 3   & 13  & 210 & Y  \\\\\n",
       "\t F   & 2   &  5  &  94 & N  \\\\\n",
       "\t F   & 1   &  5  & 175 & Y  \\\\\n",
       "\t M   & 1   &  2  &  70 & Y  \\\\\n",
       "\t M   & 1   &  2  &  20 & N  \\\\\n",
       "\t M   & 1   &  2  &  48 & N  \\\\\n",
       "\\end{tabular}\n"
      ],
      "text/markdown": [
       "\n",
       "| sex_code | visit_sum | visitor_sum | sales_sum | steak_order |\n",
       "|---|---|---|---|---|\n",
       "| M   | 2   |  6  | 188 | Y   |\n",
       "| M   | 2   |  6  | 210 | Y   |\n",
       "| M   | 3   | 12  | 246 | Y   |\n",
       "| F   | 5   | 15  | 287 | N   |\n",
       "| M   | 1   |  1  |  10 | N   |\n",
       "| M   | 2   |  6  | 178 | Y   |\n",
       "| F   | 1   |  4  | 140 | Y   |\n",
       "| M   | 1   |  2  |  24 | N   |\n",
       "| M   | 1   |  2  |  48 | N   |\n",
       "| M   | 2   |  4  |  48 | N   |\n",
       "| M   | 1   |  3  |  30 | N   |\n",
       "| M   | 1   |  4  |  54 | N   |\n",
       "| F   | 1   |  3  | 105 | Y   |\n",
       "| M   | 2   |  7  | 158 | N   |\n",
       "| M   | 1   |  2  |  70 | Y   |\n",
       "| F   | 2   |  4  |  67 | N   |\n",
       "| F   | 1   |  1  |  10 | N   |\n",
       "| M   | 4   | 10  | 290 | Y   |\n",
       "| M   | 2   |  7  | 176 | Y   |\n",
       "| M   | 1   |  1  |   6 | N   |\n",
       "| M   | 2   |  7  | 132 | N   |\n",
       "| M   | 2   |  3  |  25 | N   |\n",
       "| M   | 5   | 19  | 346 | Y   |\n",
       "| M   | 3   |  9  | 135 | N   |\n",
       "| F   | 1   |  4  | 100 | N   |\n",
       "| M   | 1   |  3  | 105 | Y   |\n",
       "| M   | 5   | 10  | 262 | Y   |\n",
       "| M   | 1   |  3  |  36 | N   |\n",
       "| M   | 1   |  7  | 126 | N   |\n",
       "| F   | 1   |  3  |  51 | N   |\n",
       "| ... | ... | ... | ... | ... |\n",
       "| F   | 1   |  4  | 140 | Y   |\n",
       "| M   | 1   |  3  |  30 | N   |\n",
       "| F   | 1   |  4  | 140 | Y   |\n",
       "| M   | 2   |  5  | 129 | Y   |\n",
       "| F   | 1   |  2  |  70 | Y   |\n",
       "| M   | 1   |  4  |  24 | N   |\n",
       "| M   | 1   |  7  |  75 | N   |\n",
       "| F   | 1   |  1  |  10 | N   |\n",
       "| F   | 1   |  3  |  36 | N   |\n",
       "| M   | 1   |  2  |  16 | N   |\n",
       "| M   | 3   | 17  | 239 | Y   |\n",
       "| F   | 3   |  6  | 110 | N   |\n",
       "| F   | 2   |  8  | 205 | Y   |\n",
       "| F   | 1   |  9  | 216 | N   |\n",
       "| M   | 1   |  2  |  40 | N   |\n",
       "| F   | 2   | 14  |  78 | N   |\n",
       "| F   | 1   |  3  |  50 | N   |\n",
       "| F   | 1   |  1  |  43 | Y   |\n",
       "| M   | 1   |  8  | 280 | Y   |\n",
       "| F   | 3   |  8  |  80 | N   |\n",
       "| F   | 1   |  1  |  10 | N   |\n",
       "| F   | 1   |  6  |  82 | N   |\n",
       "| F   | 2   |  8  | 280 | Y   |\n",
       "| M   | 1   |  8  |  51 | N   |\n",
       "| M   | 3   | 13  | 210 | Y   |\n",
       "| F   | 2   |  5  |  94 | N   |\n",
       "| F   | 1   |  5  | 175 | Y   |\n",
       "| M   | 1   |  2  |  70 | Y   |\n",
       "| M   | 1   |  2  |  20 | N   |\n",
       "| M   | 1   |  2  |  48 | N   |\n",
       "\n"
      ],
      "text/plain": [
       "    sex_code visit_sum visitor_sum sales_sum steak_order\n",
       "1   M        2          6          188       Y          \n",
       "2   M        2          6          210       Y          \n",
       "3   M        3         12          246       Y          \n",
       "4   F        5         15          287       N          \n",
       "5   M        1          1           10       N          \n",
       "6   M        2          6          178       Y          \n",
       "7   F        1          4          140       Y          \n",
       "8   M        1          2           24       N          \n",
       "9   M        1          2           48       N          \n",
       "10  M        2          4           48       N          \n",
       "11  M        1          3           30       N          \n",
       "12  M        1          4           54       N          \n",
       "13  F        1          3          105       Y          \n",
       "14  M        2          7          158       N          \n",
       "15  M        1          2           70       Y          \n",
       "16  F        2          4           67       N          \n",
       "17  F        1          1           10       N          \n",
       "18  M        4         10          290       Y          \n",
       "19  M        2          7          176       Y          \n",
       "20  M        1          1            6       N          \n",
       "21  M        2          7          132       N          \n",
       "22  M        2          3           25       N          \n",
       "23  M        5         19          346       Y          \n",
       "24  M        3          9          135       N          \n",
       "25  F        1          4          100       N          \n",
       "26  M        1          3          105       Y          \n",
       "27  M        5         10          262       Y          \n",
       "28  M        1          3           36       N          \n",
       "29  M        1          7          126       N          \n",
       "30  F        1          3           51       N          \n",
       "... ...      ...       ...         ...       ...        \n",
       "113 F        1          4          140       Y          \n",
       "114 M        1          3           30       N          \n",
       "115 F        1          4          140       Y          \n",
       "116 M        2          5          129       Y          \n",
       "117 F        1          2           70       Y          \n",
       "118 M        1          4           24       N          \n",
       "119 M        1          7           75       N          \n",
       "120 F        1          1           10       N          \n",
       "121 F        1          3           36       N          \n",
       "122 M        1          2           16       N          \n",
       "123 M        3         17          239       Y          \n",
       "124 F        3          6          110       N          \n",
       "125 F        2          8          205       Y          \n",
       "126 F        1          9          216       N          \n",
       "127 M        1          2           40       N          \n",
       "128 F        2         14           78       N          \n",
       "129 F        1          3           50       N          \n",
       "130 F        1          1           43       Y          \n",
       "131 M        1          8          280       Y          \n",
       "132 F        3          8           80       N          \n",
       "133 F        1          1           10       N          \n",
       "134 F        1          6           82       N          \n",
       "135 F        2          8          280       Y          \n",
       "136 M        1          8           51       N          \n",
       "137 M        3         13          210       Y          \n",
       "138 F        2          5           94       N          \n",
       "139 F        1          5          175       Y          \n",
       "140 M        1          2           70       Y          \n",
       "141 M        1          2           20       N          \n",
       "142 M        1          2           48       N          "
      ]
     },
     "metadata": {},
     "output_type": "display_data"
    }
   ],
   "source": [
    "# 독립 변수 데이터셋(①-2)에 종속 변수 데이터셋(①-1) 이너 조인\n",
    "df_final_data <- inner_join(df_idp_var, df_dpd_var, by = \"customer_id\")\n",
    "\n",
    "# 의사 결정 나무 함수를 사용하려고 열 구조를 팩터형으로 바꿈\n",
    "df_final_data$sex_code <- as.factor(df_final_data$sex_code)\n",
    "df_final_data$steak_order <- as.factor(df_final_data$steak_order)\n",
    "\n",
    "df_final_data <- df_final_data[, c(2:6)]   # 의사 결정 나무에 필요한 열만 선택\n",
    "df_final_data                              # 최종 분석용 데이터셋 확인\n",
    " "
   ]
  },
  {
   "cell_type": "code",
   "execution_count": null,
   "id": "integrated-scott",
   "metadata": {},
   "outputs": [],
   "source": []
  }
 ],
 "metadata": {
  "kernelspec": {
   "display_name": "R",
   "language": "R",
   "name": "ir"
  },
  "language_info": {
   "codemirror_mode": "r",
   "file_extension": ".r",
   "mimetype": "text/x-r-source",
   "name": "R",
   "pygments_lexer": "r",
   "version": "3.6.1"
  }
 },
 "nbformat": 4,
 "nbformat_minor": 5
}
