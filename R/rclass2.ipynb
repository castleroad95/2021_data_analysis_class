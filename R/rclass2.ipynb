{
 "cells": [
  {
   "cell_type": "code",
   "execution_count": 1,
   "id": "metallic-password",
   "metadata": {},
   "outputs": [
    {
     "data": {
      "text/html": [
       "<table>\n",
       "<tbody>\n",
       "\t<tr><td>1 </td><td> 6</td><td>11</td><td>16</td></tr>\n",
       "\t<tr><td>2 </td><td> 7</td><td>12</td><td>17</td></tr>\n",
       "\t<tr><td>3 </td><td> 8</td><td>13</td><td>18</td></tr>\n",
       "\t<tr><td>4 </td><td> 9</td><td>14</td><td>19</td></tr>\n",
       "\t<tr><td>5 </td><td>10</td><td>15</td><td>20</td></tr>\n",
       "</tbody>\n",
       "</table>\n"
      ],
      "text/latex": [
       "\\begin{tabular}{llll}\n",
       "\t 1  &  6 & 11 & 16\\\\\n",
       "\t 2  &  7 & 12 & 17\\\\\n",
       "\t 3  &  8 & 13 & 18\\\\\n",
       "\t 4  &  9 & 14 & 19\\\\\n",
       "\t 5  & 10 & 15 & 20\\\\\n",
       "\\end{tabular}\n"
      ],
      "text/markdown": [
       "\n",
       "| 1  |  6 | 11 | 16 |\n",
       "| 2  |  7 | 12 | 17 |\n",
       "| 3  |  8 | 13 | 18 |\n",
       "| 4  |  9 | 14 | 19 |\n",
       "| 5  | 10 | 15 | 20 |\n",
       "\n"
      ],
      "text/plain": [
       "     [,1] [,2] [,3] [,4]\n",
       "[1,] 1     6   11   16  \n",
       "[2,] 2     7   12   17  \n",
       "[3,] 3     8   13   18  \n",
       "[4,] 4     9   14   19  \n",
       "[5,] 5    10   15   20  "
      ]
     },
     "metadata": {},
     "output_type": "display_data"
    }
   ],
   "source": [
    "# matrix: 행렬 만들기 \n",
    "# matrix(data,행,열)\n",
    "x <- matrix(1:20,5,4)\n",
    "x"
   ]
  },
  {
   "cell_type": "code",
   "execution_count": 2,
   "id": "objective-debate",
   "metadata": {},
   "outputs": [
    {
     "data": {
      "text/html": [
       "'matrix'"
      ],
      "text/latex": [
       "'matrix'"
      ],
      "text/markdown": [
       "'matrix'"
      ],
      "text/plain": [
       "[1] \"matrix\""
      ]
     },
     "metadata": {},
     "output_type": "display_data"
    }
   ],
   "source": [
    "class(x)"
   ]
  },
  {
   "cell_type": "code",
   "execution_count": 3,
   "id": "foster-perry",
   "metadata": {},
   "outputs": [
    {
     "data": {
      "text/html": [
       "<table>\n",
       "<tbody>\n",
       "\t<tr><td>2 </td><td>7 </td><td>12</td><td>17</td></tr>\n",
       "\t<tr><td>3 </td><td>8 </td><td>13</td><td>18</td></tr>\n",
       "\t<tr><td>4 </td><td>9 </td><td>14</td><td>19</td></tr>\n",
       "</tbody>\n",
       "</table>\n"
      ],
      "text/latex": [
       "\\begin{tabular}{llll}\n",
       "\t 2  & 7  & 12 & 17\\\\\n",
       "\t 3  & 8  & 13 & 18\\\\\n",
       "\t 4  & 9  & 14 & 19\\\\\n",
       "\\end{tabular}\n"
      ],
      "text/markdown": [
       "\n",
       "| 2  | 7  | 12 | 17 |\n",
       "| 3  | 8  | 13 | 18 |\n",
       "| 4  | 9  | 14 | 19 |\n",
       "\n"
      ],
      "text/plain": [
       "     [,1] [,2] [,3] [,4]\n",
       "[1,] 2    7    12   17  \n",
       "[2,] 3    8    13   18  \n",
       "[3,] 4    9    14   19  "
      ]
     },
     "metadata": {},
     "output_type": "display_data"
    }
   ],
   "source": [
    "# 2행~4행, 모든열 \n",
    "x[2:4,]"
   ]
  },
  {
   "cell_type": "code",
   "execution_count": 5,
   "id": "deadly-playing",
   "metadata": {},
   "outputs": [
    {
     "data": {
      "text/html": [
       "<table>\n",
       "<tbody>\n",
       "\t<tr><td>1 </td><td> 6</td><td>11</td><td>16</td></tr>\n",
       "\t<tr><td>3 </td><td> 8</td><td>13</td><td>18</td></tr>\n",
       "\t<tr><td>4 </td><td> 9</td><td>14</td><td>19</td></tr>\n",
       "\t<tr><td>5 </td><td>10</td><td>15</td><td>20</td></tr>\n",
       "</tbody>\n",
       "</table>\n"
      ],
      "text/latex": [
       "\\begin{tabular}{llll}\n",
       "\t 1  &  6 & 11 & 16\\\\\n",
       "\t 3  &  8 & 13 & 18\\\\\n",
       "\t 4  &  9 & 14 & 19\\\\\n",
       "\t 5  & 10 & 15 & 20\\\\\n",
       "\\end{tabular}\n"
      ],
      "text/markdown": [
       "\n",
       "| 1  |  6 | 11 | 16 |\n",
       "| 3  |  8 | 13 | 18 |\n",
       "| 4  |  9 | 14 | 19 |\n",
       "| 5  | 10 | 15 | 20 |\n",
       "\n"
      ],
      "text/plain": [
       "     [,1] [,2] [,3] [,4]\n",
       "[1,] 1     6   11   16  \n",
       "[2,] 3     8   13   18  \n",
       "[3,] 4     9   14   19  \n",
       "[4,] 5    10   15   20  "
      ]
     },
     "metadata": {},
     "output_type": "display_data"
    }
   ],
   "source": [
    "# 2행 제외 모든열\n",
    "x[-2,]"
   ]
  },
  {
   "cell_type": "code",
   "execution_count": 6,
   "id": "damaged-fleece",
   "metadata": {},
   "outputs": [
    {
     "data": {
      "text/html": [
       "<ol class=list-inline>\n",
       "\t<li>7</li>\n",
       "\t<li>8</li>\n",
       "\t<li>9</li>\n",
       "</ol>\n"
      ],
      "text/latex": [
       "\\begin{enumerate*}\n",
       "\\item 7\n",
       "\\item 8\n",
       "\\item 9\n",
       "\\end{enumerate*}\n"
      ],
      "text/markdown": [
       "1. 7\n",
       "2. 8\n",
       "3. 9\n",
       "\n",
       "\n"
      ],
      "text/plain": [
       "[1] 7 8 9"
      ]
     },
     "metadata": {},
     "output_type": "display_data"
    }
   ],
   "source": [
    "# 2~4행 2열\n",
    "x[2:4,2]"
   ]
  },
  {
   "cell_type": "code",
   "execution_count": 7,
   "id": "meaningful-replica",
   "metadata": {},
   "outputs": [
    {
     "data": {
      "text/html": [
       "<table>\n",
       "<tbody>\n",
       "\t<tr><td> 1</td><td> 2</td><td> 3</td><td> 4</td><td> 5</td></tr>\n",
       "\t<tr><td> 6</td><td> 7</td><td> 8</td><td> 9</td><td>10</td></tr>\n",
       "\t<tr><td>11</td><td>12</td><td>13</td><td>14</td><td>15</td></tr>\n",
       "\t<tr><td>16</td><td>17</td><td>18</td><td>19</td><td>20</td></tr>\n",
       "</tbody>\n",
       "</table>\n"
      ],
      "text/latex": [
       "\\begin{tabular}{lllll}\n",
       "\t  1 &  2 &  3 &  4 &  5\\\\\n",
       "\t  6 &  7 &  8 &  9 & 10\\\\\n",
       "\t 11 & 12 & 13 & 14 & 15\\\\\n",
       "\t 16 & 17 & 18 & 19 & 20\\\\\n",
       "\\end{tabular}\n"
      ],
      "text/markdown": [
       "\n",
       "|  1 |  2 |  3 |  4 |  5 |\n",
       "|  6 |  7 |  8 |  9 | 10 |\n",
       "| 11 | 12 | 13 | 14 | 15 |\n",
       "| 16 | 17 | 18 | 19 | 20 |\n",
       "\n"
      ],
      "text/plain": [
       "     [,1] [,2] [,3] [,4] [,5]\n",
       "[1,]  1    2    3    4    5  \n",
       "[2,]  6    7    8    9   10  \n",
       "[3,] 11   12   13   14   15  \n",
       "[4,] 16   17   18   19   20  "
      ]
     },
     "metadata": {},
     "output_type": "display_data"
    }
   ],
   "source": [
    "# 열부터 data 들여쓰기\n",
    "matrix(1:20,4,5,byrow=TRUE)"
   ]
  },
  {
   "cell_type": "code",
   "execution_count": 8,
   "id": "decimal-whale",
   "metadata": {},
   "outputs": [
    {
     "data": {
      "text/html": [
       "<ol class=list-inline>\n",
       "\t<li>1</li>\n",
       "\t<li>2</li>\n",
       "\t<li>1</li>\n",
       "\t<li>2</li>\n",
       "\t<li>1</li>\n",
       "\t<li>2</li>\n",
       "\t<li>1</li>\n",
       "\t<li>2</li>\n",
       "\t<li>1</li>\n",
       "\t<li>2</li>\n",
       "\t<li>1</li>\n",
       "\t<li>2</li>\n",
       "\t<li>1</li>\n",
       "\t<li>2</li>\n",
       "\t<li>1</li>\n",
       "\t<li>2</li>\n",
       "\t<li>1</li>\n",
       "\t<li>2</li>\n",
       "\t<li>1</li>\n",
       "\t<li>2</li>\n",
       "\t<li>1</li>\n",
       "\t<li>2</li>\n",
       "\t<li>1</li>\n",
       "\t<li>2</li>\n",
       "\t<li>1</li>\n",
       "\t<li>2</li>\n",
       "\t<li>1</li>\n",
       "\t<li>2</li>\n",
       "\t<li>1</li>\n",
       "\t<li>2</li>\n",
       "\t<li>1</li>\n",
       "\t<li>2</li>\n",
       "\t<li>1</li>\n",
       "\t<li>2</li>\n",
       "\t<li>1</li>\n",
       "\t<li>2</li>\n",
       "\t<li>1</li>\n",
       "\t<li>2</li>\n",
       "\t<li>1</li>\n",
       "\t<li>2</li>\n",
       "</ol>\n"
      ],
      "text/latex": [
       "\\begin{enumerate*}\n",
       "\\item 1\n",
       "\\item 2\n",
       "\\item 1\n",
       "\\item 2\n",
       "\\item 1\n",
       "\\item 2\n",
       "\\item 1\n",
       "\\item 2\n",
       "\\item 1\n",
       "\\item 2\n",
       "\\item 1\n",
       "\\item 2\n",
       "\\item 1\n",
       "\\item 2\n",
       "\\item 1\n",
       "\\item 2\n",
       "\\item 1\n",
       "\\item 2\n",
       "\\item 1\n",
       "\\item 2\n",
       "\\item 1\n",
       "\\item 2\n",
       "\\item 1\n",
       "\\item 2\n",
       "\\item 1\n",
       "\\item 2\n",
       "\\item 1\n",
       "\\item 2\n",
       "\\item 1\n",
       "\\item 2\n",
       "\\item 1\n",
       "\\item 2\n",
       "\\item 1\n",
       "\\item 2\n",
       "\\item 1\n",
       "\\item 2\n",
       "\\item 1\n",
       "\\item 2\n",
       "\\item 1\n",
       "\\item 2\n",
       "\\end{enumerate*}\n"
      ],
      "text/markdown": [
       "1. 1\n",
       "2. 2\n",
       "3. 1\n",
       "4. 2\n",
       "5. 1\n",
       "6. 2\n",
       "7. 1\n",
       "8. 2\n",
       "9. 1\n",
       "10. 2\n",
       "11. 1\n",
       "12. 2\n",
       "13. 1\n",
       "14. 2\n",
       "15. 1\n",
       "16. 2\n",
       "17. 1\n",
       "18. 2\n",
       "19. 1\n",
       "20. 2\n",
       "21. 1\n",
       "22. 2\n",
       "23. 1\n",
       "24. 2\n",
       "25. 1\n",
       "26. 2\n",
       "27. 1\n",
       "28. 2\n",
       "29. 1\n",
       "30. 2\n",
       "31. 1\n",
       "32. 2\n",
       "33. 1\n",
       "34. 2\n",
       "35. 1\n",
       "36. 2\n",
       "37. 1\n",
       "38. 2\n",
       "39. 1\n",
       "40. 2\n",
       "\n",
       "\n"
      ],
      "text/plain": [
       ", , 1\n",
       "\n",
       "     [,1] [,2] [,3] [,4]\n",
       "[1,]    1    2    1    2\n",
       "[2,]    2    1    2    1\n",
       "[3,]    1    2    1    2\n",
       "[4,]    2    1    2    1\n",
       "[5,]    1    2    1    2\n",
       "\n",
       ", , 2\n",
       "\n",
       "     [,1] [,2] [,3] [,4]\n",
       "[1,]    1    2    1    2\n",
       "[2,]    2    1    2    1\n",
       "[3,]    1    2    1    2\n",
       "[4,]    2    1    2    1\n",
       "[5,]    1    2    1    2\n"
      ]
     },
     "metadata": {},
     "output_type": "display_data"
    }
   ],
   "source": [
    "# 배열생성\n",
    "x <- array(1:2,c(5,4,2))\n",
    "x"
   ]
  },
  {
   "cell_type": "code",
   "execution_count": 11,
   "id": "crude-integrity",
   "metadata": {},
   "outputs": [
    {
     "data": {
      "text/html": [
       "<ol>\n",
       "\t<li><ol class=list-inline>\n",
       "\t<li>1</li>\n",
       "\t<li>2</li>\n",
       "\t<li>3</li>\n",
       "\t<li>4</li>\n",
       "\t<li>5</li>\n",
       "</ol>\n",
       "</li>\n",
       "\t<li><ol class=list-inline>\n",
       "\t<li>1</li>\n",
       "\t<li>2</li>\n",
       "\t<li>3</li>\n",
       "\t<li>4</li>\n",
       "\t<li>5</li>\n",
       "\t<li>6</li>\n",
       "\t<li>7</li>\n",
       "\t<li>8</li>\n",
       "\t<li>9</li>\n",
       "\t<li>10</li>\n",
       "\t<li>11</li>\n",
       "\t<li>12</li>\n",
       "\t<li>13</li>\n",
       "\t<li>14</li>\n",
       "\t<li>15</li>\n",
       "\t<li>16</li>\n",
       "\t<li>17</li>\n",
       "\t<li>18</li>\n",
       "\t<li>19</li>\n",
       "\t<li>20</li>\n",
       "\t<li>21</li>\n",
       "\t<li>22</li>\n",
       "\t<li>23</li>\n",
       "\t<li>24</li>\n",
       "\t<li>25</li>\n",
       "\t<li>26</li>\n",
       "\t<li>27</li>\n",
       "\t<li>28</li>\n",
       "\t<li>29</li>\n",
       "\t<li>30</li>\n",
       "\t<li>31</li>\n",
       "\t<li>32</li>\n",
       "\t<li>33</li>\n",
       "\t<li>34</li>\n",
       "\t<li>35</li>\n",
       "\t<li>36</li>\n",
       "\t<li>37</li>\n",
       "\t<li>38</li>\n",
       "\t<li>39</li>\n",
       "\t<li>40</li>\n",
       "\t<li>41</li>\n",
       "\t<li>42</li>\n",
       "\t<li>43</li>\n",
       "\t<li>44</li>\n",
       "\t<li>45</li>\n",
       "\t<li>46</li>\n",
       "\t<li>47</li>\n",
       "\t<li>48</li>\n",
       "\t<li>49</li>\n",
       "\t<li>50</li>\n",
       "</ol>\n",
       "</li>\n",
       "</ol>\n"
      ],
      "text/latex": [
       "\\begin{enumerate}\n",
       "\\item \\begin{enumerate*}\n",
       "\\item 1\n",
       "\\item 2\n",
       "\\item 3\n",
       "\\item 4\n",
       "\\item 5\n",
       "\\end{enumerate*}\n",
       "\n",
       "\\item \\begin{enumerate*}\n",
       "\\item 1\n",
       "\\item 2\n",
       "\\item 3\n",
       "\\item 4\n",
       "\\item 5\n",
       "\\item 6\n",
       "\\item 7\n",
       "\\item 8\n",
       "\\item 9\n",
       "\\item 10\n",
       "\\item 11\n",
       "\\item 12\n",
       "\\item 13\n",
       "\\item 14\n",
       "\\item 15\n",
       "\\item 16\n",
       "\\item 17\n",
       "\\item 18\n",
       "\\item 19\n",
       "\\item 20\n",
       "\\item 21\n",
       "\\item 22\n",
       "\\item 23\n",
       "\\item 24\n",
       "\\item 25\n",
       "\\item 26\n",
       "\\item 27\n",
       "\\item 28\n",
       "\\item 29\n",
       "\\item 30\n",
       "\\item 31\n",
       "\\item 32\n",
       "\\item 33\n",
       "\\item 34\n",
       "\\item 35\n",
       "\\item 36\n",
       "\\item 37\n",
       "\\item 38\n",
       "\\item 39\n",
       "\\item 40\n",
       "\\item 41\n",
       "\\item 42\n",
       "\\item 43\n",
       "\\item 44\n",
       "\\item 45\n",
       "\\item 46\n",
       "\\item 47\n",
       "\\item 48\n",
       "\\item 49\n",
       "\\item 50\n",
       "\\end{enumerate*}\n",
       "\n",
       "\\end{enumerate}\n"
      ],
      "text/markdown": [
       "1. 1. 1\n",
       "2. 2\n",
       "3. 3\n",
       "4. 4\n",
       "5. 5\n",
       "\n",
       "\n",
       "\n",
       "2. 1. 1\n",
       "2. 2\n",
       "3. 3\n",
       "4. 4\n",
       "5. 5\n",
       "6. 6\n",
       "7. 7\n",
       "8. 8\n",
       "9. 9\n",
       "10. 10\n",
       "11. 11\n",
       "12. 12\n",
       "13. 13\n",
       "14. 14\n",
       "15. 15\n",
       "16. 16\n",
       "17. 17\n",
       "18. 18\n",
       "19. 19\n",
       "20. 20\n",
       "21. 21\n",
       "22. 22\n",
       "23. 23\n",
       "24. 24\n",
       "25. 25\n",
       "26. 26\n",
       "27. 27\n",
       "28. 28\n",
       "29. 29\n",
       "30. 30\n",
       "31. 31\n",
       "32. 32\n",
       "33. 33\n",
       "34. 34\n",
       "35. 35\n",
       "36. 36\n",
       "37. 37\n",
       "38. 38\n",
       "39. 39\n",
       "40. 40\n",
       "41. 41\n",
       "42. 42\n",
       "43. 43\n",
       "44. 44\n",
       "45. 45\n",
       "46. 46\n",
       "47. 47\n",
       "48. 48\n",
       "49. 49\n",
       "50. 50\n",
       "\n",
       "\n",
       "\n",
       "\n",
       "\n"
      ],
      "text/plain": [
       "[[1]]\n",
       "[1] 1 2 3 4 5\n",
       "\n",
       "[[2]]\n",
       " [1]  1  2  3  4  5  6  7  8  9 10 11 12 13 14 15 16 17 18 19 20 21 22 23 24 25\n",
       "[26] 26 27 28 29 30 31 32 33 34 35 36 37 38 39 40 41 42 43 44 45 46 47 48 49 50\n"
      ]
     },
     "metadata": {},
     "output_type": "display_data"
    }
   ],
   "source": [
    "# list생성\n",
    "x  <- list(c(1:5),c(1:50))\n",
    "x"
   ]
  },
  {
   "cell_type": "code",
   "execution_count": 13,
   "id": "critical-karaoke",
   "metadata": {},
   "outputs": [
    {
     "data": {
      "text/html": [
       "<dl>\n",
       "\t<dt>$flower</dt>\n",
       "\t\t<dd>'rose'</dd>\n",
       "\t<dt>$color</dt>\n",
       "\t\t<dd><ol class=list-inline>\n",
       "\t<li>'red'</li>\n",
       "\t<li>'white'</li>\n",
       "</ol>\n",
       "</dd>\n",
       "</dl>\n"
      ],
      "text/latex": [
       "\\begin{description}\n",
       "\\item[\\$flower] 'rose'\n",
       "\\item[\\$color] \\begin{enumerate*}\n",
       "\\item 'red'\n",
       "\\item 'white'\n",
       "\\end{enumerate*}\n",
       "\n",
       "\\end{description}\n"
      ],
      "text/markdown": [
       "$flower\n",
       ":   'rose'\n",
       "$color\n",
       ":   1. 'red'\n",
       "2. 'white'\n",
       "\n",
       "\n",
       "\n",
       "\n",
       "\n"
      ],
      "text/plain": [
       "$flower\n",
       "[1] \"rose\"\n",
       "\n",
       "$color\n",
       "[1] \"red\"   \"white\"\n"
      ]
     },
     "metadata": {},
     "output_type": "display_data"
    }
   ],
   "source": [
    "x  <- list(flower='rose',color=c('red','white'))\n",
    "x"
   ]
  },
  {
   "cell_type": "code",
   "execution_count": 14,
   "id": "secondary-plenty",
   "metadata": {},
   "outputs": [
    {
     "data": {
      "text/html": [
       "<table>\n",
       "<thead><tr><th scope=col>name</th><th scope=col>age</th><th scope=col>height</th></tr></thead>\n",
       "<tbody>\n",
       "\t<tr><td>lee </td><td>27  </td><td>180 </td></tr>\n",
       "\t<tr><td>kim </td><td>32  </td><td>184 </td></tr>\n",
       "\t<tr><td>choi</td><td>18  </td><td>173 </td></tr>\n",
       "\t<tr><td>park</td><td>39  </td><td>148 </td></tr>\n",
       "</tbody>\n",
       "</table>\n"
      ],
      "text/latex": [
       "\\begin{tabular}{r|lll}\n",
       " name & age & height\\\\\n",
       "\\hline\n",
       "\t lee  & 27   & 180 \\\\\n",
       "\t kim  & 32   & 184 \\\\\n",
       "\t choi & 18   & 173 \\\\\n",
       "\t park & 39   & 148 \\\\\n",
       "\\end{tabular}\n"
      ],
      "text/markdown": [
       "\n",
       "| name | age | height |\n",
       "|---|---|---|\n",
       "| lee  | 27   | 180  |\n",
       "| kim  | 32   | 184  |\n",
       "| choi | 18   | 173  |\n",
       "| park | 39   | 148  |\n",
       "\n"
      ],
      "text/plain": [
       "  name age height\n",
       "1 lee  27  180   \n",
       "2 kim  32  184   \n",
       "3 choi 18  173   \n",
       "4 park 39  148   "
      ]
     },
     "metadata": {},
     "output_type": "display_data"
    }
   ],
   "source": [
    "# 데이터프레임 생성\n",
    "df <- data.frame(name=c('lee','kim','choi','park'),age=c(27,32,18,39),height=c(180,184,173,148))\n",
    "df"
   ]
  },
  {
   "cell_type": "code",
   "execution_count": 15,
   "id": "musical-yeast",
   "metadata": {},
   "outputs": [
    {
     "data": {
      "text/html": [
       "<table>\n",
       "<thead><tr><th scope=col>name</th><th scope=col>age</th><th scope=col>height</th></tr></thead>\n",
       "<tbody>\n",
       "\t<tr><td>lee </td><td>27  </td><td>180 </td></tr>\n",
       "\t<tr><td>kim </td><td>32  </td><td>184 </td></tr>\n",
       "\t<tr><td>choi</td><td>18  </td><td>173 </td></tr>\n",
       "</tbody>\n",
       "</table>\n"
      ],
      "text/latex": [
       "\\begin{tabular}{r|lll}\n",
       " name & age & height\\\\\n",
       "\\hline\n",
       "\t lee  & 27   & 180 \\\\\n",
       "\t kim  & 32   & 184 \\\\\n",
       "\t choi & 18   & 173 \\\\\n",
       "\\end{tabular}\n"
      ],
      "text/markdown": [
       "\n",
       "| name | age | height |\n",
       "|---|---|---|\n",
       "| lee  | 27   | 180  |\n",
       "| kim  | 32   | 184  |\n",
       "| choi | 18   | 173  |\n",
       "\n"
      ],
      "text/plain": [
       "  name age height\n",
       "1 lee  27  180   \n",
       "2 kim  32  184   \n",
       "3 choi 18  173   "
      ]
     },
     "metadata": {},
     "output_type": "display_data"
    }
   ],
   "source": [
    "df[1:3,]"
   ]
  },
  {
   "cell_type": "code",
   "execution_count": 16,
   "id": "amber-charge",
   "metadata": {},
   "outputs": [
    {
     "data": {
      "text/html": [
       "<ol class=list-inline>\n",
       "\t<li>27</li>\n",
       "\t<li>32</li>\n",
       "\t<li>18</li>\n",
       "\t<li>39</li>\n",
       "</ol>\n"
      ],
      "text/latex": [
       "\\begin{enumerate*}\n",
       "\\item 27\n",
       "\\item 32\n",
       "\\item 18\n",
       "\\item 39\n",
       "\\end{enumerate*}\n"
      ],
      "text/markdown": [
       "1. 27\n",
       "2. 32\n",
       "3. 18\n",
       "4. 39\n",
       "\n",
       "\n"
      ],
      "text/plain": [
       "[1] 27 32 18 39"
      ]
     },
     "metadata": {},
     "output_type": "display_data"
    }
   ],
   "source": [
    "df[,2]"
   ]
  },
  {
   "cell_type": "code",
   "execution_count": 17,
   "id": "changed-heaven",
   "metadata": {},
   "outputs": [
    {
     "data": {
      "text/html": [
       "<table>\n",
       "<thead><tr><th scope=col>age</th></tr></thead>\n",
       "<tbody>\n",
       "\t<tr><td>27</td></tr>\n",
       "\t<tr><td>32</td></tr>\n",
       "\t<tr><td>18</td></tr>\n",
       "\t<tr><td>39</td></tr>\n",
       "</tbody>\n",
       "</table>\n"
      ],
      "text/latex": [
       "\\begin{tabular}{r|l}\n",
       " age\\\\\n",
       "\\hline\n",
       "\t 27\\\\\n",
       "\t 32\\\\\n",
       "\t 18\\\\\n",
       "\t 39\\\\\n",
       "\\end{tabular}\n"
      ],
      "text/markdown": [
       "\n",
       "| age |\n",
       "|---|\n",
       "| 27 |\n",
       "| 32 |\n",
       "| 18 |\n",
       "| 39 |\n",
       "\n"
      ],
      "text/plain": [
       "  age\n",
       "1 27 \n",
       "2 32 \n",
       "3 18 \n",
       "4 39 "
      ]
     },
     "metadata": {},
     "output_type": "display_data"
    }
   ],
   "source": [
    "df[,2,drop=FALSE]"
   ]
  },
  {
   "cell_type": "code",
   "execution_count": 20,
   "id": "frozen-webmaster",
   "metadata": {},
   "outputs": [
    {
     "data": {
      "text/html": [
       "<table>\n",
       "<thead><tr><th></th><th scope=col>name</th><th scope=col>age</th><th scope=col>height</th></tr></thead>\n",
       "<tbody>\n",
       "\t<tr><th scope=row>one</th><td>lee </td><td>27  </td><td>180 </td></tr>\n",
       "\t<tr><th scope=row>two</th><td>kim </td><td>32  </td><td>184 </td></tr>\n",
       "\t<tr><th scope=row>three</th><td>choi</td><td>18  </td><td>173 </td></tr>\n",
       "\t<tr><th scope=row>four</th><td>park</td><td>39  </td><td>148 </td></tr>\n",
       "</tbody>\n",
       "</table>\n"
      ],
      "text/latex": [
       "\\begin{tabular}{r|lll}\n",
       "  & name & age & height\\\\\n",
       "\\hline\n",
       "\tone & lee  & 27   & 180 \\\\\n",
       "\ttwo & kim  & 32   & 184 \\\\\n",
       "\tthree & choi & 18   & 173 \\\\\n",
       "\tfour & park & 39   & 148 \\\\\n",
       "\\end{tabular}\n"
      ],
      "text/markdown": [
       "\n",
       "| <!--/--> | name | age | height |\n",
       "|---|---|---|---|\n",
       "| one | lee  | 27   | 180  |\n",
       "| two | kim  | 32   | 184  |\n",
       "| three | choi | 18   | 173  |\n",
       "| four | park | 39   | 148  |\n",
       "\n"
      ],
      "text/plain": [
       "      name age height\n",
       "one   lee  27  180   \n",
       "two   kim  32  184   \n",
       "three choi 18  173   \n",
       "four  park 39  148   "
      ]
     },
     "metadata": {},
     "output_type": "display_data"
    }
   ],
   "source": [
    "rownames(df) <- c('one','two','three','four')\n",
    "df"
   ]
  },
  {
   "cell_type": "code",
   "execution_count": 21,
   "id": "equal-indian",
   "metadata": {},
   "outputs": [
    {
     "data": {
      "text/html": [
       "<table>\n",
       "<thead><tr><th></th><th scope=col>name</th><th scope=col>age</th><th scope=col>height</th></tr></thead>\n",
       "<tbody>\n",
       "\t<tr><th scope=row>one</th><td>lee </td><td>27  </td><td>180 </td></tr>\n",
       "\t<tr><th scope=row>three</th><td>choi</td><td>18  </td><td>173 </td></tr>\n",
       "</tbody>\n",
       "</table>\n"
      ],
      "text/latex": [
       "\\begin{tabular}{r|lll}\n",
       "  & name & age & height\\\\\n",
       "\\hline\n",
       "\tone & lee  & 27   & 180 \\\\\n",
       "\tthree & choi & 18   & 173 \\\\\n",
       "\\end{tabular}\n"
      ],
      "text/markdown": [
       "\n",
       "| <!--/--> | name | age | height |\n",
       "|---|---|---|---|\n",
       "| one | lee  | 27   | 180  |\n",
       "| three | choi | 18   | 173  |\n",
       "\n"
      ],
      "text/plain": [
       "      name age height\n",
       "one   lee  27  180   \n",
       "three choi 18  173   "
      ]
     },
     "metadata": {},
     "output_type": "display_data"
    }
   ],
   "source": [
    "df[c('one','three'),]"
   ]
  },
  {
   "cell_type": "code",
   "execution_count": 22,
   "id": "arabic-shelter",
   "metadata": {},
   "outputs": [
    {
     "data": {
      "text/html": [
       "<ol class=list-inline>\n",
       "\t<li>27</li>\n",
       "\t<li>32</li>\n",
       "\t<li>18</li>\n",
       "\t<li>39</li>\n",
       "</ol>\n"
      ],
      "text/latex": [
       "\\begin{enumerate*}\n",
       "\\item 27\n",
       "\\item 32\n",
       "\\item 18\n",
       "\\item 39\n",
       "\\end{enumerate*}\n"
      ],
      "text/markdown": [
       "1. 27\n",
       "2. 32\n",
       "3. 18\n",
       "4. 39\n",
       "\n",
       "\n"
      ],
      "text/plain": [
       "[1] 27 32 18 39"
      ]
     },
     "metadata": {},
     "output_type": "display_data"
    }
   ],
   "source": [
    "df[,'age']"
   ]
  },
  {
   "cell_type": "code",
   "execution_count": 23,
   "id": "novel-enough",
   "metadata": {},
   "outputs": [
    {
     "data": {
      "text/html": [
       "<table>\n",
       "<thead><tr><th></th><th scope=col>age</th></tr></thead>\n",
       "<tbody>\n",
       "\t<tr><th scope=row>one</th><td>27</td></tr>\n",
       "\t<tr><th scope=row>two</th><td>32</td></tr>\n",
       "\t<tr><th scope=row>three</th><td>18</td></tr>\n",
       "\t<tr><th scope=row>four</th><td>39</td></tr>\n",
       "</tbody>\n",
       "</table>\n"
      ],
      "text/latex": [
       "\\begin{tabular}{r|l}\n",
       "  & age\\\\\n",
       "\\hline\n",
       "\tone & 27\\\\\n",
       "\ttwo & 32\\\\\n",
       "\tthree & 18\\\\\n",
       "\tfour & 39\\\\\n",
       "\\end{tabular}\n"
      ],
      "text/markdown": [
       "\n",
       "| <!--/--> | age |\n",
       "|---|---|\n",
       "| one | 27 |\n",
       "| two | 32 |\n",
       "| three | 18 |\n",
       "| four | 39 |\n",
       "\n"
      ],
      "text/plain": [
       "      age\n",
       "one   27 \n",
       "two   32 \n",
       "three 18 \n",
       "four  39 "
      ]
     },
     "metadata": {},
     "output_type": "display_data"
    }
   ],
   "source": [
    "df[,'age',drop=FALSE]"
   ]
  },
  {
   "cell_type": "markdown",
   "id": "whole-pharmaceutical",
   "metadata": {},
   "source": [
    "# QUIZ\n",
    "### P1"
   ]
  },
  {
   "cell_type": "code",
   "execution_count": 24,
   "id": "spiritual-might",
   "metadata": {},
   "outputs": [
    {
     "data": {
      "text/html": [
       "<table>\n",
       "<thead><tr><th scope=col>이름</th><th scope=col>나이</th><th scope=col>성별</th><th scope=col>전공</th></tr></thead>\n",
       "<tbody>\n",
       "\t<tr><td>민준</td><td>22  </td><td>남  </td><td>수학</td></tr>\n",
       "\t<tr><td>유리</td><td>20  </td><td>여  </td><td>영문</td></tr>\n",
       "\t<tr><td>재희</td><td>21  </td><td>남  </td><td>경영</td></tr>\n",
       "</tbody>\n",
       "</table>\n"
      ],
      "text/latex": [
       "\\begin{tabular}{r|llll}\n",
       " 이름 & 나이 & 성별 & 전공\\\\\n",
       "\\hline\n",
       "\t 민준 & 22   & 남   & 수학\\\\\n",
       "\t 유리 & 20   & 여   & 영문\\\\\n",
       "\t 재희 & 21   & 남   & 경영\\\\\n",
       "\\end{tabular}\n"
      ],
      "text/markdown": [
       "\n",
       "| 이름 | 나이 | 성별 | 전공 |\n",
       "|---|---|---|---|\n",
       "| 민준 | 22   | 남   | 수학 |\n",
       "| 유리 | 20   | 여   | 영문 |\n",
       "| 재희 | 21   | 남   | 경영 |\n",
       "\n"
      ],
      "text/plain": [
       "  이름 나이 성별 전공\n",
       "1 민준 22   남   수학\n",
       "2 유리 20   여   영문\n",
       "3 재희 21   남   경영"
      ]
     },
     "metadata": {},
     "output_type": "display_data"
    }
   ],
   "source": [
    "# 데이터 프레임 만들기\n",
    "df=data.frame('이름'=c('민준','유리','재희'),'나이'=c(22,20,21),'성별'=c('남','여','남'),'전공'=c('수학','영문','경영'))\n",
    "df"
   ]
  },
  {
   "cell_type": "code",
   "execution_count": 26,
   "id": "round-score",
   "metadata": {},
   "outputs": [
    {
     "data": {
      "text/html": [
       "<table>\n",
       "<thead><tr><th></th><th scope=col>이름</th><th scope=col>나이</th><th scope=col>성별</th><th scope=col>전공</th></tr></thead>\n",
       "<tbody>\n",
       "\t<tr><th scope=row>0</th><td>민준</td><td>22  </td><td>남  </td><td>수학</td></tr>\n",
       "\t<tr><th scope=row>1</th><td>유리</td><td>20  </td><td>여  </td><td>영문</td></tr>\n",
       "\t<tr><th scope=row>2</th><td>재희</td><td>21  </td><td>남  </td><td>경영</td></tr>\n",
       "</tbody>\n",
       "</table>\n"
      ],
      "text/latex": [
       "\\begin{tabular}{r|llll}\n",
       "  & 이름 & 나이 & 성별 & 전공\\\\\n",
       "\\hline\n",
       "\t0 & 민준 & 22   & 남   & 수학\\\\\n",
       "\t1 & 유리 & 20   & 여   & 영문\\\\\n",
       "\t2 & 재희 & 21   & 남   & 경영\\\\\n",
       "\\end{tabular}\n"
      ],
      "text/markdown": [
       "\n",
       "| <!--/--> | 이름 | 나이 | 성별 | 전공 |\n",
       "|---|---|---|---|---|\n",
       "| 0 | 민준 | 22   | 남   | 수학 |\n",
       "| 1 | 유리 | 20   | 여   | 영문 |\n",
       "| 2 | 재희 | 21   | 남   | 경영 |\n",
       "\n"
      ],
      "text/plain": [
       "  이름 나이 성별 전공\n",
       "0 민준 22   남   수학\n",
       "1 유리 20   여   영문\n",
       "2 재희 21   남   경영"
      ]
     },
     "metadata": {},
     "output_type": "display_data"
    }
   ],
   "source": [
    "# 인덱스 생성\n",
    "rownames(df)=c(0,1,2)\n",
    "df"
   ]
  },
  {
   "cell_type": "markdown",
   "id": "informational-intensity",
   "metadata": {},
   "source": [
    "### P2"
   ]
  },
  {
   "cell_type": "code",
   "execution_count": 83,
   "id": "round-student",
   "metadata": {},
   "outputs": [
    {
     "data": {
      "text/html": [
       "<ol>\n",
       "\t<li><ol class=list-inline>\n",
       "\t<li>민준</li>\n",
       "\t<li>유리</li>\n",
       "\t<li>재희</li>\n",
       "</ol>\n",
       "\n",
       "<details>\n",
       "\t<summary style=display:list-item;cursor:pointer>\n",
       "\t\t<strong>Levels</strong>:\n",
       "\t</summary>\n",
       "\t<ol class=list-inline>\n",
       "\t\t<li>'민준'</li>\n",
       "\t\t<li>'유리'</li>\n",
       "\t\t<li>'재희'</li>\n",
       "\t</ol>\n",
       "</details></li>\n",
       "</ol>\n"
      ],
      "text/latex": [
       "\\begin{enumerate}\n",
       "\\item \\begin{enumerate*}\n",
       "\\item 민준\n",
       "\\item 유리\n",
       "\\item 재희\n",
       "\\end{enumerate*}\n",
       "\n",
       "\\emph{Levels}: \\begin{enumerate*}\n",
       "\\item '민준'\n",
       "\\item '유리'\n",
       "\\item '재희'\n",
       "\\end{enumerate*}\n",
       "\n",
       "\\end{enumerate}\n"
      ],
      "text/markdown": [
       "1. 1. 민준\n",
       "2. 유리\n",
       "3. 재희\n",
       "\n",
       "\n",
       "\n",
       "**Levels**: 1. '민준'\n",
       "2. '유리'\n",
       "3. '재희'\n",
       "\n",
       "\n",
       "\n",
       "\n",
       "\n"
      ],
      "text/plain": [
       "[[1]]\n",
       "[1] 민준 유리 재희\n",
       "Levels: 민준 유리 재희\n"
      ]
     },
     "metadata": {},
     "output_type": "display_data"
    }
   ],
   "source": [
    "list(df[,1])"
   ]
  },
  {
   "cell_type": "code",
   "execution_count": 84,
   "id": "athletic-north",
   "metadata": {},
   "outputs": [
    {
     "data": {
      "text/html": [
       "<ol>\n",
       "\t<li><ol class=list-inline>\n",
       "\t<li>22</li>\n",
       "\t<li>20</li>\n",
       "\t<li>21</li>\n",
       "</ol>\n",
       "</li>\n",
       "</ol>\n"
      ],
      "text/latex": [
       "\\begin{enumerate}\n",
       "\\item \\begin{enumerate*}\n",
       "\\item 22\n",
       "\\item 20\n",
       "\\item 21\n",
       "\\end{enumerate*}\n",
       "\n",
       "\\end{enumerate}\n"
      ],
      "text/markdown": [
       "1. 1. 22\n",
       "2. 20\n",
       "3. 21\n",
       "\n",
       "\n",
       "\n",
       "\n",
       "\n"
      ],
      "text/plain": [
       "[[1]]\n",
       "[1] 22 20 21\n"
      ]
     },
     "metadata": {},
     "output_type": "display_data"
    }
   ],
   "source": [
    "list(df[,2])"
   ]
  },
  {
   "cell_type": "code",
   "execution_count": 85,
   "id": "interior-split",
   "metadata": {},
   "outputs": [
    {
     "data": {
      "text/html": [
       "<ol>\n",
       "\t<li><ol class=list-inline>\n",
       "\t<li>남</li>\n",
       "\t<li>여</li>\n",
       "\t<li>남</li>\n",
       "</ol>\n",
       "\n",
       "<details>\n",
       "\t<summary style=display:list-item;cursor:pointer>\n",
       "\t\t<strong>Levels</strong>:\n",
       "\t</summary>\n",
       "\t<ol class=list-inline>\n",
       "\t\t<li>'남'</li>\n",
       "\t\t<li>'여'</li>\n",
       "\t</ol>\n",
       "</details></li>\n",
       "</ol>\n"
      ],
      "text/latex": [
       "\\begin{enumerate}\n",
       "\\item \\begin{enumerate*}\n",
       "\\item 남\n",
       "\\item 여\n",
       "\\item 남\n",
       "\\end{enumerate*}\n",
       "\n",
       "\\emph{Levels}: \\begin{enumerate*}\n",
       "\\item '남'\n",
       "\\item '여'\n",
       "\\end{enumerate*}\n",
       "\n",
       "\\end{enumerate}\n"
      ],
      "text/markdown": [
       "1. 1. 남\n",
       "2. 여\n",
       "3. 남\n",
       "\n",
       "\n",
       "\n",
       "**Levels**: 1. '남'\n",
       "2. '여'\n",
       "\n",
       "\n",
       "\n",
       "\n",
       "\n"
      ],
      "text/plain": [
       "[[1]]\n",
       "[1] 남 여 남\n",
       "Levels: 남 여\n"
      ]
     },
     "metadata": {},
     "output_type": "display_data"
    }
   ],
   "source": [
    "list(df[,3])"
   ]
  },
  {
   "cell_type": "markdown",
   "id": "diverse-plane",
   "metadata": {},
   "source": [
    "### P3"
   ]
  },
  {
   "cell_type": "code",
   "execution_count": 35,
   "id": "polished-belgium",
   "metadata": {},
   "outputs": [
    {
     "data": {
      "text/html": [
       "<table>\n",
       "<thead><tr><th></th><th scope=col>이름</th><th scope=col>나이</th><th scope=col>성별</th><th scope=col>전공</th></tr></thead>\n",
       "<tbody>\n",
       "\t<tr><th scope=row>0</th><td>민준</td><td>22  </td><td>남  </td><td>수학</td></tr>\n",
       "</tbody>\n",
       "</table>\n"
      ],
      "text/latex": [
       "\\begin{tabular}{r|llll}\n",
       "  & 이름 & 나이 & 성별 & 전공\\\\\n",
       "\\hline\n",
       "\t0 & 민준 & 22   & 남   & 수학\\\\\n",
       "\\end{tabular}\n"
      ],
      "text/markdown": [
       "\n",
       "| <!--/--> | 이름 | 나이 | 성별 | 전공 |\n",
       "|---|---|---|---|---|\n",
       "| 0 | 민준 | 22   | 남   | 수학 |\n",
       "\n"
      ],
      "text/plain": [
       "  이름 나이 성별 전공\n",
       "0 민준 22   남   수학"
      ]
     },
     "metadata": {},
     "output_type": "display_data"
    }
   ],
   "source": [
    "df[1,]"
   ]
  },
  {
   "cell_type": "code",
   "execution_count": 38,
   "id": "superior-annotation",
   "metadata": {},
   "outputs": [
    {
     "data": {
      "text/html": [
       "<table>\n",
       "<thead><tr><th scope=col>이름</th><th scope=col>나이</th><th scope=col>성별</th><th scope=col>전공</th></tr></thead>\n",
       "<tbody>\n",
       "\t<tr><td>유리</td><td>20  </td><td>여  </td><td>영문</td></tr>\n",
       "</tbody>\n",
       "</table>\n"
      ],
      "text/latex": [
       "\\begin{tabular}{r|llll}\n",
       " 이름 & 나이 & 성별 & 전공\\\\\n",
       "\\hline\n",
       "\t 유리 & 20   & 여   & 영문\\\\\n",
       "\\end{tabular}\n"
      ],
      "text/markdown": [
       "\n",
       "| 이름 | 나이 | 성별 | 전공 |\n",
       "|---|---|---|---|\n",
       "| 유리 | 20   | 여   | 영문 |\n",
       "\n"
      ],
      "text/plain": [
       "  이름 나이 성별 전공\n",
       "1 유리 20   여   영문"
      ]
     },
     "metadata": {},
     "output_type": "display_data"
    }
   ],
   "source": [
    "df[2,]"
   ]
  },
  {
   "cell_type": "code",
   "execution_count": 37,
   "id": "bronze-cutting",
   "metadata": {},
   "outputs": [
    {
     "data": {
      "text/html": [
       "<table>\n",
       "<thead><tr><th></th><th scope=col>이름</th><th scope=col>나이</th><th scope=col>성별</th><th scope=col>전공</th></tr></thead>\n",
       "<tbody>\n",
       "\t<tr><th scope=row>2</th><td>재희</td><td>21  </td><td>남  </td><td>경영</td></tr>\n",
       "</tbody>\n",
       "</table>\n"
      ],
      "text/latex": [
       "\\begin{tabular}{r|llll}\n",
       "  & 이름 & 나이 & 성별 & 전공\\\\\n",
       "\\hline\n",
       "\t2 & 재희 & 21   & 남   & 경영\\\\\n",
       "\\end{tabular}\n"
      ],
      "text/markdown": [
       "\n",
       "| <!--/--> | 이름 | 나이 | 성별 | 전공 |\n",
       "|---|---|---|---|---|\n",
       "| 2 | 재희 | 21   | 남   | 경영 |\n",
       "\n"
      ],
      "text/plain": [
       "  이름 나이 성별 전공\n",
       "2 재희 21   남   경영"
      ]
     },
     "metadata": {},
     "output_type": "display_data"
    }
   ],
   "source": [
    "df[3,]"
   ]
  },
  {
   "cell_type": "markdown",
   "id": "perfect-world",
   "metadata": {},
   "source": [
    "### P4"
   ]
  },
  {
   "cell_type": "code",
   "execution_count": 71,
   "id": "structural-stephen",
   "metadata": {},
   "outputs": [
    {
     "data": {
      "text/html": [
       "<table>\n",
       "<thead><tr><th scope=col>이름</th><th scope=col>나이</th><th scope=col>성별</th><th scope=col>전공</th></tr></thead>\n",
       "<tbody>\n",
       "\t<tr><td>유리</td><td>20  </td><td>여  </td><td>영문</td></tr>\n",
       "\t<tr><td>재희</td><td>21  </td><td>남  </td><td>경영</td></tr>\n",
       "</tbody>\n",
       "</table>\n"
      ],
      "text/latex": [
       "\\begin{tabular}{r|llll}\n",
       " 이름 & 나이 & 성별 & 전공\\\\\n",
       "\\hline\n",
       "\t 유리 & 20   & 여   & 영문\\\\\n",
       "\t 재희 & 21   & 남   & 경영\\\\\n",
       "\\end{tabular}\n"
      ],
      "text/markdown": [
       "\n",
       "| 이름 | 나이 | 성별 | 전공 |\n",
       "|---|---|---|---|\n",
       "| 유리 | 20   | 여   | 영문 |\n",
       "| 재희 | 21   | 남   | 경영 |\n",
       "\n"
      ],
      "text/plain": [
       "  이름 나이 성별 전공\n",
       "1 유리 20   여   영문\n",
       "2 재희 21   남   경영"
      ]
     },
     "metadata": {},
     "output_type": "display_data"
    }
   ],
   "source": [
    "df[2:3,]"
   ]
  },
  {
   "cell_type": "markdown",
   "id": "seventh-initial",
   "metadata": {},
   "source": [
    "### P5"
   ]
  },
  {
   "cell_type": "code",
   "execution_count": 72,
   "id": "focal-benchmark",
   "metadata": {},
   "outputs": [
    {
     "data": {
      "text/html": [
       "<table>\n",
       "<thead><tr><th></th><th scope=col>나이</th><th scope=col>성별</th></tr></thead>\n",
       "<tbody>\n",
       "\t<tr><th scope=row>0</th><td>22</td><td>남</td></tr>\n",
       "\t<tr><th scope=row>1</th><td>20</td><td>여</td></tr>\n",
       "\t<tr><th scope=row>2</th><td>21</td><td>남</td></tr>\n",
       "</tbody>\n",
       "</table>\n"
      ],
      "text/latex": [
       "\\begin{tabular}{r|ll}\n",
       "  & 나이 & 성별\\\\\n",
       "\\hline\n",
       "\t0 & 22 & 남\\\\\n",
       "\t1 & 20 & 여\\\\\n",
       "\t2 & 21 & 남\\\\\n",
       "\\end{tabular}\n"
      ],
      "text/markdown": [
       "\n",
       "| <!--/--> | 나이 | 성별 |\n",
       "|---|---|---|\n",
       "| 0 | 22 | 남 |\n",
       "| 1 | 20 | 여 |\n",
       "| 2 | 21 | 남 |\n",
       "\n"
      ],
      "text/plain": [
       "  나이 성별\n",
       "0 22   남  \n",
       "1 20   여  \n",
       "2 21   남  "
      ]
     },
     "metadata": {},
     "output_type": "display_data"
    }
   ],
   "source": [
    "df[,2:3,drop=FALSE]"
   ]
  },
  {
   "cell_type": "markdown",
   "id": "saved-meeting",
   "metadata": {},
   "source": [
    "### P6"
   ]
  },
  {
   "cell_type": "code",
   "execution_count": 75,
   "id": "foreign-universe",
   "metadata": {},
   "outputs": [
    {
     "data": {
      "text/html": [
       "21"
      ],
      "text/latex": [
       "21"
      ],
      "text/markdown": [
       "21"
      ],
      "text/plain": [
       "[1] 21"
      ]
     },
     "metadata": {},
     "output_type": "display_data"
    }
   ],
   "source": [
    "mean(df[,2])"
   ]
  },
  {
   "cell_type": "markdown",
   "id": "north-console",
   "metadata": {},
   "source": [
    "### P7"
   ]
  },
  {
   "cell_type": "code",
   "execution_count": 96,
   "id": "welsh-cooler",
   "metadata": {},
   "outputs": [
    {
     "ename": "ERROR",
     "evalue": "Error in group_by(df[\"성별\"], ): 함수 \"group_by\"를 찾을 수 없습니다\n",
     "output_type": "error",
     "traceback": [
      "Error in group_by(df[\"성별\"], ): 함수 \"group_by\"를 찾을 수 없습니다\nTraceback:\n"
     ]
    }
   ],
   "source": [
    "df['성별']"
   ]
  },
  {
   "cell_type": "code",
   "execution_count": 3,
   "id": "superior-potter",
   "metadata": {},
   "outputs": [],
   "source": [
    "library(tidyr)"
   ]
  },
  {
   "cell_type": "code",
   "execution_count": 8,
   "id": "abroad-police",
   "metadata": {},
   "outputs": [
    {
     "name": "stderr",
     "output_type": "stream",
     "text": [
      "\n",
      "Attaching package: 'dplyr'\n",
      "\n",
      "The following objects are masked from 'package:stats':\n",
      "\n",
      "    filter, lag\n",
      "\n",
      "The following objects are masked from 'package:base':\n",
      "\n",
      "    intersect, setdiff, setequal, union\n",
      "\n"
     ]
    }
   ],
   "source": [
    "library(dplyr)"
   ]
  },
  {
   "cell_type": "code",
   "execution_count": 11,
   "id": "posted-phone",
   "metadata": {},
   "outputs": [
    {
     "data": {
      "text/html": [
       "<table>\n",
       "<thead><tr><th scope=col>avg</th></tr></thead>\n",
       "<tbody>\n",
       "\t<tr><td>5.843333</td></tr>\n",
       "</tbody>\n",
       "</table>\n"
      ],
      "text/latex": [
       "\\begin{tabular}{r|l}\n",
       " avg\\\\\n",
       "\\hline\n",
       "\t 5.843333\\\\\n",
       "\\end{tabular}\n"
      ],
      "text/markdown": [
       "\n",
       "| avg |\n",
       "|---|\n",
       "| 5.843333 |\n",
       "\n"
      ],
      "text/plain": [
       "  avg     \n",
       "1 5.843333"
      ]
     },
     "metadata": {},
     "output_type": "display_data"
    }
   ],
   "source": [
    "summarise(iris,avg=mean(Sepal.Length))"
   ]
  },
  {
   "cell_type": "code",
   "execution_count": 13,
   "id": "prescription-night",
   "metadata": {},
   "outputs": [],
   "source": [
    "x <- read.csv('reservation_r_csv.csv') "
   ]
  },
  {
   "cell_type": "code",
   "execution_count": 14,
   "id": "honest-cartoon",
   "metadata": {},
   "outputs": [
    {
     "data": {
      "text/html": [
       "<table>\n",
       "<thead><tr><th scope=col>RESERV_NO</th><th scope=col>RESERV_DATE</th><th scope=col>RESERV_TIME</th><th scope=col>CUSTOMER_ID</th><th scope=col>BRANCH</th><th scope=col>VISITOR_CNT</th><th scope=col>CANCEL</th></tr></thead>\n",
       "<tbody>\n",
       "\t<tr><td>2019082701</td><td>20190827  </td><td>1800      </td><td>W1340914  </td><td>마포      </td><td>2         </td><td>N         </td></tr>\n",
       "\t<tr><td>2019082602</td><td>20190826  </td><td>1200      </td><td>W341658   </td><td>동작      </td><td>5         </td><td>N         </td></tr>\n",
       "\t<tr><td>2019082601</td><td>20190826  </td><td>1800      </td><td>W1328993  </td><td>강북      </td><td>4         </td><td>N         </td></tr>\n",
       "\t<tr><td>2019082501</td><td>20190825  </td><td>1800      </td><td>W1340463  </td><td>용산      </td><td>2         </td><td>N         </td></tr>\n",
       "\t<tr><td>2019082401</td><td>20190824  </td><td>1200      </td><td>W1344912  </td><td>강동      </td><td>3         </td><td>N         </td></tr>\n",
       "\t<tr><td>2019082301</td><td>20190823  </td><td>1800      </td><td>W1344753  </td><td>영등포    </td><td>2         </td><td>N         </td></tr>\n",
       "</tbody>\n",
       "</table>\n"
      ],
      "text/latex": [
       "\\begin{tabular}{r|lllllll}\n",
       " RESERV\\_NO & RESERV\\_DATE & RESERV\\_TIME & CUSTOMER\\_ID & BRANCH & VISITOR\\_CNT & CANCEL\\\\\n",
       "\\hline\n",
       "\t 2019082701 & 20190827   & 1800       & W1340914   & 마포       & 2          & N         \\\\\n",
       "\t 2019082602 & 20190826   & 1200       & W341658    & 동작       & 5          & N         \\\\\n",
       "\t 2019082601 & 20190826   & 1800       & W1328993   & 강북       & 4          & N         \\\\\n",
       "\t 2019082501 & 20190825   & 1800       & W1340463   & 용산       & 2          & N         \\\\\n",
       "\t 2019082401 & 20190824   & 1200       & W1344912   & 강동       & 3          & N         \\\\\n",
       "\t 2019082301 & 20190823   & 1800       & W1344753   & 영등포     & 2          & N         \\\\\n",
       "\\end{tabular}\n"
      ],
      "text/markdown": [
       "\n",
       "| RESERV_NO | RESERV_DATE | RESERV_TIME | CUSTOMER_ID | BRANCH | VISITOR_CNT | CANCEL |\n",
       "|---|---|---|---|---|---|---|\n",
       "| 2019082701 | 20190827   | 1800       | W1340914   | 마포       | 2          | N          |\n",
       "| 2019082602 | 20190826   | 1200       | W341658    | 동작       | 5          | N          |\n",
       "| 2019082601 | 20190826   | 1800       | W1328993   | 강북       | 4          | N          |\n",
       "| 2019082501 | 20190825   | 1800       | W1340463   | 용산       | 2          | N          |\n",
       "| 2019082401 | 20190824   | 1200       | W1344912   | 강동       | 3          | N          |\n",
       "| 2019082301 | 20190823   | 1800       | W1344753   | 영등포     | 2          | N          |\n",
       "\n"
      ],
      "text/plain": [
       "  RESERV_NO  RESERV_DATE RESERV_TIME CUSTOMER_ID BRANCH VISITOR_CNT CANCEL\n",
       "1 2019082701 20190827    1800        W1340914    마포   2           N     \n",
       "2 2019082602 20190826    1200        W341658     동작   5           N     \n",
       "3 2019082601 20190826    1800        W1328993    강북   4           N     \n",
       "4 2019082501 20190825    1800        W1340463    용산   2           N     \n",
       "5 2019082401 20190824    1200        W1344912    강동   3           N     \n",
       "6 2019082301 20190823    1800        W1344753    영등포 2           N     "
      ]
     },
     "metadata": {},
     "output_type": "display_data"
    }
   ],
   "source": [
    "head(x)"
   ]
  },
  {
   "cell_type": "code",
   "execution_count": null,
   "id": "forced-bahamas",
   "metadata": {},
   "outputs": [],
   "source": []
  }
 ],
 "metadata": {
  "kernelspec": {
   "display_name": "R",
   "language": "R",
   "name": "ir"
  },
  "language_info": {
   "codemirror_mode": "r",
   "file_extension": ".r",
   "mimetype": "text/x-r-source",
   "name": "R",
   "pygments_lexer": "r",
   "version": "3.6.1"
  }
 },
 "nbformat": 4,
 "nbformat_minor": 5
}
