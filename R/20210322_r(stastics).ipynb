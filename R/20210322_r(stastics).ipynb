{
 "cells": [
  {
   "cell_type": "code",
   "execution_count": 8,
   "id": "fixed-export",
   "metadata": {},
   "outputs": [],
   "source": [
    "weight <- c(74,70,66,61,59)"
   ]
  },
  {
   "cell_type": "code",
   "execution_count": 9,
   "id": "nutritional-distribution",
   "metadata": {},
   "outputs": [
    {
     "data": {
      "text/html": [
       "66"
      ],
      "text/latex": [
       "66"
      ],
      "text/markdown": [
       "66"
      ],
      "text/plain": [
       "[1] 66"
      ]
     },
     "metadata": {},
     "output_type": "display_data"
    }
   ],
   "source": [
    "# mean: 평균\n",
    "mean(weight)"
   ]
  },
  {
   "cell_type": "code",
   "execution_count": 10,
   "id": "surprised-backing",
   "metadata": {},
   "outputs": [
    {
     "data": {
      "text/html": [
       "66"
      ],
      "text/latex": [
       "66"
      ],
      "text/markdown": [
       "66"
      ],
      "text/plain": [
       "[1] 66"
      ]
     },
     "metadata": {},
     "output_type": "display_data"
    }
   ],
   "source": [
    "# median: 중앙값-가운데 값\n",
    "median(weight)"
   ]
  },
  {
   "cell_type": "code",
   "execution_count": 11,
   "id": "artificial-satin",
   "metadata": {},
   "outputs": [
    {
     "data": {
      "text/html": [
       "38.5"
      ],
      "text/latex": [
       "38.5"
      ],
      "text/markdown": [
       "38.5"
      ],
      "text/plain": [
       "[1] 38.5"
      ]
     },
     "metadata": {},
     "output_type": "display_data"
    }
   ],
   "source": [
    "# var: 분산-편차의 제곱의 평균(음수를 없앰으로 얼마나 평균과의 거리를 볼 수 있음) -> 편차의 평균 아니다\n",
    "var(weight)"
   ]
  },
  {
   "cell_type": "code",
   "execution_count": 12,
   "id": "polished-runner",
   "metadata": {},
   "outputs": [
    {
     "data": {
      "text/html": [
       "6.20483682299543"
      ],
      "text/latex": [
       "6.20483682299543"
      ],
      "text/markdown": [
       "6.20483682299543"
      ],
      "text/plain": [
       "[1] 6.204837"
      ]
     },
     "metadata": {},
     "output_type": "display_data"
    }
   ],
   "source": [
    "# sd: 표준편차: 분산에 루트 씌운값 (평균과 차이나는 편차 정도균과 차이나는 편차 정도)\n",
    "sd(weight)"
   ]
  },
  {
   "cell_type": "code",
   "execution_count": 16,
   "id": "extraordinary-tonight",
   "metadata": {},
   "outputs": [],
   "source": [
    "# 정규분포: 평균갑을 중심으로 하여 좌우 대칭의 종 모양의 분포\n",
    "\n",
    "weight <- rnorm(n = 100000, mean = 66, sd = 5) # 평균 66kg, 표준편차 5의 데이터 생성"
   ]
  },
  {
   "cell_type": "code",
   "execution_count": 17,
   "id": "polish-designation",
   "metadata": {},
   "outputs": [
    {
     "data": {
      "image/png": "[encoded data removed]",
      "text/plain": [
       "Plot with title \"Histogram of weight\""
      ]
     },
     "metadata": {},
     "output_type": "display_data"
    }
   ],
   "source": [
    "hist(weight, breaks = 100, freq = FALSE) # 히스토그램 그리기"
   ]
  },
  {
   "cell_type": "code",
   "execution_count": 26,
   "id": "rising-grove",
   "metadata": {},
   "outputs": [
    {
     "ename": "ERROR",
     "evalue": "Error in plot.xy(xy.coords(x, y), type = type, ...): plot.new has not been called yet\n",
     "output_type": "error",
     "traceback": [
      "Error in plot.xy(xy.coords(x, y), type = type, ...): plot.new has not been called yet\nTraceback:\n",
      "1. lines(density(weight))",
      "2. lines.default(density(weight))",
      "3. plot.xy(xy.coords(x, y), type = type, ...)"
     ]
    }
   ],
   "source": [
    "# 귀무 가설: 원하는 가설을 증명하기 위해 기각해야하는 가설\n",
    "# 대립 가설: 귀무개설과 반대 가설로 검증하고 싶은 가설\n",
    "# 유의수준: 가설 검정을 할 때 표본 자료에서 얻은 검정 통계량이 기각역에 들어올 확률\n",
    "# 유의 확률(p-value): 귀무가설을 지지하는 정도 -> 낮아질수록 귀무가설을 기각한다 -> 통계적으로 유의미"
   ]
  },
  {
   "cell_type": "code",
   "execution_count": 27,
   "id": "creative-malpractice",
   "metadata": {},
   "outputs": [
    {
     "data": {
      "text/plain": [
       "\n",
       "\tOne Sample t-test\n",
       "\n",
       "data:  test2\n",
       "t = 3.5149, df = 9, p-value = 0.006568\n",
       "alternative hypothesis: true mean is not equal to 65\n",
       "95 percent confidence interval:\n",
       " 69.38389 85.21611\n",
       "sample estimates:\n",
       "mean of x \n",
       "     77.3 \n"
      ]
     },
     "metadata": {},
     "output_type": "display_data"
    }
   ],
   "source": [
    "# t-검정\n",
    "\n",
    "test2 <- c(89, 70, 83, 60, 75, 60, 92, 84, 80, 80)     # 표본 집단\n",
    "t.test(test2, mu = 65)                                 # t-test\n",
    "\n",
    "\n",
    "#표본 집단의 평균은 77.3kg이고, 검정을 실시한 결과 유의 확률은 0.65%(0.0065)가 나왔습니다. t검정 결과, 유의 수준 5%보다 작은 검정 통계량이므로 귀무 가설을 기각할 수 있습니다. 즉, ‘몸무게 평균은 65kg이다’는 가설을 기각하게 됩니다. 65kg이 아닌 다른 값이 평균 몸무게라는 의미입니다."
   ]
  },
  {
   "cell_type": "code",
   "execution_count": 29,
   "id": "ignored-revolution",
   "metadata": {},
   "outputs": [
    {
     "name": "stderr",
     "output_type": "stream",
     "text": [
      "\n",
      "Attaching package: 'dplyr'\n",
      "\n",
      "The following objects are masked from 'package:stats':\n",
      "\n",
      "    filter, lag\n",
      "\n",
      "The following objects are masked from 'package:base':\n",
      "\n",
      "    intersect, setdiff, setequal, union\n",
      "\n",
      "Registered S3 methods overwritten by 'ggplot2':\n",
      "  method         from \n",
      "  [.quosures     rlang\n",
      "  c.quosures     rlang\n",
      "  print.quosures rlang\n"
     ]
    }
   ],
   "source": [
    "library(readxl)\n",
    "library(dplyr)\n",
    "library(ggplot2)\n",
    "\n",
    "customer_r <- read_excel(\"customer_r.xlsx\")\n",
    "reservation_r <- read_excel(\"reservation_r.xlsx\")\n",
    "order_info_r <- read_excel(\"order_info_r.xlsx\")\n",
    "item_r <- read_excel(\"item_r.xlsx\")\n",
    "\n",
    "\n",
    "colnames(customer_r) <- tolower(colnames(customer_r))\n",
    "colnames(reservation_r) <- tolower(colnames(reservation_r))\n",
    "colnames(order_info_r) <- tolower(colnames(order_info_r))\n",
    "colnames(item_r) <- tolower(colnames(item_r))"
   ]
  },
  {
   "cell_type": "code",
   "execution_count": 30,
   "id": "adjustable-tours",
   "metadata": {},
   "outputs": [
    {
     "data": {
      "text/html": [
       "<table>\n",
       "<thead><tr><th scope=col>customer_id</th><th scope=col>customer_name</th><th scope=col>phone_number</th><th scope=col>email</th><th scope=col>first_reg_date</th><th scope=col>sex_code</th><th scope=col>birth</th><th scope=col>job</th><th scope=col>zip_code</th></tr></thead>\n",
       "<tbody>\n",
       "\t<tr><td>W1346506          </td><td>고객71            </td><td>010-1111-1181     </td><td>scust71@sfnb.co.kr</td><td>19/09/01          </td><td>F                 </td><td>19820922          </td><td>자영업            </td><td>122100            </td></tr>\n",
       "\t<tr><td>W1347648          </td><td>고객72            </td><td>010-1111-1182     </td><td>scust72@sfnb.co.kr</td><td>19/09/04          </td><td>M                 </td><td>19940812          </td><td>학생              </td><td>140100            </td></tr>\n",
       "\t<tr><td>W1347756          </td><td>고객73            </td><td>010-1111-1183     </td><td>scust73@sfnb.co.kr</td><td>19/09/05          </td><td>M                 </td><td>19931217          </td><td>NA                </td><td>152100            </td></tr>\n",
       "\t<tr><td>W1347984          </td><td>고객74            </td><td>010-1111-1184     </td><td>scust74@sfnb.co.kr</td><td>19/09/06          </td><td>M                 </td><td>19810822          </td><td>자영업            </td><td>130100            </td></tr>\n",
       "\t<tr><td>W1348303          </td><td>고객75            </td><td>010-1111-1185     </td><td>scust75@sfnb.co.kr</td><td>19/09/07          </td><td>M                 </td><td>19900611          </td><td>NA                </td><td>121100            </td></tr>\n",
       "\t<tr><td>W1348424          </td><td>고객76            </td><td>010-1111-1186     </td><td>scust76@sfnb.co.kr</td><td>19/09/08          </td><td>M                 </td><td>19730422          </td><td>NA                </td><td>139100            </td></tr>\n",
       "</tbody>\n",
       "</table>\n"
      ],
      "text/latex": [
       "\\begin{tabular}{r|lllllllll}\n",
       " customer\\_id & customer\\_name & phone\\_number & email & first\\_reg\\_date & sex\\_code & birth & job & zip\\_code\\\\\n",
       "\\hline\n",
       "\t W1346506           & 고객71             & 010-1111-1181      & scust71@sfnb.co.kr & 19/09/01           & F                  & 19820922           & 자영업             & 122100            \\\\\n",
       "\t W1347648           & 고객72             & 010-1111-1182      & scust72@sfnb.co.kr & 19/09/04           & M                  & 19940812           & 학생               & 140100            \\\\\n",
       "\t W1347756           & 고객73             & 010-1111-1183      & scust73@sfnb.co.kr & 19/09/05           & M                  & 19931217           & NA                 & 152100            \\\\\n",
       "\t W1347984           & 고객74             & 010-1111-1184      & scust74@sfnb.co.kr & 19/09/06           & M                  & 19810822           & 자영업             & 130100            \\\\\n",
       "\t W1348303           & 고객75             & 010-1111-1185      & scust75@sfnb.co.kr & 19/09/07           & M                  & 19900611           & NA                 & 121100            \\\\\n",
       "\t W1348424           & 고객76             & 010-1111-1186      & scust76@sfnb.co.kr & 19/09/08           & M                  & 19730422           & NA                 & 139100            \\\\\n",
       "\\end{tabular}\n"
      ],
      "text/markdown": [
       "\n",
       "| customer_id | customer_name | phone_number | email | first_reg_date | sex_code | birth | job | zip_code |\n",
       "|---|---|---|---|---|---|---|---|---|\n",
       "| W1346506           | 고객71             | 010-1111-1181      | scust71@sfnb.co.kr | 19/09/01           | F                  | 19820922           | 자영업             | 122100             |\n",
       "| W1347648           | 고객72             | 010-1111-1182      | scust72@sfnb.co.kr | 19/09/04           | M                  | 19940812           | 학생               | 140100             |\n",
       "| W1347756           | 고객73             | 010-1111-1183      | scust73@sfnb.co.kr | 19/09/05           | M                  | 19931217           | NA                 | 152100             |\n",
       "| W1347984           | 고객74             | 010-1111-1184      | scust74@sfnb.co.kr | 19/09/06           | M                  | 19810822           | 자영업             | 130100             |\n",
       "| W1348303           | 고객75             | 010-1111-1185      | scust75@sfnb.co.kr | 19/09/07           | M                  | 19900611           | NA                 | 121100             |\n",
       "| W1348424           | 고객76             | 010-1111-1186      | scust76@sfnb.co.kr | 19/09/08           | M                  | 19730422           | NA                 | 139100             |\n",
       "\n"
      ],
      "text/plain": [
       "  customer_id customer_name phone_number  email              first_reg_date\n",
       "1 W1346506    고객71        010-1111-1181 scust71@sfnb.co.kr 19/09/01      \n",
       "2 W1347648    고객72        010-1111-1182 scust72@sfnb.co.kr 19/09/04      \n",
       "3 W1347756    고객73        010-1111-1183 scust73@sfnb.co.kr 19/09/05      \n",
       "4 W1347984    고객74        010-1111-1184 scust74@sfnb.co.kr 19/09/06      \n",
       "5 W1348303    고객75        010-1111-1185 scust75@sfnb.co.kr 19/09/07      \n",
       "6 W1348424    고객76        010-1111-1186 scust76@sfnb.co.kr 19/09/08      \n",
       "  sex_code birth    job    zip_code\n",
       "1 F        19820922 자영업 122100  \n",
       "2 M        19940812 학생   140100  \n",
       "3 M        19931217 NA     152100  \n",
       "4 M        19810822 자영업 130100  \n",
       "5 M        19900611 NA     121100  \n",
       "6 M        19730422 NA     139100  "
      ]
     },
     "metadata": {},
     "output_type": "display_data"
    }
   ],
   "source": [
    "head(customer_r)"
   ]
  },
  {
   "cell_type": "code",
   "execution_count": 31,
   "id": "printable-norwegian",
   "metadata": {},
   "outputs": [
    {
     "data": {
      "text/plain": [
       "\n",
       "  강남   강동   강북   강서   관악   광진   구로   금천   노원   도봉 동대문 \n",
       "    49     18     12     22     15      8     14     10     10      6     20 \n",
       "  동작   마포 서대문   서초   성동   성북   송파   양천 영등포   용산   은평 \n",
       "    21     22     20     22     13      4     17     10     17     19     10 \n",
       "  종로   중구   중랑 \n",
       "    13     18      6 "
      ]
     },
     "metadata": {},
     "output_type": "display_data"
    }
   ],
   "source": [
    "table(reservation_r$branch)"
   ]
  },
  {
   "cell_type": "code",
   "execution_count": 32,
   "id": "editorial-nebraska",
   "metadata": {},
   "outputs": [],
   "source": [
    "# 주문 취소되지 않은 경우만 선택\n",
    "no_cancel_data <- reservation_r %>% filter(cancel == \"N\")"
   ]
  },
  {
   "cell_type": "code",
   "execution_count": 33,
   "id": "regional-findings",
   "metadata": {},
   "outputs": [
    {
     "data": {
      "text/plain": [
       "\n",
       "  강남   강동   강북   강서   관악   광진   구로   금천   노원   도봉 동대문 \n",
       "    41     17     12     19     15      8     11      7      8      5     14 \n",
       "  동작   마포 서대문   서초   성동   성북   송파   양천 영등포   용산   은평 \n",
       "    18     20     18     17     12      4     15      8     16     18      8 \n",
       "  종로   중구   중랑 \n",
       "     7     15      4 "
      ]
     },
     "metadata": {},
     "output_type": "display_data"
    }
   ],
   "source": [
    "# 주문 취소되지 않은 예약 건의 부서별 빈도표\n",
    "table(no_cancel_data$branch)"
   ]
  },
  {
   "cell_type": "code",
   "execution_count": null,
   "id": "afraid-consideration",
   "metadata": {},
   "outputs": [],
   "source": []
  }
 ],
 "metadata": {
  "kernelspec": {
   "display_name": "R",
   "language": "R",
   "name": "ir"
  },
  "language_info": {
   "codemirror_mode": "r",
   "file_extension": ".r",
   "mimetype": "text/x-r-source",
   "name": "R",
   "pygments_lexer": "r",
   "version": "3.6.1"
  }
 },
 "nbformat": 4,
 "nbformat_minor": 5
}
