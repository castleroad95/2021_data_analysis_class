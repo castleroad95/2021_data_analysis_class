{
 "cells": [
  {
   "cell_type": "code",
   "execution_count": 14,
   "metadata": {},
   "outputs": [
    {
     "name": "stdout",
     "output_type": "stream",
     "text": [
      "찾는 숫자를 입력하세요:3\n",
      "1번째 요소입니다.\n"
     ]
    }
   ],
   "source": [
    "# 분할정렬\n",
    "\n",
    "def find(lt,rt):\n",
    "    center=(rt-lt)//2\n",
    "    if center<lt or center>rt:\n",
    "        print('숫자가 없습니다.')\n",
    "    else:\n",
    "        if S[center]==nums:\n",
    "            print('{}번째 요소입니다.'.format(center))\n",
    "        else:\n",
    "            if S[center]>nums:\n",
    "                find(lt,center)\n",
    "            else:\n",
    "                find(center+1,rt)\n",
    "\n",
    "S=[1,3,10,51,86,100]            \n",
    "nums=int(input('찾는 숫자를 입력하세요:'))\n",
    "find(0,5)"
   ]
  },
  {
   "cell_type": "code",
   "execution_count": 3,
   "metadata": {},
   "outputs": [
    {
     "name": "stdout",
     "output_type": "stream",
     "text": [
      "[10, 11, 12, 13, 14]\n"
     ]
    }
   ],
   "source": [
    "arr=[12,13,11,14,10]\n",
    "\n",
    "for i in range(4):\n",
    "    indexmin=i\n",
    "    for k in range(i+1,5):\n",
    "        if arr[k]<arr[indexmin]:\n",
    "            indexmin=k\n",
    "\n",
    "    \n",
    "    w=arr[i]\n",
    "    arr[i]=arr[indexmin]\n",
    "    arr[indexmin]=w\n",
    "\n",
    "print(arr)"
   ]
  },
  {
   "cell_type": "code",
   "execution_count": 10,
   "metadata": {},
   "outputs": [
    {
     "name": "stdout",
     "output_type": "stream",
     "text": [
      "[1, 2, 3, 4, 5]\n"
     ]
    }
   ],
   "source": [
    "arr=[5,3,4,1,2]\n",
    "\n",
    "for k in range(len(arr)):\n",
    "    for i in range(len(arr)-1,k,-1):\n",
    "        if arr[i-1]>arr[i]:\n",
    "            w=arr[i-1]\n",
    "            arr[i-1]=arr[i]\n",
    "            arr[i]=w\n",
    "\n",
    "print(arr)"
   ]
  },
  {
   "cell_type": "code",
   "execution_count": null,
   "metadata": {},
   "outputs": [],
   "source": []
  }
 ],
 "metadata": {
  "kernelspec": {
   "display_name": "Python 3",
   "language": "python",
   "name": "python3"
  },
  "language_info": {
   "codemirror_mode": {
    "name": "ipython",
    "version": 3
   },
   "file_extension": ".py",
   "mimetype": "text/x-python",
   "name": "python",
   "nbconvert_exporter": "python",
   "pygments_lexer": "ipython3",
   "version": "3.7.7"
  }
 },
 "nbformat": 4,
 "nbformat_minor": 4
}
