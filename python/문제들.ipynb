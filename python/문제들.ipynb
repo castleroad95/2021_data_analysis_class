{
 "cells": [
  {
   "cell_type": "code",
   "execution_count": 3,
   "metadata": {},
   "outputs": [
    {
     "name": "stdout",
     "output_type": "stream",
     "text": [
      "234168\n"
     ]
    }
   ],
   "source": [
    "tot=0                       # 합을 입력할 변수 tot초기값을 0으로 지정\n",
    "for i in range(1,1001):     # for문을 사용하여 1부터 1000까지 돌림\n",
    "    if i%3==0 or i%5==0:   # i가 1 부터 1000까지 숫자 중 3또는 5로 나누었을때 나머지가 0이되는 경우에 tot에 i를 더함\n",
    "        tot+=i              \n",
    "\n",
    "print(tot)"
   ]
  },
  {
   "cell_type": "code",
   "execution_count": 4,
   "metadata": {},
   "outputs": [
    {
     "name": "stdout",
     "output_type": "stream",
     "text": [
      "234168\n"
     ]
    }
   ],
   "source": [
    "tot=0\n",
    "i=1\n",
    "while i<1001:              # while문을 사용하여 i가 1001 미만일때까지 반복\n",
    "    if i%3==0 or i%5==0:   # i가 1 부터 1000까지 숫자 중 3또는 5로 나누었을때 나머지가 0이되는 경우에 tot에 i를 더함\n",
    "        tot+=i\n",
    "    i+=1                    # 반복할때 마다 i값을 1씩 증가\n",
    "\n",
    "print(tot)"
   ]
  },
  {
   "cell_type": "code",
   "execution_count": 9,
   "metadata": {},
   "outputs": [
    {
     "name": "stdout",
     "output_type": "stream",
     "text": [
      "원영 원영 은비 은비 은비 은비 채연 채연\n",
      "은비(이)가 총 4로 반장이 되었습니다.\n"
     ]
    }
   ],
   "source": [
    "l=list(input().split())\n",
    "l_set=set(l)\n",
    "cnt=0\n",
    "for i in l_set:\n",
    "    if l.count(i)>cnt:\n",
    "        cnt=l.count(i)\n",
    "        tmp=i\n",
    "\n",
    "print('{0}(이)가 총 {1}로 반장이 되었습니다.'.format(tmp,cnt))"
   ]
  },
  {
   "cell_type": "code",
   "execution_count": 14,
   "metadata": {},
   "outputs": [
    {
     "name": "stdout",
     "output_type": "stream",
     "text": [
      "querty\n",
      "euerty\n"
     ]
    }
   ],
   "source": [
    "n=input()\n",
    "n=n.replace('q','e')\n",
    "print(n)"
   ]
  },
  {
   "cell_type": "code",
   "execution_count": 29,
   "metadata": {},
   "outputs": [
    {
     "name": "stdout",
     "output_type": "stream",
     "text": [
      "2\n",
      "NO\n"
     ]
    }
   ],
   "source": [
    "n=int(input())\n",
    "f='YES'\n",
    "for i in range(2,n):\n",
    "    if n%i==0:\n",
    "        f='NO'\n",
    "        break\n",
    "if n==1:\n",
    "    f='NO'\n",
    "\n",
    "print(f)"
   ]
  },
  {
   "cell_type": "markdown",
   "metadata": {},
   "source": [
    "n=int(input())\n",
    "cnt=0\n",
    "for i in range(1,n+1):\n",
    "    if n%i==0:\n",
    "        cnt+=1\n",
    "if cnt==2:\n",
    "    print('YES')\n",
    "else:\n",
    "    print('NO')"
   ]
  },
  {
   "cell_type": "code",
   "execution_count": 32,
   "metadata": {},
   "outputs": [
    {
     "name": "stdout",
     "output_type": "stream",
     "text": [
      "10\n",
      "[2, 3, 5, 7]\n"
     ]
    }
   ],
   "source": [
    "n=int(input())\n",
    "l=[0]*(n+1)\n",
    "ans=[]\n",
    "for i in range(2,n+1):\n",
    "    if l[i]==0:\n",
    "        ans.append(i)  \n",
    "    for j in range(i,n+1,i):\n",
    "        l[j]=1\n",
    "print(ans)"
   ]
  },
  {
   "cell_type": "code",
   "execution_count": 34,
   "metadata": {},
   "outputs": [
    {
     "name": "stdout",
     "output_type": "stream",
     "text": [
      "3849\n",
      "24\n"
     ]
    }
   ],
   "source": [
    "num=input()\n",
    "tot=0\n",
    "for i in num:\n",
    "    tot+=int(i)\n",
    "print(tot)"
   ]
  },
  {
   "cell_type": "code",
   "execution_count": 38,
   "metadata": {},
   "outputs": [
    {
     "name": "stdout",
     "output_type": "stream",
     "text": [
      "1234\n",
      "10\n"
     ]
    }
   ],
   "source": [
    "print(sum(map(int,input())))"
   ]
  },
  {
   "cell_type": "code",
   "execution_count": 54,
   "metadata": {},
   "outputs": [
    {
     "name": "stdout",
     "output_type": "stream",
     "text": [
      "102\n"
     ]
    }
   ],
   "source": [
    "l=[]\n",
    "tot=0\n",
    "for i in range(1,21):\n",
    "    l.append(str(i))\n",
    "a=''.join(l)\n",
    "\n",
    "for j in a:\n",
    "    tot+=int(j)\n",
    "print(tot)"
   ]
  },
  {
   "cell_type": "code",
   "execution_count": 59,
   "metadata": {},
   "outputs": [
    {
     "name": "stdout",
     "output_type": "stream",
     "text": [
      "102\n"
     ]
    }
   ],
   "source": [
    "l=''\n",
    "for i in range(1,21):\n",
    "    l+=str(i)\n",
    "\n",
    "print(sum(map(int,l)))"
   ]
  },
  {
   "cell_type": "code",
   "execution_count": 62,
   "metadata": {},
   "outputs": [
    {
     "name": "stdout",
     "output_type": "stream",
     "text": [
      "20\n",
      "102\n"
     ]
    }
   ],
   "source": [
    "l=''\n",
    "for i in range(1,int(input())+1):\n",
    "    l+=str(i)\n",
    "\n",
    "print(sum(map(int,l)))"
   ]
  },
  {
   "cell_type": "code",
   "execution_count": 1,
   "metadata": {},
   "outputs": [
    {
     "name": "stdout",
     "output_type": "stream",
     "text": [
      "17\n"
     ]
    }
   ],
   "source": [
    "def call(v1=20,v2=5,v3=2):\n",
    "    print((v1*v2)-v3)\n",
    "    \n",
    "call(v2=5,v3=3,v1=4)"
   ]
  },
  {
   "cell_type": "code",
   "execution_count": 4,
   "metadata": {},
   "outputs": [
    {
     "name": "stdout",
     "output_type": "stream",
     "text": [
      "x\n",
      "y\n"
     ]
    }
   ],
   "source": [
    "x={'x':1,'y':2}\n",
    "for i in x:\n",
    "    print(i)"
   ]
  },
  {
   "cell_type": "code",
   "execution_count": 5,
   "metadata": {},
   "outputs": [
    {
     "name": "stdout",
     "output_type": "stream",
     "text": [
      "n=11\n",
      "true\n"
     ]
    }
   ],
   "source": [
    "n=int(input('n='))      # n값을 입력\n",
    "f='true'                # 변수f값을 false로 초기화\n",
    "for i in range(2,n):   # 2부터 n-1값까지 for문을 돌림\n",
    "    if n%i==0:         # n을 i(2부터 n-1값)으로 나눈 나머지가 0이면\n",
    "        f='false'      # f를 flase로 바꿈\n",
    "        break         # 하나라도 값이 나눠짐으로 소수가 아니기 때문에 바로 break함\n",
    "if n==1:              # 예외로 n이 1일경우\n",
    "    f='false'          # f를 바로 false로 바꿈\n",
    "\n",
    "print(f)               # f값 출력"
   ]
  },
  {
   "cell_type": "code",
   "execution_count": 8,
   "metadata": {},
   "outputs": [
    {
     "name": "stdout",
     "output_type": "stream",
     "text": [
      "n=1\n",
      "false\n"
     ]
    }
   ],
   "source": [
    "n=int(input('n='))      # n값을 입력\n",
    "cnt=0                   # cnt를 0으로 초기화\n",
    "for i in range(1,n+1):  # 1부터 n값까지 for문을 돌림\n",
    "    if n%i==0:         # n을 i(1부터 n값)으로 나눈 나머지가 0이면\n",
    "        cnt+=1         # cnt를 1씩 더함       \n",
    "if cnt==2:             # cnt가 2이면(즉 자기 자신과 1일경우) 소수임으로\n",
    "    print('true')      # true출력\n",
    "else:                  # 그 이외의 값은\n",
    "    print('false')     # false 출력"
   ]
  },
  {
   "cell_type": "code",
   "execution_count": 13,
   "metadata": {},
   "outputs": [
    {
     "name": "stdout",
     "output_type": "stream",
     "text": [
      "n=15\n",
      "false\n"
     ]
    }
   ],
   "source": [
    "n=int(input('n='))           # n값을 입력\n",
    "\n",
    "l=[0]*(n+1)                 # l 리스트를 0으로 index 0부터 n까지 생성\n",
    "ans=[]                      # ans 리스트 생성\n",
    "for i in range(2,n+1):     # i값을 2부터 n까지 for문 돌림\n",
    "    if l[i]==0:            # 만약 l[i]값이 0이면\n",
    "        ans.append(i)         # l[i]값을 ans에 삽입\n",
    "    for j in range(i,n+1,i):   # i부터 n까지 i 씩 커지면서(즉 n까지의 i의 배수들)\n",
    "        l[j]=1                 #l[j]값을 1로 변환\n",
    "\n",
    "if n in ans:                  # 만약 n값이 ans(소수)에 있다면\n",
    "    print('true')            # ture 출력\n",
    "else:                        # n 값이 반대로 ans에 없다면\n",
    "    print('false')           #false출력"
   ]
  },
  {
   "cell_type": "code",
   "execution_count": 1,
   "metadata": {},
   "outputs": [
    {
     "name": "stdout",
     "output_type": "stream",
     "text": [
      "Enter a number: 43\n",
      "43 is Odd\n"
     ]
    }
   ],
   "source": [
    "n=int(input('Enter a number: '))   #숫자 입력받기\n",
    "\n",
    "if n%2==0:         #숫자 나눈값의 나머지가 0이면\n",
    "    print('{} is Even'.format(n))   # 짝수 출력\n",
    "else:             # 그 이외에는\n",
    "    print('{} is Odd'.format(n))    # 홀수 출력"
   ]
  },
  {
   "cell_type": "code",
   "execution_count": 3,
   "metadata": {},
   "outputs": [
    {
     "name": "stdout",
     "output_type": "stream",
     "text": [
      "Enter a number: 18\n",
      "18 is Even\n"
     ]
    }
   ],
   "source": [
    "n=input('Enter a number: ')   #숫자 입력받기\n",
    "last_num=[0,2,4,6,8]         #끝자리 리스트 만들기\n",
    "\n",
    "if int(n[-1]) in last_num:         #숫자 맨 마지막 자리가 last_num에 있는 숫자라면\n",
    "    print('{} is Even'.format(n))   # 짝수 출력\n",
    "else:             # 그 이외에는\n",
    "    print('{} is Odd'.format(n))    # 홀수 출력"
   ]
  },
  {
   "cell_type": "code",
   "execution_count": 13,
   "metadata": {},
   "outputs": [],
   "source": [
    "def myfunc(*args):\n",
    "    for a in args:\n",
    "        print(a,end='')\n",
    "    if args:\n",
    "        print()\n",
    "\n",
    "def myfunc2(**kwargs):\n",
    "    for k,v in kwargs.items():\n",
    "        print(k,v,sep='->',end=' ')\n",
    "    if kwargs:\n",
    "        print()\n",
    "\n",
    "def myfunc3(*args, **kwargs):\n",
    "    if args:\n",
    "        for a in args:\n",
    "            print(a,end=' ')\n",
    "        print()\n",
    "    if kwargs:\n",
    "        for k, v in kwargs.items():\n",
    "            print(k,v,sep='->',end=' ')\n",
    "        print()\n"
   ]
  },
  {
   "cell_type": "code",
   "execution_count": 8,
   "metadata": {},
   "outputs": [],
   "source": [
    "myfunc3()"
   ]
  },
  {
   "cell_type": "code",
   "execution_count": 10,
   "metadata": {},
   "outputs": [
    {
     "name": "stdout",
     "output_type": "stream",
     "text": [
      "1 2 3 \n"
     ]
    }
   ],
   "source": [
    "myfunc3(1,2,3)"
   ]
  },
  {
   "cell_type": "code",
   "execution_count": 15,
   "metadata": {},
   "outputs": [
    {
     "name": "stdout",
     "output_type": "stream",
     "text": [
      "a->10 b->20 c->30 \n"
     ]
    }
   ],
   "source": [
    "myfunc3(a=10,b=20,c=30)"
   ]
  },
  {
   "cell_type": "code",
   "execution_count": 16,
   "metadata": {},
   "outputs": [
    {
     "name": "stdout",
     "output_type": "stream",
     "text": [
      "1 2 3 \n",
      "a->10 b->20 c->30 \n"
     ]
    }
   ],
   "source": [
    "myfunc3(1,2,3, a=10,b=20,c=30)"
   ]
  },
  {
   "cell_type": "code",
   "execution_count": 19,
   "metadata": {},
   "outputs": [
    {
     "name": "stdout",
     "output_type": "stream",
     "text": [
      "27\n",
      "6115\n",
      "4850\n",
      "4822\n",
      "4836\n",
      "3835\n",
      "3818\n",
      "3831\n",
      "2912\n",
      "2924\n",
      "2515\n",
      "2340\n",
      "1557\n",
      "1510\n",
      "1555\n",
      "1604\n",
      "1556\n",
      "1545\n",
      "4010\n",
      "4033\n",
      "4805\n",
      "4928\n",
      "4807\n",
      "5810\n",
      "5805\n",
      "3936\n",
      "3950\n",
      "4811\n",
      "66.56266666666667\n"
     ]
    }
   ],
   "source": [
    "n=int(input())\n",
    "tot=0\n",
    "for _ in range(n):\n",
    "    a=int(input())\n",
    "    if tot%100+ a%100 >= 60:\n",
    "        tot+=(a//100)*100+100+(tot%100-60)\n",
    "    else:\n",
    "        tot+=a\n",
    "print(tot/6000*4)\n",
    "        "
   ]
  },
  {
   "cell_type": "code",
   "execution_count": 21,
   "metadata": {},
   "outputs": [
    {
     "data": {
      "text/plain": [
       "64.36352"
      ]
     },
     "execution_count": 21,
     "metadata": {},
     "output_type": "execute_result"
    }
   ],
   "source": [
    "66.56*0.967"
   ]
  },
  {
   "cell_type": "code",
   "execution_count": 8,
   "metadata": {},
   "outputs": [
    {
     "name": "stdout",
     "output_type": "stream",
     "text": [
      "5\n"
     ]
    }
   ],
   "source": [
    "people=[('이호준','01050442903'),('이호상','01051442904'),('이준호','01050342904'),('이호준','01050442903'),('이준','01050412904'),('이호','01050443904'),('이호준','01050442903')]\n",
    "cnt=0\n",
    "while people:\n",
    "    a=people.pop(0)\n",
    "    if a not in people:\n",
    "        cnt+=1\n",
    "        \n",
    "print(cnt)"
   ]
  },
  {
   "cell_type": "code",
   "execution_count": 11,
   "metadata": {},
   "outputs": [
    {
     "name": "stdout",
     "output_type": "stream",
     "text": [
      "5\n"
     ]
    }
   ],
   "source": [
    "people=[('이호준','01050442903'),('이호상','01051442904'),('이준호','01050342904'),('이호준','01050442903'),('이준','01050412904'),('이호','01050443904'),('이호준','01050442903')]\n",
    "print(len(set(people)))"
   ]
  },
  {
   "cell_type": "code",
   "execution_count": 17,
   "metadata": {},
   "outputs": [
    {
     "name": "stdout",
     "output_type": "stream",
     "text": [
      "aaabbbCCCDDD"
     ]
    }
   ],
   "source": [
    "# Asicii코드를 활용한 문제풀이\n",
    "\n",
    "string='AAABBBcccddd'\n",
    "\n",
    "for i in string:   # 문자열에서 각각의 문자마다\n",
    "    if 65<=ord(i)<=90:  # 대문자 아스키 코드일경우\n",
    "        print(chr(ord(i)+32),end='')     # 아스키코드10진법에서 +32를 더해 소문자로\n",
    "    elif 97<=ord(i)<=122:     # 이외에는\n",
    "        print(chr(ord(i)-32),end='')    # 아스키코드10진법에서 +32를 더해 대문자로\n",
    "        "
   ]
  },
  {
   "cell_type": "code",
   "execution_count": 19,
   "metadata": {},
   "outputs": [
    {
     "name": "stdout",
     "output_type": "stream",
     "text": [
      "aaabbbCCCDDD"
     ]
    }
   ],
   "source": [
    "string='AAABBBcccddd'\n",
    "\n",
    "for i in string:   # 문자열에서 각각의 문자마다\n",
    "    if i.isupper():  # 대문자일 경우\n",
    "        print(i.lower(),end='')     # 소문자로\n",
    "    elif i.islower() :     # 소문자 이면\n",
    "        print(i.upper(),end='')    # 대문자로\n",
    "        "
   ]
  },
  {
   "cell_type": "code",
   "execution_count": 20,
   "metadata": {},
   "outputs": [
    {
     "name": "stdout",
     "output_type": "stream",
     "text": [
      "10 9 8 7 6 5 4 3 2 1\n",
      "10\n"
     ]
    }
   ],
   "source": [
    "nums=list(map(int,input().split()))   # 숫자 입력받음\n",
    "print(max(nums))  # 최대값 출력"
   ]
  },
  {
   "cell_type": "code",
   "execution_count": 21,
   "metadata": {},
   "outputs": [
    {
     "name": "stdout",
     "output_type": "stream",
     "text": [
      "10 9 8 7 6 5 4 3 2 1\n",
      "10\n"
     ]
    }
   ],
   "source": [
    "nums=list(map(int,input().split()))   # 숫자 입력받음\n",
    "max_num=0   #변수 초기화\n",
    "while nums:  # nums의 list에 값이 없을때까지\n",
    "    a=nums.pop()   # a에 마지막값을 pop하여 넣음\n",
    "    if a>max_num:  # a가 max_num값보다 크면 \n",
    "        max_num=a    # max_num값을 a로 치환\n",
    "print(max_num)    # max_num값 출력"
   ]
  },
  {
   "cell_type": "code",
   "execution_count": 22,
   "metadata": {},
   "outputs": [
    {
     "name": "stdout",
     "output_type": "stream",
     "text": [
      "10 9 8 7 6 5 4 3 2 1\n",
      "10\n"
     ]
    }
   ],
   "source": [
    "nums=list(map(int,input().split()))   # 숫자 입력받음\n",
    "max_num=0   #변수 초기화\n",
    "for i in nums:   # for문으로 nums의 값을 돌림(i로 받음)\n",
    "    if i>max_num:   # i가 max_num보다 크면\n",
    "        max_num=i   # max_num에 i를 치환\n",
    "print(max_num)   # max_num 출력"
   ]
  },
  {
   "cell_type": "code",
   "execution_count": 32,
   "metadata": {},
   "outputs": [
    {
     "name": "stdout",
     "output_type": "stream",
     "text": [
      "번호: 1, 이름: 강은지\n",
      "번호: 2, 이름: 강채연\n",
      "번호: 3, 이름: 권윤일\n",
      "번호: 4, 이름: 김민호\n",
      "번호: 5, 이름: 김유정\n",
      "번호: 6, 이름: 김진이\n",
      "번호: 7, 이름: 김채리\n",
      "번호: 8, 이름: 박지호\n",
      "번호: 9, 이름: 박현서\n",
      "번호: 10, 이름: 최성훈\n",
      "번호: 11, 이름: 한지호\n",
      "번호: 12, 이름: 홍유진\n"
     ]
    }
   ],
   "source": [
    "student=['강은지','김유정','박현서','최성훈','홍유진','박지호','권윤일','김채리','한지호','김진이','김민호','강채연']\n",
    "student.sort()  # 정렬\n",
    "for i in range(len(student)):   # for문 사용 \n",
    "    print('번호: {0}, 이름: {1}'.format(i+1,student[i])) # i+1로 번호를 나타내고 정렬된 사람 이름 출력"
   ]
  },
  {
   "cell_type": "code",
   "execution_count": 33,
   "metadata": {},
   "outputs": [
    {
     "name": "stdout",
     "output_type": "stream",
     "text": [
      "번호: 1, 이름: 강은지\n",
      "번호: 2, 이름: 강채연\n",
      "번호: 3, 이름: 권윤일\n",
      "번호: 4, 이름: 김민호\n",
      "번호: 5, 이름: 김유정\n",
      "번호: 6, 이름: 김진이\n",
      "번호: 7, 이름: 김채리\n",
      "번호: 8, 이름: 박지호\n",
      "번호: 9, 이름: 박현서\n",
      "번호: 10, 이름: 최성훈\n",
      "번호: 11, 이름: 한지호\n",
      "번호: 12, 이름: 홍유진\n"
     ]
    }
   ],
   "source": [
    "student=['강은지','김유정','박현서','최성훈','홍유진','박지호','권윤일','김채리','한지호','김진이','김민호','강채연']\n",
    "student.sort()  # 정렬\n",
    "for idx, name in enumerate(student):   # idx에 index, name에 이름을 받는다. \n",
    "    print('번호: {0}, 이름: {1}'.format(idx+1,name)) # idx+1로 번호를 나타내고 name에 정렬된 사람 이름 출력"
   ]
  },
  {
   "cell_type": "code",
   "execution_count": 38,
   "metadata": {},
   "outputs": [
    {
     "name": "stdout",
     "output_type": "stream",
     "text": [
      "20190923\n"
     ]
    }
   ],
   "source": [
    "a=ord('A')//ord('A')  # 아스키 코드를 사용하여 1을 만든다.\n",
    "print(a+a,a-a,a,(a+a+a)*(a+a+a),a-a,(a+a+a)*(a+a+a),a+a,a+a+a,sep='') # 각 숫자를 a만을 사용하여 숫자 만듬 sep으로 붙임"
   ]
  },
  {
   "cell_type": "code",
   "execution_count": 39,
   "metadata": {},
   "outputs": [
    {
     "name": "stdout",
     "output_type": "stream",
     "text": [
      "20190923\n"
     ]
    }
   ],
   "source": [
    "num_list=['a','b','c','d','e','f','g','h','i','j']  # 알파벳 리스트 생성\n",
    "print(num_list.index('c'),num_list.index('a'),num_list.index('b'),num_list.index('j'),num_list.index('a'),num_list.index('j'),num_list.index('c'),num_list.index('d'),sep='')\n",
    "# index함수를 사용하여 value값이 일치하는 index값을 불러와 숫자를 출력"
   ]
  },
  {
   "cell_type": "code",
   "execution_count": 41,
   "metadata": {},
   "outputs": [
    {
     "name": "stdout",
     "output_type": "stream",
     "text": [
      "20190923\n"
     ]
    }
   ],
   "source": [
    "alp_list=['a']\n",
    "a=len(alp_list) # a=리스트 길이\n",
    "print(a+a,a-a,a,(a+a+a)*(a+a+a),a-a,(a+a+a)*(a+a+a),a+a,a+a+a,sep='') # 각 숫자를 a만을 사용하여 숫자 출력 sep으로 붙임"
   ]
  },
  {
   "cell_type": "code",
   "execution_count": 43,
   "metadata": {},
   "outputs": [
    {
     "name": "stdout",
     "output_type": "stream",
     "text": [
      "20190923\n"
     ]
    }
   ],
   "source": [
    "count_list=['a','b','b','c','c','c','d','d','d','d','e','e','e','e','e','f','f','f','f','f','f','g','g','g','g','g','g','g','h','h','h','h','h','h','h','h','i','i','i','i','i','i','i','i','i']\n",
    "# 각 숫자 갯수만큼 있는 알파벳 리스트 생성 \n",
    "print(count_list.count('b'),count_list.count('j'),count_list.count('a'),count_list.count('i'),count_list.count('j'),count_list.count('i'),count_list.count('b'),count_list.count('c'),sep='')\n",
    "# count함수를 사용하여 리스트에 있는 알파벳 갯수를 받으면서 숫자 출력"
   ]
  },
  {
   "cell_type": "code",
   "execution_count": 51,
   "metadata": {},
   "outputs": [
    {
     "name": "stdout",
     "output_type": "stream",
     "text": [
      "아버지가 방에 들어갔습니다\n",
      "아방들"
     ]
    }
   ],
   "source": [
    "string=input()    # string 입력받음\n",
    "for i in range(len(string)):    # string 길이 까지 for문을 돌림\n",
    "    if i==0 or string[i-1].isspace():  # 첫번째 문자거나 그전 문자가 공백이면\n",
    "        print(string[i],end='')    # string[i]번째 출력"
   ]
  },
  {
   "cell_type": "code",
   "execution_count": 59,
   "metadata": {},
   "outputs": [
    {
     "name": "stdout",
     "output_type": "stream",
     "text": [
      "아버지가 방에 들어갔습니다.\n",
      "아방들"
     ]
    }
   ],
   "source": [
    "string=input()    # string 입력받음\n",
    "stack=[]    # 빈 stack 리스트 생성\n",
    "for i in string:  # for문으로 문자 돌림\n",
    "    if len(stack)==0 and i.isspace()==False:  # stack리스트가 빈칸이고 공백이 아니면\n",
    "        stack.append(i)  #stack에 문자 넣음\n",
    "    elif i.isspace() or i==string[-1]:  #공백이거나 마지막 문자라면\n",
    "        print(stack.pop(0),end='')   # stack에서 pop하여 출력\n"
   ]
  },
  {
   "cell_type": "code",
   "execution_count": 62,
   "metadata": {},
   "outputs": [
    {
     "name": "stdout",
     "output_type": "stream",
     "text": [
      "아버지가 방에 들어갔습니다.\n",
      "아방들"
     ]
    }
   ],
   "source": [
    "string=input().split()   # 띄어쓰기 마다 문자를 받음\n",
    "for i in string:      # for문으로 string 문자열 반복\n",
    "    print(i[0],end='')  # 해당 문자열의 첫번째 수 출력"
   ]
  },
  {
   "cell_type": "code",
   "execution_count": 65,
   "metadata": {},
   "outputs": [
    {
     "name": "stdout",
     "output_type": "stream",
     "text": [
      "3\n",
      "1자리수\n"
     ]
    }
   ],
   "source": [
    "n=input()   # 정수 입력\n",
    "print(len(n),'자리수',sep='')   # stirng으로 받아 len으로 자릿수 출력"
   ]
  },
  {
   "cell_type": "code",
   "execution_count": 66,
   "metadata": {},
   "outputs": [
    {
     "name": "stdout",
     "output_type": "stream",
     "text": [
      "3\n",
      "1\n"
     ]
    }
   ],
   "source": [
    "print(len(input()))"
   ]
  },
  {
   "cell_type": "code",
   "execution_count": 78,
   "metadata": {},
   "outputs": [
    {
     "name": "stdout",
     "output_type": "stream",
     "text": [
      "공백을 제외한 글자수만을 세는 코드 테스트\n",
      "18\n"
     ]
    }
   ],
   "source": [
    "string=input()     # 문자열을 입력받는다.\n",
    "cnt=len(string)   # 총 문자의수\n",
    "for i in string:   #for문 문자를 받는다.\n",
    "    if i.isspace() or i=='\\n': # 공백이거나 한줄띄기이면\n",
    "        cnt-=1    # 총 글자수에서 한자리씩 뺀다.\n",
    "print(cnt)"
   ]
  },
  {
   "cell_type": "code",
   "execution_count": 80,
   "metadata": {},
   "outputs": [
    {
     "name": "stdout",
     "output_type": "stream",
     "text": [
      "공백을 제외한 글자수만을 세는 코드 테스트\n",
      "18\n"
     ]
    }
   ],
   "source": [
    "string=input()\n",
    "print(len(string)-string.count(' '))"
   ]
  },
  {
   "cell_type": "code",
   "execution_count": 4,
   "metadata": {},
   "outputs": [
    {
     "data": {
      "text/plain": [
       "36"
      ]
     },
     "execution_count": 4,
     "metadata": {},
     "output_type": "execute_result"
    }
   ],
   "source": [
    "4*3**2"
   ]
  },
  {
   "cell_type": "code",
   "execution_count": 19,
   "metadata": {},
   "outputs": [
    {
     "name": "stdout",
     "output_type": "stream",
     "text": [
      "HeLLo\n",
      "Ther number of lowercase characters is:  2\n",
      "Ther number of uppercase characters is:  3\n",
      "The swapcase letter is:  hEllO\n"
     ]
    }
   ],
   "source": [
    "def countletter(s):     # 함수 선언\n",
    "    low_cnt=0     # 소문자 카운트 변수 생성\n",
    "    up_cnt=0      # 대문자 카운트 변수 생성\n",
    "    for i in s:   # for 문으로 받은문자열에서 문자마다\n",
    "        if i.islower():   # 문자가 소문자면\n",
    "            low_cnt+=1    # 소문자 카운트 변수 +1\n",
    "        else:             # 아니면 \n",
    "            up_cnt+=1     # 대문자 카운트 변수 +1\n",
    "    print('Ther number of lowercase characters is: ',low_cnt)   # 소문자 갯수 출력\n",
    "    print('Ther number of uppercase characters is: ',up_cnt)    # 대문자 갯수 출력\n",
    "    print('The swapcase letter is: ', s.swapcase())      # 뒤집힌 문자 출력\n",
    "    \n",
    "    \n",
    "string=input()    # 문자열 입력\n",
    "countletter(string)    # 함수에 문자열 대입"
   ]
  },
  {
   "cell_type": "code",
   "execution_count": 20,
   "metadata": {},
   "outputs": [
    {
     "name": "stdout",
     "output_type": "stream",
     "text": [
      "HeLLo\n",
      "Ther number of lowercase characters is:  2\n",
      "Ther number of uppercase characters is:  3\n",
      "The swapcase letter is:  hEllO\n"
     ]
    }
   ],
   "source": [
    "def countletter(s):     # 함수 선언\n",
    "    low_cnt=0     # 소문자 카운트 변수 생성\n",
    "    for i in s:   # for 문으로 받은문자열에서 문자마다\n",
    "        if i.islower():   # 문자가 소문자면\n",
    "            low_cnt+=1    # 소문자 카운트 변수 +1\n",
    "        \n",
    "    print('Ther number of lowercase characters is: ',low_cnt)   # 소문자 갯수 출력\n",
    "    print('Ther number of uppercase characters is: ',len(s)-low_cnt)    # 대문자 갯수 (전체 문자수-소문자수)출력\n",
    "    print('The swapcase letter is: ', s.swapcase())      # 뒤집힌 문자 출력\n",
    "    \n",
    "    \n",
    "string=input()    # 문자열 입력\n",
    "countletter(string)    # 함수에 문자열 대입"
   ]
  },
  {
   "cell_type": "code",
   "execution_count": 21,
   "metadata": {},
   "outputs": [
    {
     "name": "stdout",
     "output_type": "stream",
     "text": [
      "HeLLo\n",
      "Ther number of lowercase characters is:  2\n",
      "Ther number of uppercase characters is:  3\n",
      "The swapcase letter is:  hEllO\n"
     ]
    }
   ],
   "source": [
    "def countletter(s):     # 함수 선언\n",
    "    low_cnt=0     # 소문자 카운트 변수 생성\n",
    "    for i in s:   # for 문으로 받은문자열에서 문자마다\n",
    "        if 97<=ord(i)<=122:  # ASCII로 판단(소문자 이면)\n",
    "            low_cnt+=1     # 소문자 카운트 변수 +1\n",
    "        \n",
    "    print('Ther number of lowercase characters is: ',low_cnt)   # 소문자 갯수 출력\n",
    "    print('Ther number of uppercase characters is: ',len(s)-low_cnt)    # 대문자 갯수 (전체 문자수-소문자수)출력\n",
    "    print('The swapcase letter is: ', s.swapcase())      # 뒤집힌 문자 출력\n",
    "    \n",
    "    \n",
    "string=input()    # 문자열 입력\n",
    "countletter(string)    # 함수에 문자열 대입"
   ]
  },
  {
   "cell_type": "code",
   "execution_count": 11,
   "metadata": {},
   "outputs": [
    {
     "name": "stdout",
     "output_type": "stream",
     "text": [
      "nums: 8\n",
      "0, 1, 1, 2, 3, 5, 8, 13\n"
     ]
    }
   ],
   "source": [
    "n=int(input('nums: '))   # nums 입력\n",
    "\n",
    "ans=[0,1]               # 초기값 0,1 을 갖은 리스트 생성\n",
    "for i in range(2,n):   #  2번째 부터 n번째까지\n",
    "    ans.append(ans[i-1]+ans[i-2])    # 전항과 전전항 더한 것을 ans리스트에 append함 \n",
    "\n",
    "for j in range(n):   # n개를 for문을 사용하여 돌림\n",
    "    if j <n-1:    # 마지막 수가 아니면(n-1보다 작으면)\n",
    "        print(ans[j],end=', ')     #  ans[j]뒤에 ,찍음\n",
    "    else:        # 마지막 수이면(그 이외에는)\n",
    "        print(ans[j])    # ans[j]만 출력"
   ]
  },
  {
   "cell_type": "code",
   "execution_count": 8,
   "metadata": {},
   "outputs": [
    {
     "name": "stdout",
     "output_type": "stream",
     "text": [
      "Tue Mar 23 18:14:15 2021\n"
     ]
    }
   ],
   "source": [
    "import time \n",
    "print(time.asctime()) "
   ]
  },
  {
   "cell_type": "code",
   "execution_count": 2,
   "metadata": {},
   "outputs": [
    {
     "name": "stdout",
     "output_type": "stream",
     "text": [
      "[3, 4, 5, 6, 7] = 홀수 3개, 짝수 2개\n",
      "[12, 16, 22, 24, 29] = 홀수 1개, 짝수 4개\n",
      "[41, 43, 45, 47, 49] = 홀수 5개, 짝수 0개\n"
     ]
    }
   ],
   "source": [
    "def figure(lis):   # 함수 선언 \n",
    "    cnt=0          # cnt 변수 생성\n",
    "    for i in lis: # lis의 값마다\n",
    "        if i%2==1:   # 홀수면(나머지가 1)\n",
    "            cnt+=1    #  cnt에 1더함\n",
    "    print('{0} = 홀수 {1}개, 짝수 {2}개'.format(lis,cnt,len(lis)-cnt))  # 홀수 짝수 갯수 출력\n",
    "    \n",
    "figure([3, 4, 5, 6, 7])       # figure에 넣을 lis 입력\n",
    "figure([12, 16, 22, 24, 29])  # figure에 넣을 lis 입력\n",
    "figure([41, 43, 45, 47, 49])  # figure에 넣을 lis 입력"
   ]
  },
  {
   "cell_type": "code",
   "execution_count": 5,
   "metadata": {},
   "outputs": [
    {
     "name": "stdout",
     "output_type": "stream",
     "text": [
      "Today was a great day\n"
     ]
    }
   ],
   "source": [
    " x = ['Today', 'Sunday', 'Monday'] \n",
    "print(x[-3] + ' was a great day')"
   ]
  },
  {
   "cell_type": "code",
   "execution_count": 24,
   "metadata": {},
   "outputs": [
    {
     "name": "stdout",
     "output_type": "stream",
     "text": [
      "제 1 각을 입력하세요: 6\n",
      "제 2 각을 입력하세요: 7\n",
      "제 3 각을 입력하세요: 8\n",
      "예각 삼각형입니다.\n"
     ]
    }
   ],
   "source": [
    "def search(x,y,z):              # 함수 선언\n",
    "    lng=[x,y,z]                 # 리스트에 각 변수를 할당받음\n",
    "    lng.sort()                  # sort로 올림올림차순\n",
    "    if lng[-1]>=sum(lng[0:-1]) or len(lng)!=3:       # 최대 길이가 나머지 길이 합보다 작거나 변이 3개가 아니면 \n",
    "        print('삼각형이 아닙니다.')          # 출력\n",
    "    else:     # 그 이외에\n",
    "        if lng[-1]**2==lng[0]**2+lng[1]**2:  # 피타고라스정리(직각 삼각형 판별)\n",
    "            print('직각 삼각형입니다.')    # 출력\n",
    "        else:   # 그 이외에\n",
    "            if lng[-1]**2>lng[0]**2+lng[1]**2: # 최대 길이 제곱이 나머지 제곱 합보다 크면\n",
    "                print('둔각 삼각형입니다.')      # 출력\n",
    "            else:          # 그 이외에 \n",
    "                print('예각 삼각형입니다.')     # 출력\n",
    "\n",
    "length=[]    # 리스트 선언\n",
    "for i in range(1,4):    # 3개를 선언 받음\n",
    "    length.append(int(input('제 {} 각을 입력하세요: '.format(i))))   # 선언받을때마다 리스트에 할당\n",
    "\n",
    "search(length[0],length[1],length[2])    # 함수 호출"
   ]
  },
  {
   "cell_type": "code",
   "execution_count": null,
   "metadata": {},
   "outputs": [],
   "source": [
    "bccda\n",
    "aaddb\n",
    "acacd\n",
    "bbbcc"
   ]
  },
  {
   "cell_type": "code",
   "execution_count": 18,
   "metadata": {},
   "outputs": [
    {
     "name": "stdout",
     "output_type": "stream",
     "text": [
      "0 1 1 2 3 5 8 13 21 34 55 89 "
     ]
    }
   ],
   "source": [
    "a=0\n",
    "b=1\n",
    "print(a,end=' ')\n",
    "while b<=100:\n",
    "    print(b, end=' ')\n",
    "    a,b=b,a+b"
   ]
  },
  {
   "cell_type": "code",
   "execution_count": 29,
   "metadata": {},
   "outputs": [
    {
     "name": "stdout",
     "output_type": "stream",
     "text": [
      "0 1 1 2 3 5 8 13 21 34 55 89 \n",
      " 총 갯수: 12\n"
     ]
    }
   ],
   "source": [
    "# 재귀 없는 버전\n",
    "\n",
    "a=0    # 첫 번째 수 0\n",
    "b=1    # 두 번째 수 1\n",
    "cnt=1  # 초기 갯수 a만세서 1\n",
    "print(a,end=' ')  # 첫 번째 수 출력\n",
    "\n",
    "def pi():    # 함수 선언\n",
    "    global a,b, cnt    # def밖에서도 계속 변하게 global로 선언\n",
    "    while b<=100:      # b가 100보다 작을때까지\n",
    "        print(b,end=' ')    # b 출력\n",
    "        a,b=b,a+b      # a= b,b= atb\n",
    "        cnt+=1        # 갯수 +1\n",
    "\n",
    "pi()    # 함수 호출\n",
    "print('\\n 총 갯수:',cnt)    # 갯수 출력"
   ]
  },
  {
   "cell_type": "code",
   "execution_count": 35,
   "metadata": {},
   "outputs": [
    {
     "name": "stdout",
     "output_type": "stream",
     "text": [
      "0 1 1 2 3 5 8 13 21 34 55 89 \n",
      " 총 갯수: 12\n"
     ]
    }
   ],
   "source": [
    "# 재귀 버젼\n",
    "\n",
    "cnt=1  # 초기 갯수 a만세서 1\n",
    "print(0,end=' ')  # 첫 번째 수 출력\n",
    "\n",
    "def pi(a,b):    # 함수 선언 (들어갈 수 a, b)\n",
    "    global cnt    # def밖에서도 계속 변하게 global로 선언\n",
    "    if b<=100:    # b가 100보다 작을때까지\n",
    "        print(b,end=' ')    # b 출력\n",
    "        a,b=b,a+b      # a= b,b= atb\n",
    "        cnt+=1         # cnt 갯수 +1\n",
    "        pi(a,b)       # 다시 함수로 바뀐 값이 들어가며 재귀\n",
    "\n",
    "pi(0,1)    # 초기 숫자 0,1 을 넣어 함수 호출\n",
    "print('\\n 총 갯수:',cnt)    # 갯수 출력"
   ]
  },
  {
   "cell_type": "code",
   "execution_count": 2,
   "metadata": {},
   "outputs": [
    {
     "name": "stdout",
     "output_type": "stream",
     "text": [
      "1 2 3 4 5 6 7 8 9 10 "
     ]
    }
   ],
   "source": [
    "def count(i):  # 함수 선언\n",
    "    if i<11:   # i<11 이하면\n",
    "        print(i,end=' ')   # i 출력\n",
    "        count(i+1)   # 다음 함수에 i+1값을 넣음\n",
    "count(1)    # 함수 호출(1로 시작)"
   ]
  },
  {
   "cell_type": "code",
   "execution_count": 3,
   "metadata": {},
   "outputs": [
    {
     "name": "stdout",
     "output_type": "stream",
     "text": [
      "31\n",
      "[2, 3, 5, 7, 11, 13, 17, 19, 23, 29, 31, 37, 41, 43, 47, 53, 59, 61, 67, 71, 73, 79, 83, 89, 97]\n",
      "소수입니다\n"
     ]
    }
   ],
   "source": [
    "prime=[]     # 소수 담을 리스트\n",
    "ch=[0]*101   # 소수 여부 체크 리스트\n",
    "for i in range(2,101):   # 소수는 2부터 100까지 카운트\n",
    "    if ch[i]==0:       # 체크리스트가 0이면\n",
    "        prime.append(i)    # 소수리스트에 넣음\n",
    "        ch[i]==1      # 체크리스트를 1로 바꿈\n",
    "    for j in range(i,101,i):   # i부터 i씩 커지며 100까지 \n",
    "        if ch[j]==0:    # 체크 리스트가 0이면\n",
    "            ch[j]=1     # 그 수를 1로 바꿈\n",
    "\n",
    "n=int(input())    # 입력\n",
    "print(prime)   #  소수 리스트 출력\n",
    "if n in prime:   # 입력받은수가 소수 리스트에 있으면\n",
    "    print('소수입니다')   # 출력\n",
    "else:     # 없으면 \n",
    "    print('소수가 아닙니다.')    # 출력"
   ]
  },
  {
   "cell_type": "code",
   "execution_count": 1,
   "metadata": {},
   "outputs": [
    {
     "name": "stdout",
     "output_type": "stream",
     "text": [
      "asdf429fkgs94\n",
      "str:42994\n",
      "int:asdffkgs\n"
     ]
    }
   ],
   "source": [
    "num=[]     # 숫자 담을 리스트 생성\n",
    "string=[]   # 문자 담을 리스트 생성\n",
    "words=input()   # 입력받음\n",
    "for i in words:   # 문자마다 돌면서\n",
    "    if i.isdigit():   # 숫자면\n",
    "        num.append(i)    # 숫자 리스트에 담음\n",
    "    else:    # 아니면\n",
    "        string.append(i)   # 문자 리스트에 담음\n",
    "print('str:{}\\nint:{}'.format(''.join(num),''.join(string)))  # join을 사용하여 빈칸없이 출력"
   ]
  },
  {
   "cell_type": "code",
   "execution_count": 15,
   "metadata": {},
   "outputs": [
    {
     "name": "stdout",
     "output_type": "stream",
     "text": [
      "8 명\n",
      "3 명\n",
      "이성연 전경헌 강상희 송정환 김지완 박민호 이유덕 이재영 김재성 최승혁 박영서 권종표\n",
      "강상희 권종표 김재성 김지완 박민호 박영서 송정환 이성연 이유덕 이재영 전경헌 최승혁\n"
     ]
    }
   ],
   "source": [
    "#1\n",
    "names =\"이유덕,이재영,권종표,이재영,박민호,강상희,이재영,김지완,최승혁,이성연,박영서,박민호,전경헌,송정환,김재성,이유덕,전경헌\".split(\",\")\n",
    "name=list(names) # names를 리스트 형태로 변환\n",
    "cnt=0  # cnt 변수 0 설정\n",
    "for i in name:   # name 이름마다\n",
    "    if i[0]=='이' or i[0]=='김':  # 첫번째 글자가 이나 김이면\n",
    "        cnt+=1     # cnt+1\n",
    "print(cnt,'명')    #  몇명인지 출력\n",
    "\n",
    "#2\n",
    "print(name.count('이재영'),'명')   # 이재영미 몇명인지 출력\n",
    "\n",
    "#3\n",
    "print(' '.join(set(name)))   # set으로 중복제거 후 join으로 한칸뛴 형태로 출력\n",
    "\n",
    "#4\n",
    "print(' '.join(sorted(set(name))))    # sorted하여 오름차순 정렬 후 join"
   ]
  },
  {
   "cell_type": "code",
   "execution_count": 6,
   "metadata": {},
   "outputs": [
    {
     "name": "stdout",
     "output_type": "stream",
     "text": [
      "3이 표시되는 시간: 29700 초\n"
     ]
    }
   ],
   "source": [
    "hour=0   # 시간 변수\n",
    "min=0    # 분 변수\n",
    "cnt=0    # 3이 있는 초\n",
    "\n",
    "while hour<24:   # hour가 24가 되기 전까지\n",
    "    if hour//10==3 or hour%10==3 or min//10==3 or min%10==3:   # hour,min의 10의자리,1의자리가 3이면\n",
    "        cnt+=60     # cnt+60초\n",
    "    min+=1          # 1분씩 늘림\n",
    "    if min==60:    # 분이 60초가 되면\n",
    "        hour+=1    # hour을 1더하고\n",
    "        min=0      # min을 0으로 초기화\n",
    "        \n",
    "print('3이 표시되는 시간:',cnt,'초')        # 3이 있었던 초 표시"
   ]
  },
  {
   "cell_type": "code",
   "execution_count": 9,
   "metadata": {},
   "outputs": [
    {
     "name": "stdout",
     "output_type": "stream",
     "text": [
      "[[5, 4, 6, 2, 1], [7, 8, 9]]\n"
     ]
    }
   ],
   "source": [
    "import copy\n",
    "x=[5,4,3,2,1]\n",
    "y=[7,8,9]\n",
    "z=[x,y]\n",
    "a=copy.copy(z)\n",
    "x[2]=6\n",
    "print(a)"
   ]
  },
  {
   "cell_type": "code",
   "execution_count": 11,
   "metadata": {},
   "outputs": [
    {
     "name": "stdout",
     "output_type": "stream",
     "text": [
      "('p', 'y', 't', 'h', 'o', 'n')\n"
     ]
    }
   ],
   "source": [
    "x='python'\n",
    "print(tuple(x))"
   ]
  },
  {
   "cell_type": "code",
   "execution_count": 14,
   "metadata": {},
   "outputs": [
    {
     "name": "stdout",
     "output_type": "stream",
     "text": [
      "!hdsfjka!888dfasdfd9dsaf99f9@@@\n",
      "hdsfjkadfasdfddsaff\n",
      "8889999\n",
      "!!@@@\n"
     ]
    }
   ],
   "source": [
    "num=[]     # 숫자 담을 리스트 생성\n",
    "string=[]   # 문자 담을 리스트 생성\n",
    "special=[]\n",
    "words=input()   # 입력받음\n",
    "\n",
    "for i in words:   # 문자마다 돌면서\n",
    "    if i.isdigit():   # 숫자면\n",
    "        num.append(i)    # 숫자 리스트에 담음\n",
    "    elif i.isalpha():    # 문자면 \n",
    "        string.append(i)  # 문자리스트에 담음\n",
    "    else:    # 아니면\n",
    "        special.append(i)   # 스페셜 리스트에 담음\n",
    "print('{}\\n{}\\n{}'.format(''.join(string),''.join(num),''.join(special)))  # join을 사용하여 빈칸없이 출력"
   ]
  },
  {
   "cell_type": "code",
   "execution_count": 18,
   "metadata": {},
   "outputs": [
    {
     "name": "stdout",
     "output_type": "stream",
     "text": [
      "**Docoding123456789everyday##\n",
      "Docodingeveryday\n",
      "123456789\n",
      "**##\n"
     ]
    }
   ],
   "source": [
    "class cwords:   # 클래스 생성\n",
    "    \n",
    "    def chnum(words):     # 숫자 함수 선언\n",
    "        for num in words:    # 문자마다 돌면서\n",
    "            if num.isdigit():  # 숫자면 \n",
    "                print(num,end='')   # 출력\n",
    "        print()    # 다하고 한칸 뜀\n",
    "                \n",
    "                \n",
    "    def chstring(words):   # 문자 함수 선언\n",
    "        for string in words:   # 문자마다 돌면서\n",
    "            if string.isalpha():    # 문자면 \n",
    "                print(string,end='')   # 출력\n",
    "        print()   # 다하고 한칸 뜀\n",
    "                \n",
    "    def chspecial(words):   # 특수문자 함수 선언\n",
    "        for special in words:   # 문자마다 돌면서\n",
    "            if special.isalpha()==False and special.isdigit()==False:  # 문자, 숫자가 아니면\n",
    "                print(special,end='')   # 특수문자 출력\n",
    "        print()   # 다하고 한칸 뜀\n",
    "                \n",
    "                \n",
    "word=input()   # 입력 받음\n",
    "cwords.chstring(word)   # 문자 출력\n",
    "cwords.chnum(word)   # 숫자 출력\n",
    "cwords.chspecial(word)  # 특수문자 출력"
   ]
  },
  {
   "cell_type": "code",
   "execution_count": 5,
   "metadata": {},
   "outputs": [
    {
     "name": "stdout",
     "output_type": "stream",
     "text": [
      "dsajflkd23435rdksal&*\n",
      "dsajflkdrdksal\n",
      "23435\n",
      "&*\n"
     ]
    }
   ],
   "source": [
    "import re\n",
    "\n",
    "word=input()  # 입력\n",
    "\n",
    "st=re.compile('[a-zA-Z]')   # 문자 찾음\n",
    "n=re.compile('[0-9]')   # 숫자 찾음\n",
    "sp=re.compile('\\W')   # 둘다 아닌거 찾음\n",
    "print(''.join(st.findall(word)))  # 문자 출력\n",
    "print(''.join(n.findall(word)))   # 숫자 출력\n",
    "print(''.join(sp.findall(word)))  # 나머지 출력"
   ]
  },
  {
   "cell_type": "code",
   "execution_count": 14,
   "metadata": {},
   "outputs": [
    {
     "name": "stdout",
     "output_type": "stream",
     "text": [
      "13\n",
      "13th\n"
     ]
    }
   ],
   "source": [
    "def num(n):                      # 함수 선언\n",
    "    if n[-1]=='1' and len(n)<2:   # 한자리수, 끝자리가 1이면\n",
    "        print('{}st'.format(n))    # 출력\n",
    "    elif n[-1]=='2'and len(n)<2:  # 한자리수, 끝자리가 1이면\n",
    "        print('{}nd'.format(n))    # 출력\n",
    "    elif n[-1]=='3'and len(n)<2:  # 한자리수, 끝자리가 1이면\n",
    "        print('{}rd'.format(n))     # 출력\n",
    "    elif n[-1]=='1' and len(n)==2 and n[0]!='1':   # 두자리수, 10의 자리가 1이 아니고 끝자리가 1이면\n",
    "        print('{}st'.format(n))     # 출력\n",
    "    elif n[-1]=='2'and len(n)==2 and n[0]!='1':   # 두자리수, 10의 자리가 1이 아니고 끝자리가 2이면\n",
    "        print('{}nd'.format(n))     # 출력\n",
    "    elif n[-1]=='3'and len(n)==2 and n[0]!='1':    # 두자리수,10의 자리가 1이 아니고 끝자리가 3이면\n",
    "        print('{}rd'.format(n))     # 출력\n",
    "    else:    # 이외는 \n",
    "        print('{}th'.format(n))   # 출력\n",
    "        \n",
    "number=input()   # 입력 받음\n",
    "num(number)     # 출력  # 출력"
   ]
  },
  {
   "cell_type": "code",
   "execution_count": 2,
   "metadata": {},
   "outputs": [
    {
     "name": "stdout",
     "output_type": "stream",
     "text": [
      "5*uyft4*yut*9*7*3*9\n"
     ]
    }
   ],
   "source": [
    "def cnvt(s):    # 함수 선언\n",
    "    new=[]     # 새로운 문자 담을 리스트 생성\n",
    "    for word_index in range(len(s)):   # 문자 수만큼 돌면서 \n",
    "        if (word_index+1)%2==0 and s[word_index].isdigit():  # 인덱스+1이 2의 배수이고 숫자문자이면\n",
    "            new.append('*')   # 리스트에 저장\n",
    "        else:   # 그 이외\n",
    "            new.append(s[word_index])   # 리스트에 저장\n",
    "    return ''.join(new)    # new 리턴\n",
    "\n",
    "print(cnvt(\"57uyft43yut89574389\"))   # 출력"
   ]
  },
  {
   "cell_type": "code",
   "execution_count": 54,
   "metadata": {},
   "outputs": [
    {
     "name": "stdout",
     "output_type": "stream",
     "text": [
      "(3, 4)\n"
     ]
    }
   ],
   "source": [
    "# 재귀 이용\n",
    "\n",
    "def DFS(s,k):   # 함수 선언\n",
    "    global min_len,ans   # 글로벌 변수 선언\n",
    "    if s==2:    # s가 2가되면 (숫자 2개를 고르면)\n",
    "        if abs(l[0]-l[1])<min_len:   # 두 사이의 차가 최소 보다 작으면\n",
    "            min_len= abs(l[0]-l[1])   # 최소수가 바뀜\n",
    "            ans=tuple(l)    #  ans에 할당\n",
    "        \n",
    "    else:      # s가 2이외의 수이면\n",
    "        for i in range(k,len(S)):  # k 번째 수부터 끝까지 돔\n",
    "            l[s]=S[i]   # ,ㅣ리스트에 S[i]를 저장\n",
    "            DFS(s+1,k+i+1)   # s,k를 늘리면서 재귀함(s는 숫자 갯수 임으로 1씩늘리고 k는 전에 했던 수보다 크기에 i+1을 늘림)\n",
    "\n",
    "            \n",
    "S=[1,3,4,8,13,17,20]   # S 입력받음\n",
    "ans=()    # ans 튜플 선언\n",
    "min_len=max(S)    # 초기 최소값은 S의 최대값으로 선언\n",
    "l=[0]*2     # 0으로 초기호된 크기 2의 리스트 생성\n",
    "DFS(0,0)    # 함수 호출\n",
    "print(ans)   # ans 출력\n"
   ]
  },
  {
   "cell_type": "code",
   "execution_count": 57,
   "metadata": {},
   "outputs": [
    {
     "name": "stdout",
     "output_type": "stream",
     "text": [
      "(3, 4)\n"
     ]
    }
   ],
   "source": [
    "S=[1,3,4,8,13,17,20]    # S 입력받음\n",
    "min_len=max(S)    # 초기 최소값은 S의 최대값으로 선언\n",
    "ans=()      # ans 튜플 선언\n",
    "for i in range(len(S)):    # 전체 돌면서 하나씩 확인\n",
    "    for j in range(i+1,len(S)):   # i+1 부터 시작하여 끝까지 확인\n",
    "        if abs(S[i]-S[j])<min_len:    # 두 사이의 차가 최소 보다 작으면\n",
    "            min_len=abs(S[i]-S[j])    # 최소수가 바뀜\n",
    "            ans=(S[i],S[j])     #  ans에 할당\n",
    "            \n",
    "print(ans)     # ans 출력"
   ]
  },
  {
   "cell_type": "code",
   "execution_count": 8,
   "metadata": {},
   "outputs": [
    {
     "name": "stdout",
     "output_type": "stream",
     "text": [
      "aaaabbbcczzzza\n",
      "a4b3c2z4a1\n"
     ]
    }
   ],
   "source": [
    "def find(words):     # 함수 선언\n",
    "    cnt=1       # 문자 숫자 변수 생성\n",
    "    tot=0       # 전체 수 변수 생성\n",
    "    for word in range(len(words)-1):   # 첫번째 부터 마지막 전 문자까지 반복\n",
    "        if words[word]==words[word+1]:  # 다음 문자와 같으면\n",
    "            cnt+=1    # cnt+1\n",
    "        else:    # 다음 문자와 다르면\n",
    "            print(words[word],cnt,end='',sep='')   # 현재 문자, 갯수 출력\n",
    "            tot+=cnt    # 전체 숫자에 문자별 숫자 더함\n",
    "            cnt=1    # cnt를 다시 1로 선언\n",
    "    if tot!=len(words):   # 총문자수와 전체 문자수가 다르면\n",
    "        print(words[-1],cnt,sep='')   # 마지막 문자수, cnt 출력\n",
    "\n",
    "string=input()    # 문자 입력 받음\n",
    "find(string)     # 함수 호출"
   ]
  },
  {
   "cell_type": "code",
   "execution_count": 11,
   "metadata": {},
   "outputs": [
    {
     "name": "stdout",
     "output_type": "stream",
     "text": [
      "-1\n",
      "output: -1st\n"
     ]
    }
   ],
   "source": [
    "class test():   # 클래스 생성\n",
    "    \n",
    "    def __init__(self,n): # 함수 생성\n",
    "        self.n=n   # 인스턴스 변수 생성 및 초기화\n",
    "    \n",
    "    def ordinal(self,n):   # 함수 생성\n",
    "        if str(n)[-1]=='1' and len(str(n))<2:   # 한자리수, 끝자리가 1이면\n",
    "            print('output: {}st'.format(n))    # 출력\n",
    "        elif str(n)[-1]=='2' and len(str(n))<2:  # 한자리수, 끝자리가 1이면\n",
    "            print('output: {}nd'.format(n))    # 출력\n",
    "        elif str(n)[-1]=='3' and len(str(n))<2:  # 한자리수, 끝자리가 1이면\n",
    "            print('output: {}rd'.format(n))     # 출력\n",
    "        elif str(n)[-1]=='1' and len(str(n))==2 and str(n)[0]!='1':   # 두자리수, 10의 자리가 1이 아니고 끝자리가 1이면\n",
    "            print('output: {}st'.format(n))     # 출력\n",
    "        elif str(n)[-1]=='2' and len(str(n))==2 and str(n)[0]!='1':   # 두자리수, 10의 자리가 1이 아니고 끝자리가 2이면\n",
    "            print('output: {}nd'.format(n))     # 출력\n",
    "        elif str(n)[-1]=='3' and len(str(n))==2 and str(n)[0]!='1':    # 두자리수,10의 자리가 1이 아니고 끝자리가 3이면\n",
    "            print('output: {}rd'.format(n))     # 출력\n",
    "        else:    # 이외는 \n",
    "            print('{}th'.format(n))   # 출력\n",
    "\n",
    "            \n",
    "try:    # try \n",
    "    number=int(input())   # 입력받음\n",
    "    wow=test(number)     # test class의 인자 입력 받음\n",
    "    wow.ordinal(number)  # test class의 ordinal 결과 출력받음\n",
    "except:    # error이면\n",
    "    print('오류입니다')   # 출력"
   ]
  },
  {
   "cell_type": "code",
   "execution_count": 12,
   "metadata": {},
   "outputs": [
    {
     "name": "stdout",
     "output_type": "stream",
     "text": [
      "111\n",
      "111th\n"
     ]
    }
   ],
   "source": [
    "try:    # try \n",
    "    number=int(input())   # 입력받음\n",
    "    wow=test(number)     # test class의 인자 입력 받음\n",
    "    wow.ordinal(number)  # test class의 ordinal 결과 출력받음\n",
    "except:    # error이면\n",
    "    print('오류입니다')   # 출력"
   ]
  },
  {
   "cell_type": "code",
   "execution_count": 13,
   "metadata": {},
   "outputs": [
    {
     "name": "stdout",
     "output_type": "stream",
     "text": [
      "3\n",
      "output: 3rd\n"
     ]
    }
   ],
   "source": [
    "try:    # try \n",
    "    number=int(input())   # 입력받음\n",
    "    wow=test(number)     # test class의 인자 입력 받음\n",
    "    wow.ordinal(number)  # test class의 ordinal 결과 출력받음\n",
    "except:    # error이면\n",
    "    print('오류입니다')   # 출력"
   ]
  },
  {
   "cell_type": "code",
   "execution_count": 14,
   "metadata": {},
   "outputs": [
    {
     "name": "stdout",
     "output_type": "stream",
     "text": [
      "e\n",
      "오류입니다\n"
     ]
    }
   ],
   "source": [
    "try:    # try \n",
    "    number=int(input())   # 입력받음\n",
    "    wow=test(number)     # test class의 인자 입력 받음\n",
    "    wow.ordinal(number)  # test class의 ordinal 결과 출력받음\n",
    "except:    # error이면\n",
    "    print('오류입니다')   # 출력"
   ]
  },
  {
   "cell_type": "code",
   "execution_count": 2,
   "metadata": {},
   "outputs": [
    {
     "name": "stdout",
     "output_type": "stream",
     "text": [
      "True\n"
     ]
    }
   ],
   "source": [
    "def is_multiple(f_num,num):    # 함수 선언\n",
    "    ch=[0]*(f_num+1)    # 체크리스트\n",
    "    for i in range(0,f_num+1,num):  # f_num까지 num만큼 커지면서 확인\n",
    "        ch[i]=1   # 체크리스트를 1로 변환\n",
    "    \n",
    "    if ch[f_num]==1:   # f_num번째 ch가 1이면\n",
    "        return True   # return true\n",
    "    else:   # 아니면\n",
    "        return False  # return false\n",
    "print(is_multiple(635,5))  # 함수 호출 출력"
   ]
  },
  {
   "cell_type": "code",
   "execution_count": 14,
   "metadata": {},
   "outputs": [
    {
     "name": "stdout",
     "output_type": "stream",
     "text": [
      "sample input\n",
      "3\n",
      "6241\n",
      "8191\n",
      "0\n",
      "sample out\n",
      "no\n",
      "yes\n",
      "no\n"
     ]
    }
   ],
   "source": [
    "ans=[]    # 답 저장할 리스트 생성\n",
    "print('sample input')   # 출력\n",
    "\n",
    "while True:   # 참일 동안 반복\n",
    "    n=int(input())   #  n개의 전구인지 입력 받음\n",
    "    if n==0:   # n 이 0이면\n",
    "        print('sample out')   # 출력\n",
    "        print('\\n'.join(ans))   # 그동안 저장한 리스트 출력\n",
    "        break   # 무한 루프에서 탈출\n",
    "    else:   # n이 0이 아니면\n",
    "        ch=[0]*(n+1)   # 불끄고 키는 리스트 생성\n",
    "        for i in range(1,n+1):  # 1부터 n번째 까지\n",
    "            for j in range(i,n+1,i):   # i부터 n+1까지 i씩 커지면서(i의 배수)\n",
    "                if ch[j]==0:   # 불이 꺼져있으면\n",
    "                    ch[j]=1    # 불을 킴\n",
    "                else:    # 불이 켜져있으면\n",
    "                    ch[j]=0   # 불을 끔\n",
    "        if ch[-1]==0:   # 마지막 전구가 꺼져있으면\n",
    "            ans.append('no')   # no 저장\n",
    "        else:   # 마지막 전구가 켜져있으면\n",
    "            ans.append('yes')   # yes 저장\n",
    "            "
   ]
  },
  {
   "cell_type": "code",
   "execution_count": 7,
   "metadata": {},
   "outputs": [
    {
     "name": "stdout",
     "output_type": "stream",
     "text": [
      "25\n"
     ]
    }
   ],
   "source": [
    "def solution(n):  # 함수 생성\n",
    "    prime=[]     # 소수 담을 리스트\n",
    "    ch=[0]*(n+1)   # 소수 여부 체크 리스트\n",
    "    for i in range(2,n+1):   # 소수는 2부터 100까지 카운트\n",
    "        if ch[i]==0:       # 체크리스트가 0이면\n",
    "            prime.append(i)    # 소수리스트에 넣음\n",
    "            ch[i]==1      # 체크리스트를 1로 바꿈\n",
    "        for j in range(i,n+1,i):   # i부터 i씩 커지며 100까지 \n",
    "            if ch[j]==0:    # 체크 리스트가 0이면\n",
    "                ch[j]=1     # 그 수를 1로 바꿈\n",
    "    return prime   # 소수 리스트 return\n",
    "\n",
    "print(len(solution(100)))  # 출력"
   ]
  },
  {
   "cell_type": "code",
   "execution_count": 21,
   "metadata": {},
   "outputs": [
    {
     "name": "stdout",
     "output_type": "stream",
     "text": [
      "['a1', 'b1', 'a2', 'b2', 'a3', 'a4', 'an', 'bn']\n"
     ]
    }
   ],
   "source": [
    "a=['a1','a2','a3','a4','an','b1','b2','bn']\n",
    "\n",
    "def sorting(string):  # 함수 선언\n",
    "    tmp=[]   # 빈 tmp 리스트 생성\n",
    "    for i in string:  # string 단어마다\n",
    "        tmp.append(i[-1]+i[0])  # 둘의 위치를 바꾸어 tmp에 저장\n",
    "    tmp.sort()  # 정렬\n",
    "    for j in range(len(tmp)):  # tmp의 문자 마다\n",
    "        tmp[j]=tmp[j][-1]+tmp[j][0]  # 두 단어의 위치를 바꾸어 저장\n",
    "    return tmp  # return tmp\n",
    "\n",
    "print(sorting(a))   # 함수 호출 출력\n"
   ]
  },
  {
   "cell_type": "code",
   "execution_count": null,
   "metadata": {},
   "outputs": [
    {
     "name": "stdout",
     "output_type": "stream",
     "text": [
      "Input = 1,2,3,4\n"
     ]
    }
   ],
   "source": [
    "a=input('Input = ').split(',')  # ,를 기준으로 입력 받음 \n",
    "b=input('Input = ').split(',')  # ,를 기준으로 입력 받음\n",
    "\n",
    "ans=[]   # 빈 리스트\n",
    "for i,j in zip(a,b):   # a,b에서 각 값마다\n",
    "    ans.append([i,j])   # ans에 [i,j]형태로 append\n",
    "print(ans)   # ans 출력"
   ]
  },
  {
   "cell_type": "code",
   "execution_count": 2,
   "metadata": {},
   "outputs": [
    {
     "name": "stdout",
     "output_type": "stream",
     "text": [
      "['a1', 'b1', 'a2', 'b2', 'a3', 'b3', 'an', 'bn']\n"
     ]
    }
   ],
   "source": [
    "class test():  # class 생성\n",
    "    \n",
    "    def __init__(self,n): # 함수 생성\n",
    "        self.n=n   # 인스턴스 변수 생성 및 초기화\n",
    "        \n",
    "    def sorting(self,string):\n",
    "        tmp=[]   # 빈 tmp 리스트 생성\n",
    "        for i in string:  # string 단어마다\n",
    "            tmp.append(i[-1]+i[0])  # 둘의 위치를 바꾸어 tmp에 저장\n",
    "        tmp.sort()  # 정렬\n",
    "        for j in range(len(tmp)):  # tmp의 문자 마다\n",
    "            tmp[j]=tmp[j][-1]+tmp[j][0]  # 두 단어의 위치를 바꾸어 저장\n",
    "        return tmp  # return tmp\n",
    "\n",
    "try:  # try\n",
    "    a=['a1','a2','a3','an','b1','b2','b3','bn']   # 입력 출력받음\n",
    "    wow=test(a)     # test class의 인자 입력 받음\n",
    "    print(wow.sorting(a))  # test class의 ordinal 결과 출력받음\n",
    "except:    # error이면\n",
    "    print('오류입니다')   # 출력"
   ]
  },
  {
   "cell_type": "code",
   "execution_count": 1,
   "metadata": {},
   "outputs": [
    {
     "name": "stdout",
     "output_type": "stream",
     "text": [
      "4\n"
     ]
    }
   ],
   "source": [
    "def find(x,y):\n",
    "    t=x%y\n",
    "    x,y=y,t\n",
    "    if x%y==0:\n",
    "        return y\n",
    "    else:\n",
    "        find(x,y)\n",
    "print(find(12,8))"
   ]
  },
  {
   "cell_type": "code",
   "execution_count": 25,
   "metadata": {},
   "outputs": [
    {
     "name": "stdout",
     "output_type": "stream",
     "text": [
      "59\n",
      "#[4, 12]\n"
     ]
    }
   ],
   "source": [
    "n=int(input())  # n 입력 받음\n",
    "\n",
    "def solution(n):  # 함수 선언\n",
    "    people=1    # 사람수\n",
    "    shake=0     # 총악수 수\n",
    "    minsoo_left=0   # 민수가 몇번 악수하고 나갔는지\n",
    "    \n",
    "    while shake<n: # 총악수가 입력받은 n보다 작으면\n",
    "        people+=1  # 사람 수 +1\n",
    "        shake=(people)*(people-1)//2  # 총악수는 자기 자신을뺀 수의 합 \n",
    "    \n",
    "    minsoo_left=people-(shake-n)-1  # 민수가 나간 시점= 총사람수 - 총악수 -n -1 \n",
    "    return('#{}'.format([minsoo_left,people]))   # 나간 시점, 총 사람 수 출력\n",
    "    \n",
    "\n",
    "print(solution(n))  # 출력"
   ]
  },
  {
   "cell_type": "code",
   "execution_count": 3,
   "metadata": {},
   "outputs": [
    {
     "name": "stdout",
     "output_type": "stream",
     "text": [
      "())))(((()\n",
      "N0\n"
     ]
    }
   ],
   "source": [
    "words=input()  # 문자열 입력\n",
    "letter=['(',')','[',']','{','}']   # 처리해야할 문자 리스트\n",
    "stack=[]   # 스택 리스트\n",
    "for word in words:  # 문자열에서 단어마다\n",
    "    if word in letter:   # 단어가 처리해야할 문자리스트에 있으면\n",
    "        if len(stack)==0:   # 스택 리스트에 아무것도 없으면\n",
    "            stack.append(word)   # 문자를 스택에 넣음\n",
    "        else:   # 스택 리스트에 뭐라도 있으면\n",
    "            if word==letter[0] or word==letter[2] or word==letter[4]:  # 문자가 (,{,[,이면\n",
    "                stack.append(word)   # 스택리스트에 넣음\n",
    "            elif word==letter[1] and stack[-1]==letter[0]:  # 문자가 )이고 스택리스트 마지막이 (이면\n",
    "                stack.pop()    # 스택 리스트 마지막 값 삭제\n",
    "            elif word==letter[3] and stack[-1]==letter[2]:  # 문자가 ]이고 스택리스트 마지막이 [이면\n",
    "                stack.pop()    # 스택 리스트 마지막 값 삭제\n",
    "            elif word==letter[5] and stack[-1]==letter[4]: # 문자가 }이고 스택리스트 마지막이 {이면\n",
    "                stack.pop()   # 스택 리스트 마지막 값 삭제\n",
    "            else:   # 그 이외에는\n",
    "                break  # 반복문에서 나감\n",
    "\n",
    "if len(stack)==0:  # 스택리스트에 아무것도 없으면\n",
    "    print('YES')   # 출력\n",
    "else:             # 스택리스트에 뭐라도 있으면\n",
    "    print('N0')    # 출력\n",
    "\n"
   ]
  },
  {
   "cell_type": "code",
   "execution_count": 14,
   "metadata": {},
   "outputs": [
    {
     "name": "stdout",
     "output_type": "stream",
     "text": [
      "1 2 6 5 4 9 8\n",
      "NO\n"
     ]
    }
   ],
   "source": [
    "def nlist(string):  # 함수 선언\n",
    "    min_n=min(string)  # 최소 수\n",
    "    max_n=max(string)  # 최대 수\n",
    "    set_string=set(string)   # 세트 선언\n",
    "    if len(set_string)==max_n-min_n+1 and len(string)==len(set_string): # 최대-최소값+1이 string길이와 같고 스트링길이와 set길이가 같으면\n",
    "        return (\"YES\") # 리턴 예스\n",
    "    else:   # 이외에는\n",
    "        return (\"NO\")  # 리턴 노\n",
    "    \n",
    "user_input=list(map(int,input().split()))   # 변수 리스트화하여 입력\n",
    "print(nlist(user_input))  # 출력"
   ]
  },
  {
   "cell_type": "code",
   "execution_count": null,
   "metadata": {},
   "outputs": [],
   "source": []
  }
 ],
 "metadata": {
  "kernelspec": {
   "display_name": "Python 3",
   "language": "python",
   "name": "python3"
  },
  "language_info": {
   "codemirror_mode": {
    "name": "ipython",
    "version": 3
   },
   "file_extension": ".py",
   "mimetype": "text/x-python",
   "name": "python",
   "nbconvert_exporter": "python",
   "pygments_lexer": "ipython3",
   "version": "3.7.7"
  }
 },
 "nbformat": 4,
 "nbformat_minor": 4
}
