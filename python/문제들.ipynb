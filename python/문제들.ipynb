{
 "cells": [
  {
   "cell_type": "code",
   "execution_count": 3,
   "metadata": {},
   "outputs": [
    {
     "name": "stdout",
     "output_type": "stream",
     "text": [
      "234168\n"
     ]
    }
   ],
   "source": [
    "tot=0                       # 합을 입력할 변수 tot초기값을 0으로 지정\n",
    "for i in range(1,1001):     # for문을 사용하여 1부터 1000까지 돌림\n",
    "    if i%3==0 or i%5==0:   # i가 1 부터 1000까지 숫자 중 3또는 5로 나누었을때 나머지가 0이되는 경우에 tot에 i를 더함\n",
    "        tot+=i              \n",
    "\n",
    "print(tot)"
   ]
  },
  {
   "cell_type": "code",
   "execution_count": 4,
   "metadata": {},
   "outputs": [
    {
     "name": "stdout",
     "output_type": "stream",
     "text": [
      "234168\n"
     ]
    }
   ],
   "source": [
    "tot=0\n",
    "i=1\n",
    "while i<1001:              # while문을 사용하여 i가 1001 미만일때까지 반복\n",
    "    if i%3==0 or i%5==0:   # i가 1 부터 1000까지 숫자 중 3또는 5로 나누었을때 나머지가 0이되는 경우에 tot에 i를 더함\n",
    "        tot+=i\n",
    "    i+=1                    # 반복할때 마다 i값을 1씩 증가\n",
    "\n",
    "print(tot)"
   ]
  },
  {
   "cell_type": "code",
   "execution_count": 9,
   "metadata": {},
   "outputs": [
    {
     "name": "stdout",
     "output_type": "stream",
     "text": [
      "원영 원영 은비 은비 은비 은비 채연 채연\n",
      "은비(이)가 총 4로 반장이 되었습니다.\n"
     ]
    }
   ],
   "source": [
    "l=list(input().split())\n",
    "l_set=set(l)\n",
    "cnt=0\n",
    "for i in l_set:\n",
    "    if l.count(i)>cnt:\n",
    "        cnt=l.count(i)\n",
    "        tmp=i\n",
    "\n",
    "print('{0}(이)가 총 {1}로 반장이 되었습니다.'.format(tmp,cnt))"
   ]
  },
  {
   "cell_type": "code",
   "execution_count": 14,
   "metadata": {},
   "outputs": [
    {
     "name": "stdout",
     "output_type": "stream",
     "text": [
      "querty\n",
      "euerty\n"
     ]
    }
   ],
   "source": [
    "n=input()\n",
    "n=n.replace('q','e')\n",
    "print(n)"
   ]
  },
  {
   "cell_type": "code",
   "execution_count": 29,
   "metadata": {},
   "outputs": [
    {
     "name": "stdout",
     "output_type": "stream",
     "text": [
      "2\n",
      "NO\n"
     ]
    }
   ],
   "source": [
    "n=int(input())\n",
    "f='YES'\n",
    "for i in range(2,n):\n",
    "    if n%i==0:\n",
    "        f='NO'\n",
    "        break\n",
    "if n==1:\n",
    "    f='NO'\n",
    "\n",
    "print(f)"
   ]
  },
  {
   "cell_type": "markdown",
   "metadata": {},
   "source": [
    "n=int(input())\n",
    "cnt=0\n",
    "for i in range(1,n+1):\n",
    "    if n%i==0:\n",
    "        cnt+=1\n",
    "if cnt==2:\n",
    "    print('YES')\n",
    "else:\n",
    "    print('NO')"
   ]
  },
  {
   "cell_type": "code",
   "execution_count": 32,
   "metadata": {},
   "outputs": [
    {
     "name": "stdout",
     "output_type": "stream",
     "text": [
      "10\n",
      "[2, 3, 5, 7]\n"
     ]
    }
   ],
   "source": [
    "n=int(input())\n",
    "l=[0]*(n+1)\n",
    "ans=[]\n",
    "for i in range(2,n+1):\n",
    "    if l[i]==0:\n",
    "        ans.append(i)  \n",
    "    for j in range(i,n+1,i):\n",
    "        l[j]=1\n",
    "print(ans)"
   ]
  },
  {
   "cell_type": "code",
   "execution_count": 34,
   "metadata": {},
   "outputs": [
    {
     "name": "stdout",
     "output_type": "stream",
     "text": [
      "3849\n",
      "24\n"
     ]
    }
   ],
   "source": [
    "num=input()\n",
    "tot=0\n",
    "for i in num:\n",
    "    tot+=int(i)\n",
    "print(tot)"
   ]
  },
  {
   "cell_type": "code",
   "execution_count": 38,
   "metadata": {},
   "outputs": [
    {
     "name": "stdout",
     "output_type": "stream",
     "text": [
      "1234\n",
      "10\n"
     ]
    }
   ],
   "source": [
    "print(sum(map(int,input())))"
   ]
  },
  {
   "cell_type": "code",
   "execution_count": 54,
   "metadata": {},
   "outputs": [
    {
     "name": "stdout",
     "output_type": "stream",
     "text": [
      "102\n"
     ]
    }
   ],
   "source": [
    "l=[]\n",
    "tot=0\n",
    "for i in range(1,21):\n",
    "    l.append(str(i))\n",
    "a=''.join(l)\n",
    "\n",
    "for j in a:\n",
    "    tot+=int(j)\n",
    "print(tot)"
   ]
  },
  {
   "cell_type": "code",
   "execution_count": 59,
   "metadata": {},
   "outputs": [
    {
     "name": "stdout",
     "output_type": "stream",
     "text": [
      "102\n"
     ]
    }
   ],
   "source": [
    "l=''\n",
    "for i in range(1,21):\n",
    "    l+=str(i)\n",
    "\n",
    "print(sum(map(int,l)))"
   ]
  },
  {
   "cell_type": "code",
   "execution_count": 62,
   "metadata": {},
   "outputs": [
    {
     "name": "stdout",
     "output_type": "stream",
     "text": [
      "20\n",
      "102\n"
     ]
    }
   ],
   "source": [
    "l=''\n",
    "for i in range(1,int(input())+1):\n",
    "    l+=str(i)\n",
    "\n",
    "print(sum(map(int,l)))"
   ]
  },
  {
   "cell_type": "code",
   "execution_count": null,
   "metadata": {},
   "outputs": [],
   "source": []
  }
 ],
 "metadata": {
  "kernelspec": {
   "display_name": "Python 3",
   "language": "python",
   "name": "python3"
  },
  "language_info": {
   "codemirror_mode": {
    "name": "ipython",
    "version": 3
   },
   "file_extension": ".py",
   "mimetype": "text/x-python",
   "name": "python",
   "nbconvert_exporter": "python",
   "pygments_lexer": "ipython3",
   "version": "3.7.7"
  }
 },
 "nbformat": 4,
 "nbformat_minor": 4
}
